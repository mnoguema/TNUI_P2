{
 "cells": [
  {
   "cell_type": "markdown",
   "metadata": {},
   "source": [
    "NOM: Marina Noguera i Gabriel Vayá"
   ]
  },
  {
   "cell_type": "markdown",
   "metadata": {
    "id": "fQcQAvOO7_Hb"
   },
   "source": [
    "# Recomanador Simple"
   ]
  },
  {
   "cell_type": "markdown",
   "metadata": {
    "id": "jA23uCs6wksC"
   },
   "source": [
    "## 1. INFORMACIÓ "
   ]
  },
  {
   "cell_type": "markdown",
   "metadata": {},
   "source": [
    "### 1.1. Abans de començar...\n",
    "\n",
    "**\\+ Durant la pràctica, solament es podran fer servir les següents llibreries**:\n",
    "\n",
    "`Pandas, Numpy, Itertools`\n",
    "\n",
    "*Nota: A més de les que ja es troben presents en la 1a cel·la i funcions natives de Python*\n",
    "\n",
    "**\\+ No es poden modificar les definicions de les funcions donades, ni canviar els noms de les variables i paràmetres ja donats**\n",
    "\n",
    "Això no implica però que els hàgiu de fer servir. És a dir, que la funció tingui un paràmetre anomenat `df` no implica que l'hàgiu de fer servir, si no ho trobeu convenient.\n",
    "\n",
    "**\\+ En les funcions, s'especifica que serà i de quin tipus cada un dels paràmetres, cal respectar-ho**\n",
    "\n",
    "Per exemple (ho posarà en el pydoc de la funció), `df` sempre serà indicatiu del `Pandas.DataFrame` de les dades. Durant la correcció, els paràmetres (i específicament `df`) no contindran les mateixes dades que en aquest notebook, si bé si seran del mateix tipus! Per tant, no us refieu de què tinguin, per exemple, el mateix nombre de files."
   ]
  },
  {
   "cell_type": "markdown",
   "metadata": {
    "id": "9rsNZQEvueYW"
   },
   "source": [
    "### 1.2. Consum general"
   ]
  },
  {
   "cell_type": "markdown",
   "metadata": {
    "id": "Ve8NdxrB7_Hc"
   },
   "source": [
    "La base de dades [movielens-1M](http://www.grouplens.org/node/73) conté 1,000,209 puntuacions de 3.900 pel·licules fetes l'any 2000 per 6.040 usuaris anònims del recomanador online [MovieLens](http://www.movielens.org/). "
   ]
  },
  {
   "cell_type": "markdown",
   "metadata": {
    "id": "P6urN1BW7_Hd"
   },
   "source": [
    "El consum total de tots els usuaris s'hi pot trobar al document \"ratings.dat\" el format següent:\n",
    "\n",
    "    UserID::MovieID::Rating::Timestamp\n",
    "\n",
    "- **UserIDs** usuaris amb id's entre 1 i 6040 \n",
    "- **MovieIDs** pelis amb id's entre 1 i 3952\n",
    "- **Ratings** són les puntuacions en una escala de 5 estrelles.\n",
    "- **Timestamp** representat en segons\n",
    "\n",
    "> Cada usuari té com a mínim 20 interaccions consumides."
   ]
  },
  {
   "cell_type": "markdown",
   "metadata": {
    "id": "AnjjZz6Sr_de"
   },
   "source": [
    "### 1.3. Usuaris\n"
   ]
  },
  {
   "cell_type": "markdown",
   "metadata": {
    "id": "NczG1-ixuu-D"
   },
   "source": [
    "\n",
    "Al fitxer \"users.dat\" hi trobem la informació referent a cadascun dels usuaris en el següent format:\n",
    "\n",
    "        UserID::Gender::Age::Occupation::Zip-code\n",
    "\n",
    "- **Gender** ve donat per \"M\" per home i \"F\" per dona.\n",
    "- **Age** està representada de la següent forma:\n",
    "\n",
    "\t*  1:  \"Under 18\"\n",
    "\t* 18:  \"18-24\"\n",
    "\t* 25:  \"25-34\"\n",
    "\t* 35:  \"35-44\"\n",
    "\t* 45:  \"45-49\"\n",
    "\t* 50:  \"50-55\"\n",
    "\t* 56:  \"56+\"\n",
    "\n",
    "- **Occupation** es tria entre les següents opcions:\n",
    "\n",
    "\t*  0:  \"other\" or not specified\n",
    "\t*  1:  \"academic/educator\"\n",
    "\t*  2:  \"artist\"\n",
    "\t*  3:  \"clerical/admin\"\n",
    "\t*  4:  \"college/grad student\"\n",
    "\t*  5:  \"customer service\"\n",
    "\t*  6:  \"doctor/health care\"\n",
    "\t*  7:  \"executive/managerial\"\n",
    "\t*  8:  \"farmer\"\n",
    "\t*  9:  \"homemaker\"\n",
    "\t* 10:  \"K-12 student\"\n",
    "\t* 11:  \"lawyer\"\n",
    "\t* 12:  \"programmer\"\n",
    "\t* 13:  \"retired\"\n",
    "\t* 14:  \"sales/marketing\"\n",
    "\t* 15:  \"scientist\"\n",
    "\t* 16:  \"self-employed\"\n",
    "\t* 17:  \"technician/engineer\"\n",
    "\t* 18:  \"tradesman/craftsman\"\n",
    "\t* 19:  \"unemployed\"\n",
    "\t* 20:  \"writer\"\n",
    "\n",
    "> Els usuaris han donat la informació voluntariament. Així doncs, alguns usuaris poden no tenir informació.\n"
   ]
  },
  {
   "cell_type": "markdown",
   "metadata": {
    "id": "7Usgj7Vgupkw"
   },
   "source": [
    "### 1.4. Películes\n"
   ]
  },
  {
   "cell_type": "markdown",
   "metadata": {
    "id": "W9l--Lg7up4i"
   },
   "source": [
    "\n",
    "Al fitxer \"movies.dat\" hi trobem la informació referent a cadascuna de les películes en el següent format:\n",
    "\n",
    "        MovieID::Title::Genres\n",
    "\n",
    "- **Titles** són identics als titols de la base de dades IMDB, incloent l'any de llançament.\n",
    "- **Genres** de les películes estan separats i seleccionats d'entre els següents:\n",
    "\n",
    "\t* Action\n",
    "\t* Adventure\n",
    "\t* Animation\n",
    "\t* Children's\n",
    "\t* Comedy\n",
    "\t* Crime\n",
    "\t* Documentary\n",
    "\t* Drama\n",
    "\t* Fantasy\n",
    "\t* Film-Noir\n",
    "\t* Horror\n",
    "\t* Musical\n",
    "\t* Mystery\n",
    "\t* Romance\n",
    "\t* Sci-Fi\n",
    "\t* Thriller\n",
    "\t* War\n",
    "\t* Western\n",
    "\n",
    "> Algunes películes poden tenir el ID malament degut a duplicats accidentals.\n",
    ">\n",
    "> Les películes s'han entrat manualment, així que altres inconsistencies poden existir. "
   ]
  },
  {
   "cell_type": "markdown",
   "metadata": {
    "id": "Ga800aP7uyT2"
   },
   "source": [
    "## 2. COMENCEM: explorem les dades!!"
   ]
  },
  {
   "cell_type": "markdown",
   "metadata": {
    "id": "TCfsud8VvBqJ"
   },
   "source": [
    "### 2.1. Descarregar i llegir dades"
   ]
  },
  {
   "cell_type": "markdown",
   "metadata": {
    "id": "8wj0kd3A7_He"
   },
   "source": [
    "+ Baixa't els fitxers que composen la base de dades i els còpies al teu directori de treball. "
   ]
  },
  {
   "cell_type": "markdown",
   "metadata": {
    "id": "SN_zOl7G7_He"
   },
   "source": [
    "+ Llegeix les tres taules de la base de dades en tres DataFrames de pandas amb aquest codi:"
   ]
  },
  {
   "cell_type": "code",
   "execution_count": 3,
   "metadata": {
    "collapsed": false,
    "id": "UnM-iE1a7_He",
    "jupyter": {
     "outputs_hidden": false
    }
   },
   "outputs": [],
   "source": [
    "import pandas as pd\n",
    "unames = ['user_id', 'gender', 'age', 'occupation', 'zip']\n",
    "users = pd.read_table('ml-1m/users.dat', sep='::', header=None, names=unames, engine='python')\n",
    "rnames = ['user_id', 'movie_id', 'rating', 'timestamp']\n",
    "ratings = pd.read_table('ml-1m/ratings.dat', sep='::', header=None, names=rnames, engine='python')\n",
    "mnames = ['movie_id', 'title', 'genres']\n",
    "movies = pd.read_table('ml-1m/movies.dat', sep='::', header=None, names=mnames, engine='python', encoding='latin-1')\n"
   ]
  },
  {
   "cell_type": "markdown",
   "metadata": {
    "id": "UgE08I4i7_Hf"
   },
   "source": [
    "### 2.2. Inspecció de les taules"
   ]
  },
  {
   "cell_type": "code",
   "execution_count": 4,
   "metadata": {
    "colab": {
     "base_uri": "https://localhost:8080/",
     "height": 363
    },
    "collapsed": false,
    "id": "YeiRpOEm7_Hf",
    "jupyter": {
     "outputs_hidden": false
    },
    "outputId": "7f3239d1-2d90-40fd-d2c7-6a26fbf9be73"
   },
   "outputs": [
    {
     "data": {
      "text/html": [
       "<div>\n",
       "<style scoped>\n",
       "    .dataframe tbody tr th:only-of-type {\n",
       "        vertical-align: middle;\n",
       "    }\n",
       "\n",
       "    .dataframe tbody tr th {\n",
       "        vertical-align: top;\n",
       "    }\n",
       "\n",
       "    .dataframe thead th {\n",
       "        text-align: right;\n",
       "    }\n",
       "</style>\n",
       "<table border=\"1\" class=\"dataframe\">\n",
       "  <thead>\n",
       "    <tr style=\"text-align: right;\">\n",
       "      <th></th>\n",
       "      <th>user_id</th>\n",
       "      <th>gender</th>\n",
       "      <th>age</th>\n",
       "      <th>occupation</th>\n",
       "      <th>zip</th>\n",
       "    </tr>\n",
       "  </thead>\n",
       "  <tbody>\n",
       "    <tr>\n",
       "      <th>0</th>\n",
       "      <td>1</td>\n",
       "      <td>F</td>\n",
       "      <td>1</td>\n",
       "      <td>10</td>\n",
       "      <td>48067</td>\n",
       "    </tr>\n",
       "    <tr>\n",
       "      <th>1</th>\n",
       "      <td>2</td>\n",
       "      <td>M</td>\n",
       "      <td>56</td>\n",
       "      <td>16</td>\n",
       "      <td>70072</td>\n",
       "    </tr>\n",
       "    <tr>\n",
       "      <th>2</th>\n",
       "      <td>3</td>\n",
       "      <td>M</td>\n",
       "      <td>25</td>\n",
       "      <td>15</td>\n",
       "      <td>55117</td>\n",
       "    </tr>\n",
       "    <tr>\n",
       "      <th>3</th>\n",
       "      <td>4</td>\n",
       "      <td>M</td>\n",
       "      <td>45</td>\n",
       "      <td>7</td>\n",
       "      <td>02460</td>\n",
       "    </tr>\n",
       "    <tr>\n",
       "      <th>4</th>\n",
       "      <td>5</td>\n",
       "      <td>M</td>\n",
       "      <td>25</td>\n",
       "      <td>20</td>\n",
       "      <td>55455</td>\n",
       "    </tr>\n",
       "    <tr>\n",
       "      <th>5</th>\n",
       "      <td>6</td>\n",
       "      <td>F</td>\n",
       "      <td>50</td>\n",
       "      <td>9</td>\n",
       "      <td>55117</td>\n",
       "    </tr>\n",
       "    <tr>\n",
       "      <th>6</th>\n",
       "      <td>7</td>\n",
       "      <td>M</td>\n",
       "      <td>35</td>\n",
       "      <td>1</td>\n",
       "      <td>06810</td>\n",
       "    </tr>\n",
       "    <tr>\n",
       "      <th>7</th>\n",
       "      <td>8</td>\n",
       "      <td>M</td>\n",
       "      <td>25</td>\n",
       "      <td>12</td>\n",
       "      <td>11413</td>\n",
       "    </tr>\n",
       "    <tr>\n",
       "      <th>8</th>\n",
       "      <td>9</td>\n",
       "      <td>M</td>\n",
       "      <td>25</td>\n",
       "      <td>17</td>\n",
       "      <td>61614</td>\n",
       "    </tr>\n",
       "    <tr>\n",
       "      <th>9</th>\n",
       "      <td>10</td>\n",
       "      <td>F</td>\n",
       "      <td>35</td>\n",
       "      <td>1</td>\n",
       "      <td>95370</td>\n",
       "    </tr>\n",
       "  </tbody>\n",
       "</table>\n",
       "</div>"
      ],
      "text/plain": [
       "   user_id gender  age  occupation    zip\n",
       "0        1      F    1          10  48067\n",
       "1        2      M   56          16  70072\n",
       "2        3      M   25          15  55117\n",
       "3        4      M   45           7  02460\n",
       "4        5      M   25          20  55455\n",
       "5        6      F   50           9  55117\n",
       "6        7      M   35           1  06810\n",
       "7        8      M   25          12  11413\n",
       "8        9      M   25          17  61614\n",
       "9       10      F   35           1  95370"
      ]
     },
     "execution_count": 4,
     "metadata": {},
     "output_type": "execute_result"
    }
   ],
   "source": [
    "users[:10]"
   ]
  },
  {
   "cell_type": "code",
   "execution_count": 5,
   "metadata": {
    "colab": {
     "base_uri": "https://localhost:8080/",
     "height": 363
    },
    "collapsed": false,
    "id": "EBfcmBPv7_Hg",
    "jupyter": {
     "outputs_hidden": false
    },
    "outputId": "6564e017-5020-4d0d-ae35-756f0839acd8"
   },
   "outputs": [
    {
     "data": {
      "text/html": [
       "<div>\n",
       "<style scoped>\n",
       "    .dataframe tbody tr th:only-of-type {\n",
       "        vertical-align: middle;\n",
       "    }\n",
       "\n",
       "    .dataframe tbody tr th {\n",
       "        vertical-align: top;\n",
       "    }\n",
       "\n",
       "    .dataframe thead th {\n",
       "        text-align: right;\n",
       "    }\n",
       "</style>\n",
       "<table border=\"1\" class=\"dataframe\">\n",
       "  <thead>\n",
       "    <tr style=\"text-align: right;\">\n",
       "      <th></th>\n",
       "      <th>user_id</th>\n",
       "      <th>gender</th>\n",
       "      <th>age</th>\n",
       "      <th>occupation</th>\n",
       "      <th>zip</th>\n",
       "    </tr>\n",
       "  </thead>\n",
       "  <tbody>\n",
       "    <tr>\n",
       "      <th>6030</th>\n",
       "      <td>6031</td>\n",
       "      <td>F</td>\n",
       "      <td>18</td>\n",
       "      <td>0</td>\n",
       "      <td>45123</td>\n",
       "    </tr>\n",
       "    <tr>\n",
       "      <th>6031</th>\n",
       "      <td>6032</td>\n",
       "      <td>M</td>\n",
       "      <td>45</td>\n",
       "      <td>7</td>\n",
       "      <td>55108</td>\n",
       "    </tr>\n",
       "    <tr>\n",
       "      <th>6032</th>\n",
       "      <td>6033</td>\n",
       "      <td>M</td>\n",
       "      <td>50</td>\n",
       "      <td>13</td>\n",
       "      <td>78232</td>\n",
       "    </tr>\n",
       "    <tr>\n",
       "      <th>6033</th>\n",
       "      <td>6034</td>\n",
       "      <td>M</td>\n",
       "      <td>25</td>\n",
       "      <td>14</td>\n",
       "      <td>94117</td>\n",
       "    </tr>\n",
       "    <tr>\n",
       "      <th>6034</th>\n",
       "      <td>6035</td>\n",
       "      <td>F</td>\n",
       "      <td>25</td>\n",
       "      <td>1</td>\n",
       "      <td>78734</td>\n",
       "    </tr>\n",
       "    <tr>\n",
       "      <th>6035</th>\n",
       "      <td>6036</td>\n",
       "      <td>F</td>\n",
       "      <td>25</td>\n",
       "      <td>15</td>\n",
       "      <td>32603</td>\n",
       "    </tr>\n",
       "    <tr>\n",
       "      <th>6036</th>\n",
       "      <td>6037</td>\n",
       "      <td>F</td>\n",
       "      <td>45</td>\n",
       "      <td>1</td>\n",
       "      <td>76006</td>\n",
       "    </tr>\n",
       "    <tr>\n",
       "      <th>6037</th>\n",
       "      <td>6038</td>\n",
       "      <td>F</td>\n",
       "      <td>56</td>\n",
       "      <td>1</td>\n",
       "      <td>14706</td>\n",
       "    </tr>\n",
       "    <tr>\n",
       "      <th>6038</th>\n",
       "      <td>6039</td>\n",
       "      <td>F</td>\n",
       "      <td>45</td>\n",
       "      <td>0</td>\n",
       "      <td>01060</td>\n",
       "    </tr>\n",
       "    <tr>\n",
       "      <th>6039</th>\n",
       "      <td>6040</td>\n",
       "      <td>M</td>\n",
       "      <td>25</td>\n",
       "      <td>6</td>\n",
       "      <td>11106</td>\n",
       "    </tr>\n",
       "  </tbody>\n",
       "</table>\n",
       "</div>"
      ],
      "text/plain": [
       "      user_id gender  age  occupation    zip\n",
       "6030     6031      F   18           0  45123\n",
       "6031     6032      M   45           7  55108\n",
       "6032     6033      M   50          13  78232\n",
       "6033     6034      M   25          14  94117\n",
       "6034     6035      F   25           1  78734\n",
       "6035     6036      F   25          15  32603\n",
       "6036     6037      F   45           1  76006\n",
       "6037     6038      F   56           1  14706\n",
       "6038     6039      F   45           0  01060\n",
       "6039     6040      M   25           6  11106"
      ]
     },
     "execution_count": 5,
     "metadata": {},
     "output_type": "execute_result"
    }
   ],
   "source": [
    "users[-10:]"
   ]
  },
  {
   "cell_type": "code",
   "execution_count": 6,
   "metadata": {
    "colab": {
     "base_uri": "https://localhost:8080/",
     "height": 363
    },
    "collapsed": false,
    "id": "ClIF_jSR7_Hg",
    "jupyter": {
     "outputs_hidden": false
    },
    "outputId": "30d73ea9-5cd0-4182-cc2f-0d3fea02844f"
   },
   "outputs": [
    {
     "data": {
      "text/html": [
       "<div>\n",
       "<style scoped>\n",
       "    .dataframe tbody tr th:only-of-type {\n",
       "        vertical-align: middle;\n",
       "    }\n",
       "\n",
       "    .dataframe tbody tr th {\n",
       "        vertical-align: top;\n",
       "    }\n",
       "\n",
       "    .dataframe thead th {\n",
       "        text-align: right;\n",
       "    }\n",
       "</style>\n",
       "<table border=\"1\" class=\"dataframe\">\n",
       "  <thead>\n",
       "    <tr style=\"text-align: right;\">\n",
       "      <th></th>\n",
       "      <th>user_id</th>\n",
       "      <th>movie_id</th>\n",
       "      <th>rating</th>\n",
       "      <th>timestamp</th>\n",
       "    </tr>\n",
       "  </thead>\n",
       "  <tbody>\n",
       "    <tr>\n",
       "      <th>1000199</th>\n",
       "      <td>6040</td>\n",
       "      <td>2022</td>\n",
       "      <td>5</td>\n",
       "      <td>956716207</td>\n",
       "    </tr>\n",
       "    <tr>\n",
       "      <th>1000200</th>\n",
       "      <td>6040</td>\n",
       "      <td>2028</td>\n",
       "      <td>5</td>\n",
       "      <td>956704519</td>\n",
       "    </tr>\n",
       "    <tr>\n",
       "      <th>1000201</th>\n",
       "      <td>6040</td>\n",
       "      <td>1080</td>\n",
       "      <td>4</td>\n",
       "      <td>957717322</td>\n",
       "    </tr>\n",
       "    <tr>\n",
       "      <th>1000202</th>\n",
       "      <td>6040</td>\n",
       "      <td>1089</td>\n",
       "      <td>4</td>\n",
       "      <td>956704996</td>\n",
       "    </tr>\n",
       "    <tr>\n",
       "      <th>1000203</th>\n",
       "      <td>6040</td>\n",
       "      <td>1090</td>\n",
       "      <td>3</td>\n",
       "      <td>956715518</td>\n",
       "    </tr>\n",
       "    <tr>\n",
       "      <th>1000204</th>\n",
       "      <td>6040</td>\n",
       "      <td>1091</td>\n",
       "      <td>1</td>\n",
       "      <td>956716541</td>\n",
       "    </tr>\n",
       "    <tr>\n",
       "      <th>1000205</th>\n",
       "      <td>6040</td>\n",
       "      <td>1094</td>\n",
       "      <td>5</td>\n",
       "      <td>956704887</td>\n",
       "    </tr>\n",
       "    <tr>\n",
       "      <th>1000206</th>\n",
       "      <td>6040</td>\n",
       "      <td>562</td>\n",
       "      <td>5</td>\n",
       "      <td>956704746</td>\n",
       "    </tr>\n",
       "    <tr>\n",
       "      <th>1000207</th>\n",
       "      <td>6040</td>\n",
       "      <td>1096</td>\n",
       "      <td>4</td>\n",
       "      <td>956715648</td>\n",
       "    </tr>\n",
       "    <tr>\n",
       "      <th>1000208</th>\n",
       "      <td>6040</td>\n",
       "      <td>1097</td>\n",
       "      <td>4</td>\n",
       "      <td>956715569</td>\n",
       "    </tr>\n",
       "  </tbody>\n",
       "</table>\n",
       "</div>"
      ],
      "text/plain": [
       "         user_id  movie_id  rating  timestamp\n",
       "1000199     6040      2022       5  956716207\n",
       "1000200     6040      2028       5  956704519\n",
       "1000201     6040      1080       4  957717322\n",
       "1000202     6040      1089       4  956704996\n",
       "1000203     6040      1090       3  956715518\n",
       "1000204     6040      1091       1  956716541\n",
       "1000205     6040      1094       5  956704887\n",
       "1000206     6040       562       5  956704746\n",
       "1000207     6040      1096       4  956715648\n",
       "1000208     6040      1097       4  956715569"
      ]
     },
     "execution_count": 6,
     "metadata": {},
     "output_type": "execute_result"
    }
   ],
   "source": [
    "ratings[-10:]"
   ]
  },
  {
   "cell_type": "code",
   "execution_count": 7,
   "metadata": {
    "colab": {
     "base_uri": "https://localhost:8080/",
     "height": 363
    },
    "collapsed": false,
    "id": "_0rLOKXd7_Hg",
    "jupyter": {
     "outputs_hidden": false
    },
    "outputId": "531d0ea5-86b0-4365-be8c-a676139b9d83"
   },
   "outputs": [
    {
     "data": {
      "text/html": [
       "<div>\n",
       "<style scoped>\n",
       "    .dataframe tbody tr th:only-of-type {\n",
       "        vertical-align: middle;\n",
       "    }\n",
       "\n",
       "    .dataframe tbody tr th {\n",
       "        vertical-align: top;\n",
       "    }\n",
       "\n",
       "    .dataframe thead th {\n",
       "        text-align: right;\n",
       "    }\n",
       "</style>\n",
       "<table border=\"1\" class=\"dataframe\">\n",
       "  <thead>\n",
       "    <tr style=\"text-align: right;\">\n",
       "      <th></th>\n",
       "      <th>user_id</th>\n",
       "      <th>movie_id</th>\n",
       "      <th>rating</th>\n",
       "      <th>timestamp</th>\n",
       "    </tr>\n",
       "  </thead>\n",
       "  <tbody>\n",
       "    <tr>\n",
       "      <th>0</th>\n",
       "      <td>1</td>\n",
       "      <td>1193</td>\n",
       "      <td>5</td>\n",
       "      <td>978300760</td>\n",
       "    </tr>\n",
       "    <tr>\n",
       "      <th>1</th>\n",
       "      <td>1</td>\n",
       "      <td>661</td>\n",
       "      <td>3</td>\n",
       "      <td>978302109</td>\n",
       "    </tr>\n",
       "    <tr>\n",
       "      <th>2</th>\n",
       "      <td>1</td>\n",
       "      <td>914</td>\n",
       "      <td>3</td>\n",
       "      <td>978301968</td>\n",
       "    </tr>\n",
       "    <tr>\n",
       "      <th>3</th>\n",
       "      <td>1</td>\n",
       "      <td>3408</td>\n",
       "      <td>4</td>\n",
       "      <td>978300275</td>\n",
       "    </tr>\n",
       "    <tr>\n",
       "      <th>4</th>\n",
       "      <td>1</td>\n",
       "      <td>2355</td>\n",
       "      <td>5</td>\n",
       "      <td>978824291</td>\n",
       "    </tr>\n",
       "    <tr>\n",
       "      <th>5</th>\n",
       "      <td>1</td>\n",
       "      <td>1197</td>\n",
       "      <td>3</td>\n",
       "      <td>978302268</td>\n",
       "    </tr>\n",
       "    <tr>\n",
       "      <th>6</th>\n",
       "      <td>1</td>\n",
       "      <td>1287</td>\n",
       "      <td>5</td>\n",
       "      <td>978302039</td>\n",
       "    </tr>\n",
       "    <tr>\n",
       "      <th>7</th>\n",
       "      <td>1</td>\n",
       "      <td>2804</td>\n",
       "      <td>5</td>\n",
       "      <td>978300719</td>\n",
       "    </tr>\n",
       "    <tr>\n",
       "      <th>8</th>\n",
       "      <td>1</td>\n",
       "      <td>594</td>\n",
       "      <td>4</td>\n",
       "      <td>978302268</td>\n",
       "    </tr>\n",
       "    <tr>\n",
       "      <th>9</th>\n",
       "      <td>1</td>\n",
       "      <td>919</td>\n",
       "      <td>4</td>\n",
       "      <td>978301368</td>\n",
       "    </tr>\n",
       "  </tbody>\n",
       "</table>\n",
       "</div>"
      ],
      "text/plain": [
       "   user_id  movie_id  rating  timestamp\n",
       "0        1      1193       5  978300760\n",
       "1        1       661       3  978302109\n",
       "2        1       914       3  978301968\n",
       "3        1      3408       4  978300275\n",
       "4        1      2355       5  978824291\n",
       "5        1      1197       3  978302268\n",
       "6        1      1287       5  978302039\n",
       "7        1      2804       5  978300719\n",
       "8        1       594       4  978302268\n",
       "9        1       919       4  978301368"
      ]
     },
     "execution_count": 7,
     "metadata": {},
     "output_type": "execute_result"
    }
   ],
   "source": [
    "ratings[:10]"
   ]
  },
  {
   "cell_type": "code",
   "execution_count": 8,
   "metadata": {
    "colab": {
     "base_uri": "https://localhost:8080/",
     "height": 206
    },
    "collapsed": false,
    "id": "MGJCDjya7_Hg",
    "jupyter": {
     "outputs_hidden": false
    },
    "outputId": "07a26450-2f9f-4951-e2f9-f07a1d425eda"
   },
   "outputs": [
    {
     "data": {
      "text/html": [
       "<div>\n",
       "<style scoped>\n",
       "    .dataframe tbody tr th:only-of-type {\n",
       "        vertical-align: middle;\n",
       "    }\n",
       "\n",
       "    .dataframe tbody tr th {\n",
       "        vertical-align: top;\n",
       "    }\n",
       "\n",
       "    .dataframe thead th {\n",
       "        text-align: right;\n",
       "    }\n",
       "</style>\n",
       "<table border=\"1\" class=\"dataframe\">\n",
       "  <thead>\n",
       "    <tr style=\"text-align: right;\">\n",
       "      <th></th>\n",
       "      <th>user_id</th>\n",
       "      <th>movie_id</th>\n",
       "      <th>rating</th>\n",
       "      <th>timestamp</th>\n",
       "    </tr>\n",
       "  </thead>\n",
       "  <tbody>\n",
       "    <tr>\n",
       "      <th>427702</th>\n",
       "      <td>2599</td>\n",
       "      <td>1</td>\n",
       "      <td>4</td>\n",
       "      <td>973796689</td>\n",
       "    </tr>\n",
       "    <tr>\n",
       "      <th>1966</th>\n",
       "      <td>18</td>\n",
       "      <td>1</td>\n",
       "      <td>4</td>\n",
       "      <td>978154768</td>\n",
       "    </tr>\n",
       "    <tr>\n",
       "      <th>683688</th>\n",
       "      <td>4089</td>\n",
       "      <td>1</td>\n",
       "      <td>5</td>\n",
       "      <td>965428947</td>\n",
       "    </tr>\n",
       "    <tr>\n",
       "      <th>596207</th>\n",
       "      <td>3626</td>\n",
       "      <td>1</td>\n",
       "      <td>4</td>\n",
       "      <td>966594018</td>\n",
       "    </tr>\n",
       "    <tr>\n",
       "      <th>465902</th>\n",
       "      <td>2873</td>\n",
       "      <td>1</td>\n",
       "      <td>5</td>\n",
       "      <td>972784317</td>\n",
       "    </tr>\n",
       "  </tbody>\n",
       "</table>\n",
       "</div>"
      ],
      "text/plain": [
       "        user_id  movie_id  rating  timestamp\n",
       "427702     2599         1       4  973796689\n",
       "1966         18         1       4  978154768\n",
       "683688     4089         1       5  965428947\n",
       "596207     3626         1       4  966594018\n",
       "465902     2873         1       5  972784317"
      ]
     },
     "execution_count": 8,
     "metadata": {},
     "output_type": "execute_result"
    }
   ],
   "source": [
    "ratings.sort_values('movie_id')[:5]\n"
   ]
  },
  {
   "cell_type": "code",
   "execution_count": 9,
   "metadata": {
    "colab": {
     "base_uri": "https://localhost:8080/",
     "height": 206
    },
    "collapsed": false,
    "id": "u_9RNoEA7_Hh",
    "jupyter": {
     "outputs_hidden": false
    },
    "outputId": "c9440353-8b55-4886-d076-279cdba3bd7e"
   },
   "outputs": [
    {
     "data": {
      "text/html": [
       "<div>\n",
       "<style scoped>\n",
       "    .dataframe tbody tr th:only-of-type {\n",
       "        vertical-align: middle;\n",
       "    }\n",
       "\n",
       "    .dataframe tbody tr th {\n",
       "        vertical-align: top;\n",
       "    }\n",
       "\n",
       "    .dataframe thead th {\n",
       "        text-align: right;\n",
       "    }\n",
       "</style>\n",
       "<table border=\"1\" class=\"dataframe\">\n",
       "  <thead>\n",
       "    <tr style=\"text-align: right;\">\n",
       "      <th></th>\n",
       "      <th>movie_id</th>\n",
       "      <th>title</th>\n",
       "      <th>genres</th>\n",
       "    </tr>\n",
       "  </thead>\n",
       "  <tbody>\n",
       "    <tr>\n",
       "      <th>0</th>\n",
       "      <td>1</td>\n",
       "      <td>Toy Story (1995)</td>\n",
       "      <td>Animation|Children's|Comedy</td>\n",
       "    </tr>\n",
       "    <tr>\n",
       "      <th>1</th>\n",
       "      <td>2</td>\n",
       "      <td>Jumanji (1995)</td>\n",
       "      <td>Adventure|Children's|Fantasy</td>\n",
       "    </tr>\n",
       "    <tr>\n",
       "      <th>2</th>\n",
       "      <td>3</td>\n",
       "      <td>Grumpier Old Men (1995)</td>\n",
       "      <td>Comedy|Romance</td>\n",
       "    </tr>\n",
       "    <tr>\n",
       "      <th>3</th>\n",
       "      <td>4</td>\n",
       "      <td>Waiting to Exhale (1995)</td>\n",
       "      <td>Comedy|Drama</td>\n",
       "    </tr>\n",
       "    <tr>\n",
       "      <th>4</th>\n",
       "      <td>5</td>\n",
       "      <td>Father of the Bride Part II (1995)</td>\n",
       "      <td>Comedy</td>\n",
       "    </tr>\n",
       "  </tbody>\n",
       "</table>\n",
       "</div>"
      ],
      "text/plain": [
       "   movie_id                               title                        genres\n",
       "0         1                    Toy Story (1995)   Animation|Children's|Comedy\n",
       "1         2                      Jumanji (1995)  Adventure|Children's|Fantasy\n",
       "2         3             Grumpier Old Men (1995)                Comedy|Romance\n",
       "3         4            Waiting to Exhale (1995)                  Comedy|Drama\n",
       "4         5  Father of the Bride Part II (1995)                        Comedy"
      ]
     },
     "execution_count": 9,
     "metadata": {},
     "output_type": "execute_result"
    }
   ],
   "source": [
    "movies[:5]"
   ]
  },
  {
   "cell_type": "code",
   "execution_count": 10,
   "metadata": {
    "colab": {
     "base_uri": "https://localhost:8080/",
     "height": 206
    },
    "collapsed": false,
    "id": "vEXHJDc17_Hh",
    "jupyter": {
     "outputs_hidden": false
    },
    "outputId": "d687d49e-df07-4ad9-c2ec-8ac4b87e1c0d"
   },
   "outputs": [
    {
     "data": {
      "text/html": [
       "<div>\n",
       "<style scoped>\n",
       "    .dataframe tbody tr th:only-of-type {\n",
       "        vertical-align: middle;\n",
       "    }\n",
       "\n",
       "    .dataframe tbody tr th {\n",
       "        vertical-align: top;\n",
       "    }\n",
       "\n",
       "    .dataframe thead th {\n",
       "        text-align: right;\n",
       "    }\n",
       "</style>\n",
       "<table border=\"1\" class=\"dataframe\">\n",
       "  <thead>\n",
       "    <tr style=\"text-align: right;\">\n",
       "      <th></th>\n",
       "      <th>user_id</th>\n",
       "      <th>movie_id</th>\n",
       "      <th>rating</th>\n",
       "      <th>timestamp</th>\n",
       "    </tr>\n",
       "  </thead>\n",
       "  <tbody>\n",
       "    <tr>\n",
       "      <th>0</th>\n",
       "      <td>1</td>\n",
       "      <td>1193</td>\n",
       "      <td>5</td>\n",
       "      <td>978300760</td>\n",
       "    </tr>\n",
       "    <tr>\n",
       "      <th>1</th>\n",
       "      <td>1</td>\n",
       "      <td>661</td>\n",
       "      <td>3</td>\n",
       "      <td>978302109</td>\n",
       "    </tr>\n",
       "    <tr>\n",
       "      <th>2</th>\n",
       "      <td>1</td>\n",
       "      <td>914</td>\n",
       "      <td>3</td>\n",
       "      <td>978301968</td>\n",
       "    </tr>\n",
       "    <tr>\n",
       "      <th>3</th>\n",
       "      <td>1</td>\n",
       "      <td>3408</td>\n",
       "      <td>4</td>\n",
       "      <td>978300275</td>\n",
       "    </tr>\n",
       "    <tr>\n",
       "      <th>4</th>\n",
       "      <td>1</td>\n",
       "      <td>2355</td>\n",
       "      <td>5</td>\n",
       "      <td>978824291</td>\n",
       "    </tr>\n",
       "  </tbody>\n",
       "</table>\n",
       "</div>"
      ],
      "text/plain": [
       "   user_id  movie_id  rating  timestamp\n",
       "0        1      1193       5  978300760\n",
       "1        1       661       3  978302109\n",
       "2        1       914       3  978301968\n",
       "3        1      3408       4  978300275\n",
       "4        1      2355       5  978824291"
      ]
     },
     "execution_count": 10,
     "metadata": {},
     "output_type": "execute_result"
    }
   ],
   "source": [
    "ratings[:5]"
   ]
  },
  {
   "cell_type": "markdown",
   "metadata": {
    "id": "gni6mASQ7_Hh"
   },
   "source": [
    "### **Exemple:** Fent càlculs sobre DataFrames."
   ]
  },
  {
   "cell_type": "markdown",
   "metadata": {
    "id": "eb_fcvVc7_Hh"
   },
   "source": [
    "Suposa que volem calcular les **puntuacions mitjanes d'una pel·licula per sexe o edat**. "
   ]
  },
  {
   "cell_type": "markdown",
   "metadata": {
    "id": "QXS6U-auvXKQ"
   },
   "source": [
    "\n",
    "El primer pas a obtenir una única estructura que contingui tota la informació. Per fer-ho podem usar la funció ``merge`` de pandas. Aquesta funció infereix automàticament quines columnes ha d'usar per fer el ``merge`` basant-se en els noms que fan intersecció:"
   ]
  },
  {
   "cell_type": "code",
   "execution_count": 11,
   "metadata": {
    "colab": {
     "base_uri": "https://localhost:8080/",
     "height": 424
    },
    "collapsed": false,
    "id": "ZgrFQBF67_Hh",
    "jupyter": {
     "outputs_hidden": false
    },
    "outputId": "489c28d5-bc48-4fe3-b90f-62d7e8ae6976"
   },
   "outputs": [
    {
     "data": {
      "text/html": [
       "<div>\n",
       "<style scoped>\n",
       "    .dataframe tbody tr th:only-of-type {\n",
       "        vertical-align: middle;\n",
       "    }\n",
       "\n",
       "    .dataframe tbody tr th {\n",
       "        vertical-align: top;\n",
       "    }\n",
       "\n",
       "    .dataframe thead th {\n",
       "        text-align: right;\n",
       "    }\n",
       "</style>\n",
       "<table border=\"1\" class=\"dataframe\">\n",
       "  <thead>\n",
       "    <tr style=\"text-align: right;\">\n",
       "      <th></th>\n",
       "      <th>user_id</th>\n",
       "      <th>movie_id</th>\n",
       "      <th>rating</th>\n",
       "      <th>timestamp</th>\n",
       "      <th>gender</th>\n",
       "      <th>age</th>\n",
       "      <th>occupation</th>\n",
       "      <th>zip</th>\n",
       "      <th>title</th>\n",
       "      <th>genres</th>\n",
       "    </tr>\n",
       "  </thead>\n",
       "  <tbody>\n",
       "    <tr>\n",
       "      <th>0</th>\n",
       "      <td>1</td>\n",
       "      <td>1193</td>\n",
       "      <td>5</td>\n",
       "      <td>978300760</td>\n",
       "      <td>F</td>\n",
       "      <td>1</td>\n",
       "      <td>10</td>\n",
       "      <td>48067</td>\n",
       "      <td>One Flew Over the Cuckoo's Nest (1975)</td>\n",
       "      <td>Drama</td>\n",
       "    </tr>\n",
       "    <tr>\n",
       "      <th>28501</th>\n",
       "      <td>1</td>\n",
       "      <td>48</td>\n",
       "      <td>5</td>\n",
       "      <td>978824351</td>\n",
       "      <td>F</td>\n",
       "      <td>1</td>\n",
       "      <td>10</td>\n",
       "      <td>48067</td>\n",
       "      <td>Pocahontas (1995)</td>\n",
       "      <td>Animation|Children's|Musical|Romance</td>\n",
       "    </tr>\n",
       "    <tr>\n",
       "      <th>13819</th>\n",
       "      <td>1</td>\n",
       "      <td>938</td>\n",
       "      <td>4</td>\n",
       "      <td>978301752</td>\n",
       "      <td>F</td>\n",
       "      <td>1</td>\n",
       "      <td>10</td>\n",
       "      <td>48067</td>\n",
       "      <td>Gigi (1958)</td>\n",
       "      <td>Musical</td>\n",
       "    </tr>\n",
       "    <tr>\n",
       "      <th>51327</th>\n",
       "      <td>1</td>\n",
       "      <td>1207</td>\n",
       "      <td>4</td>\n",
       "      <td>978300719</td>\n",
       "      <td>F</td>\n",
       "      <td>1</td>\n",
       "      <td>10</td>\n",
       "      <td>48067</td>\n",
       "      <td>To Kill a Mockingbird (1962)</td>\n",
       "      <td>Drama</td>\n",
       "    </tr>\n",
       "    <tr>\n",
       "      <th>31152</th>\n",
       "      <td>1</td>\n",
       "      <td>1721</td>\n",
       "      <td>4</td>\n",
       "      <td>978300055</td>\n",
       "      <td>F</td>\n",
       "      <td>1</td>\n",
       "      <td>10</td>\n",
       "      <td>48067</td>\n",
       "      <td>Titanic (1997)</td>\n",
       "      <td>Drama|Romance</td>\n",
       "    </tr>\n",
       "    <tr>\n",
       "      <th>37916</th>\n",
       "      <td>1</td>\n",
       "      <td>2762</td>\n",
       "      <td>4</td>\n",
       "      <td>978302091</td>\n",
       "      <td>F</td>\n",
       "      <td>1</td>\n",
       "      <td>10</td>\n",
       "      <td>48067</td>\n",
       "      <td>Sixth Sense, The (1999)</td>\n",
       "      <td>Thriller</td>\n",
       "    </tr>\n",
       "    <tr>\n",
       "      <th>18472</th>\n",
       "      <td>1</td>\n",
       "      <td>2687</td>\n",
       "      <td>3</td>\n",
       "      <td>978824268</td>\n",
       "      <td>F</td>\n",
       "      <td>1</td>\n",
       "      <td>10</td>\n",
       "      <td>48067</td>\n",
       "      <td>Tarzan (1999)</td>\n",
       "      <td>Animation|Children's</td>\n",
       "    </tr>\n",
       "    <tr>\n",
       "      <th>45685</th>\n",
       "      <td>1</td>\n",
       "      <td>2692</td>\n",
       "      <td>4</td>\n",
       "      <td>978301570</td>\n",
       "      <td>F</td>\n",
       "      <td>1</td>\n",
       "      <td>10</td>\n",
       "      <td>48067</td>\n",
       "      <td>Run Lola Run (Lola rennt) (1998)</td>\n",
       "      <td>Action|Crime|Romance</td>\n",
       "    </tr>\n",
       "    <tr>\n",
       "      <th>22832</th>\n",
       "      <td>1</td>\n",
       "      <td>720</td>\n",
       "      <td>3</td>\n",
       "      <td>978300760</td>\n",
       "      <td>F</td>\n",
       "      <td>1</td>\n",
       "      <td>10</td>\n",
       "      <td>48067</td>\n",
       "      <td>Wallace &amp; Gromit: The Best of Aardman Animatio...</td>\n",
       "      <td>Animation</td>\n",
       "    </tr>\n",
       "    <tr>\n",
       "      <th>32771</th>\n",
       "      <td>1</td>\n",
       "      <td>745</td>\n",
       "      <td>3</td>\n",
       "      <td>978824268</td>\n",
       "      <td>F</td>\n",
       "      <td>1</td>\n",
       "      <td>10</td>\n",
       "      <td>48067</td>\n",
       "      <td>Close Shave, A (1995)</td>\n",
       "      <td>Animation|Comedy|Thriller</td>\n",
       "    </tr>\n",
       "  </tbody>\n",
       "</table>\n",
       "</div>"
      ],
      "text/plain": [
       "       user_id  movie_id  rating  timestamp gender  age  occupation    zip  \\\n",
       "0            1      1193       5  978300760      F    1          10  48067   \n",
       "28501        1        48       5  978824351      F    1          10  48067   \n",
       "13819        1       938       4  978301752      F    1          10  48067   \n",
       "51327        1      1207       4  978300719      F    1          10  48067   \n",
       "31152        1      1721       4  978300055      F    1          10  48067   \n",
       "37916        1      2762       4  978302091      F    1          10  48067   \n",
       "18472        1      2687       3  978824268      F    1          10  48067   \n",
       "45685        1      2692       4  978301570      F    1          10  48067   \n",
       "22832        1       720       3  978300760      F    1          10  48067   \n",
       "32771        1       745       3  978824268      F    1          10  48067   \n",
       "\n",
       "                                                   title  \\\n",
       "0                 One Flew Over the Cuckoo's Nest (1975)   \n",
       "28501                                  Pocahontas (1995)   \n",
       "13819                                        Gigi (1958)   \n",
       "51327                       To Kill a Mockingbird (1962)   \n",
       "31152                                     Titanic (1997)   \n",
       "37916                            Sixth Sense, The (1999)   \n",
       "18472                                      Tarzan (1999)   \n",
       "45685                   Run Lola Run (Lola rennt) (1998)   \n",
       "22832  Wallace & Gromit: The Best of Aardman Animatio...   \n",
       "32771                              Close Shave, A (1995)   \n",
       "\n",
       "                                     genres  \n",
       "0                                     Drama  \n",
       "28501  Animation|Children's|Musical|Romance  \n",
       "13819                               Musical  \n",
       "51327                                 Drama  \n",
       "31152                         Drama|Romance  \n",
       "37916                              Thriller  \n",
       "18472                  Animation|Children's  \n",
       "45685                  Action|Crime|Romance  \n",
       "22832                             Animation  \n",
       "32771             Animation|Comedy|Thriller  "
      ]
     },
     "execution_count": 11,
     "metadata": {},
     "output_type": "execute_result"
    }
   ],
   "source": [
    "data = pd.merge(pd.merge(ratings, users), movies)\n",
    "\n",
    "# Visualitzem la taula ordenada per identificar d'usuari\n",
    "data.sort_values(by='user_id')[:10]"
   ]
  },
  {
   "cell_type": "markdown",
   "metadata": {
    "id": "_ZUmLfmb7_Hh"
   },
   "source": [
    "La funció ``iloc`` ens permet obtenir un subconjunt de files i/o columnes:"
   ]
  },
  {
   "cell_type": "code",
   "execution_count": 12,
   "metadata": {
    "colab": {
     "base_uri": "https://localhost:8080/",
     "height": 112
    },
    "collapsed": false,
    "id": "KD1bJDTl7_Hi",
    "jupyter": {
     "outputs_hidden": false
    },
    "outputId": "fd968406-056b-4379-b392-260a59625734"
   },
   "outputs": [
    {
     "data": {
      "text/html": [
       "<div>\n",
       "<style scoped>\n",
       "    .dataframe tbody tr th:only-of-type {\n",
       "        vertical-align: middle;\n",
       "    }\n",
       "\n",
       "    .dataframe tbody tr th {\n",
       "        vertical-align: top;\n",
       "    }\n",
       "\n",
       "    .dataframe thead th {\n",
       "        text-align: right;\n",
       "    }\n",
       "</style>\n",
       "<table border=\"1\" class=\"dataframe\">\n",
       "  <thead>\n",
       "    <tr style=\"text-align: right;\">\n",
       "      <th></th>\n",
       "      <th>user_id</th>\n",
       "      <th>movie_id</th>\n",
       "      <th>rating</th>\n",
       "      <th>timestamp</th>\n",
       "      <th>gender</th>\n",
       "      <th>age</th>\n",
       "      <th>occupation</th>\n",
       "      <th>zip</th>\n",
       "      <th>title</th>\n",
       "      <th>genres</th>\n",
       "    </tr>\n",
       "  </thead>\n",
       "  <tbody>\n",
       "    <tr>\n",
       "      <th>3</th>\n",
       "      <td>15</td>\n",
       "      <td>1193</td>\n",
       "      <td>4</td>\n",
       "      <td>978199279</td>\n",
       "      <td>M</td>\n",
       "      <td>25</td>\n",
       "      <td>7</td>\n",
       "      <td>22903</td>\n",
       "      <td>One Flew Over the Cuckoo's Nest (1975)</td>\n",
       "      <td>Drama</td>\n",
       "    </tr>\n",
       "    <tr>\n",
       "      <th>4</th>\n",
       "      <td>17</td>\n",
       "      <td>1193</td>\n",
       "      <td>5</td>\n",
       "      <td>978158471</td>\n",
       "      <td>M</td>\n",
       "      <td>50</td>\n",
       "      <td>1</td>\n",
       "      <td>95350</td>\n",
       "      <td>One Flew Over the Cuckoo's Nest (1975)</td>\n",
       "      <td>Drama</td>\n",
       "    </tr>\n",
       "  </tbody>\n",
       "</table>\n",
       "</div>"
      ],
      "text/plain": [
       "   user_id  movie_id  rating  timestamp gender  age  occupation    zip  \\\n",
       "3       15      1193       4  978199279      M   25           7  22903   \n",
       "4       17      1193       5  978158471      M   50           1  95350   \n",
       "\n",
       "                                    title genres  \n",
       "3  One Flew Over the Cuckoo's Nest (1975)  Drama  \n",
       "4  One Flew Over the Cuckoo's Nest (1975)  Drama  "
      ]
     },
     "execution_count": 12,
     "metadata": {},
     "output_type": "execute_result"
    }
   ],
   "source": [
    "data.iloc[3:5]"
   ]
  },
  {
   "cell_type": "markdown",
   "metadata": {
    "id": "zAUedYqE7_Hi"
   },
   "source": [
    "Els índexs Boolans ens permeten seleccionar una part de la taula que compleix una condició."
   ]
  },
  {
   "cell_type": "code",
   "execution_count": 13,
   "metadata": {
    "colab": {
     "base_uri": "https://localhost:8080/"
    },
    "collapsed": false,
    "id": "QY4xV2xo7_Hi",
    "jupyter": {
     "outputs_hidden": false
    },
    "outputId": "4feb10e7-4644-43e1-bed2-4e662f5bab5b"
   },
   "outputs": [
    {
     "name": "stdout",
     "output_type": "stream",
     "text": [
      "0.24638850480249627 %\n"
     ]
    }
   ],
   "source": [
    "# comptem quin tant per cent de ratings estan fets per una dona\n",
    "print(data[data['gender']=='F']['rating'].count()/float(data['rating'].count()), '%')"
   ]
  },
  {
   "cell_type": "markdown",
   "metadata": {
    "id": "C1F4nsNa7_Hi"
   },
   "source": [
    "Per obtenir les **puntuacions mitjanes de cada pel·licula agrupada per edat** podem usar el mètode ``pivot_table`` que és una forma de \"canviar\" la forma de la taula especificant quin valor agregat (mitjançant una funció predefinida) hi volem en funció dels valors de dues columnes:"
   ]
  },
  {
   "cell_type": "code",
   "execution_count": 14,
   "metadata": {
    "colab": {
     "base_uri": "https://localhost:8080/",
     "height": 394
    },
    "collapsed": false,
    "id": "0ggg8fUI7_Hi",
    "jupyter": {
     "outputs_hidden": false
    },
    "outputId": "001f655c-45d9-4bc8-d088-d5fbeb13e445"
   },
   "outputs": [
    {
     "data": {
      "text/html": [
       "<div>\n",
       "<style scoped>\n",
       "    .dataframe tbody tr th:only-of-type {\n",
       "        vertical-align: middle;\n",
       "    }\n",
       "\n",
       "    .dataframe tbody tr th {\n",
       "        vertical-align: top;\n",
       "    }\n",
       "\n",
       "    .dataframe thead th {\n",
       "        text-align: right;\n",
       "    }\n",
       "</style>\n",
       "<table border=\"1\" class=\"dataframe\">\n",
       "  <thead>\n",
       "    <tr style=\"text-align: right;\">\n",
       "      <th>age</th>\n",
       "      <th>1</th>\n",
       "      <th>18</th>\n",
       "      <th>25</th>\n",
       "      <th>35</th>\n",
       "      <th>45</th>\n",
       "      <th>50</th>\n",
       "      <th>56</th>\n",
       "    </tr>\n",
       "    <tr>\n",
       "      <th>title</th>\n",
       "      <th></th>\n",
       "      <th></th>\n",
       "      <th></th>\n",
       "      <th></th>\n",
       "      <th></th>\n",
       "      <th></th>\n",
       "      <th></th>\n",
       "    </tr>\n",
       "  </thead>\n",
       "  <tbody>\n",
       "    <tr>\n",
       "      <th>$1,000,000 Duck (1971)</th>\n",
       "      <td>NaN</td>\n",
       "      <td>3.000000</td>\n",
       "      <td>3.090909</td>\n",
       "      <td>3.133333</td>\n",
       "      <td>2.000000</td>\n",
       "      <td>2.750000</td>\n",
       "      <td>NaN</td>\n",
       "    </tr>\n",
       "    <tr>\n",
       "      <th>'Night Mother (1986)</th>\n",
       "      <td>2.000000</td>\n",
       "      <td>4.666667</td>\n",
       "      <td>3.423077</td>\n",
       "      <td>2.904762</td>\n",
       "      <td>3.833333</td>\n",
       "      <td>3.555556</td>\n",
       "      <td>4.333333</td>\n",
       "    </tr>\n",
       "    <tr>\n",
       "      <th>'Til There Was You (1997)</th>\n",
       "      <td>3.500000</td>\n",
       "      <td>2.500000</td>\n",
       "      <td>2.666667</td>\n",
       "      <td>2.900000</td>\n",
       "      <td>2.333333</td>\n",
       "      <td>2.500000</td>\n",
       "      <td>2.666667</td>\n",
       "    </tr>\n",
       "    <tr>\n",
       "      <th>'burbs, The (1989)</th>\n",
       "      <td>4.500000</td>\n",
       "      <td>3.244444</td>\n",
       "      <td>2.652174</td>\n",
       "      <td>2.818182</td>\n",
       "      <td>2.545455</td>\n",
       "      <td>3.208333</td>\n",
       "      <td>2.666667</td>\n",
       "    </tr>\n",
       "    <tr>\n",
       "      <th>...And Justice for All (1979)</th>\n",
       "      <td>3.000000</td>\n",
       "      <td>3.428571</td>\n",
       "      <td>3.724138</td>\n",
       "      <td>3.657143</td>\n",
       "      <td>4.100000</td>\n",
       "      <td>3.551724</td>\n",
       "      <td>3.928571</td>\n",
       "    </tr>\n",
       "    <tr>\n",
       "      <th>1-900 (1994)</th>\n",
       "      <td>NaN</td>\n",
       "      <td>NaN</td>\n",
       "      <td>2.000000</td>\n",
       "      <td>NaN</td>\n",
       "      <td>NaN</td>\n",
       "      <td>NaN</td>\n",
       "      <td>3.000000</td>\n",
       "    </tr>\n",
       "    <tr>\n",
       "      <th>10 Things I Hate About You (1999)</th>\n",
       "      <td>3.745455</td>\n",
       "      <td>3.415020</td>\n",
       "      <td>3.432950</td>\n",
       "      <td>3.102941</td>\n",
       "      <td>3.258065</td>\n",
       "      <td>3.629630</td>\n",
       "      <td>4.000000</td>\n",
       "    </tr>\n",
       "    <tr>\n",
       "      <th>101 Dalmatians (1961)</th>\n",
       "      <td>3.514286</td>\n",
       "      <td>3.295082</td>\n",
       "      <td>3.613757</td>\n",
       "      <td>3.826087</td>\n",
       "      <td>3.976744</td>\n",
       "      <td>3.650000</td>\n",
       "      <td>3.190476</td>\n",
       "    </tr>\n",
       "    <tr>\n",
       "      <th>101 Dalmatians (1996)</th>\n",
       "      <td>3.088235</td>\n",
       "      <td>2.467742</td>\n",
       "      <td>2.928571</td>\n",
       "      <td>3.279570</td>\n",
       "      <td>3.482759</td>\n",
       "      <td>3.400000</td>\n",
       "      <td>3.555556</td>\n",
       "    </tr>\n",
       "    <tr>\n",
       "      <th>12 Angry Men (1957)</th>\n",
       "      <td>4.176471</td>\n",
       "      <td>4.032609</td>\n",
       "      <td>4.408654</td>\n",
       "      <td>4.358333</td>\n",
       "      <td>4.274194</td>\n",
       "      <td>4.287879</td>\n",
       "      <td>4.235294</td>\n",
       "    </tr>\n",
       "  </tbody>\n",
       "</table>\n",
       "</div>"
      ],
      "text/plain": [
       "age                                      1         18        25        35  \\\n",
       "title                                                                       \n",
       "$1,000,000 Duck (1971)                  NaN  3.000000  3.090909  3.133333   \n",
       "'Night Mother (1986)               2.000000  4.666667  3.423077  2.904762   \n",
       "'Til There Was You (1997)          3.500000  2.500000  2.666667  2.900000   \n",
       "'burbs, The (1989)                 4.500000  3.244444  2.652174  2.818182   \n",
       "...And Justice for All (1979)      3.000000  3.428571  3.724138  3.657143   \n",
       "1-900 (1994)                            NaN       NaN  2.000000       NaN   \n",
       "10 Things I Hate About You (1999)  3.745455  3.415020  3.432950  3.102941   \n",
       "101 Dalmatians (1961)              3.514286  3.295082  3.613757  3.826087   \n",
       "101 Dalmatians (1996)              3.088235  2.467742  2.928571  3.279570   \n",
       "12 Angry Men (1957)                4.176471  4.032609  4.408654  4.358333   \n",
       "\n",
       "age                                      45        50        56  \n",
       "title                                                            \n",
       "$1,000,000 Duck (1971)             2.000000  2.750000       NaN  \n",
       "'Night Mother (1986)               3.833333  3.555556  4.333333  \n",
       "'Til There Was You (1997)          2.333333  2.500000  2.666667  \n",
       "'burbs, The (1989)                 2.545455  3.208333  2.666667  \n",
       "...And Justice for All (1979)      4.100000  3.551724  3.928571  \n",
       "1-900 (1994)                            NaN       NaN  3.000000  \n",
       "10 Things I Hate About You (1999)  3.258065  3.629630  4.000000  \n",
       "101 Dalmatians (1961)              3.976744  3.650000  3.190476  \n",
       "101 Dalmatians (1996)              3.482759  3.400000  3.555556  \n",
       "12 Angry Men (1957)                4.274194  4.287879  4.235294  "
      ]
     },
     "execution_count": 14,
     "metadata": {},
     "output_type": "execute_result"
    }
   ],
   "source": [
    "mean_ratings = data.pivot_table(values= 'rating', index='title', columns='age', aggfunc='mean')\n",
    "mean_ratings[:10]"
   ]
  },
  {
   "cell_type": "markdown",
   "metadata": {
    "id": "zULR8Fzw7_Hj"
   },
   "source": [
    "Per obtenir les **puntuacions mitjanes de cada pel·licula agrupada per sexe**:"
   ]
  },
  {
   "cell_type": "code",
   "execution_count": 15,
   "metadata": {
    "colab": {
     "base_uri": "https://localhost:8080/",
     "height": 394
    },
    "collapsed": false,
    "id": "WZw7KdtW7_Hj",
    "jupyter": {
     "outputs_hidden": false
    },
    "outputId": "3f937288-cf9a-4e77-8cb4-f34d44f90dd2"
   },
   "outputs": [
    {
     "data": {
      "text/html": [
       "<div>\n",
       "<style scoped>\n",
       "    .dataframe tbody tr th:only-of-type {\n",
       "        vertical-align: middle;\n",
       "    }\n",
       "\n",
       "    .dataframe tbody tr th {\n",
       "        vertical-align: top;\n",
       "    }\n",
       "\n",
       "    .dataframe thead th {\n",
       "        text-align: right;\n",
       "    }\n",
       "</style>\n",
       "<table border=\"1\" class=\"dataframe\">\n",
       "  <thead>\n",
       "    <tr style=\"text-align: right;\">\n",
       "      <th>gender</th>\n",
       "      <th>F</th>\n",
       "      <th>M</th>\n",
       "    </tr>\n",
       "    <tr>\n",
       "      <th>title</th>\n",
       "      <th></th>\n",
       "      <th></th>\n",
       "    </tr>\n",
       "  </thead>\n",
       "  <tbody>\n",
       "    <tr>\n",
       "      <th>$1,000,000 Duck (1971)</th>\n",
       "      <td>3.375000</td>\n",
       "      <td>2.761905</td>\n",
       "    </tr>\n",
       "    <tr>\n",
       "      <th>'Night Mother (1986)</th>\n",
       "      <td>3.388889</td>\n",
       "      <td>3.352941</td>\n",
       "    </tr>\n",
       "    <tr>\n",
       "      <th>'Til There Was You (1997)</th>\n",
       "      <td>2.675676</td>\n",
       "      <td>2.733333</td>\n",
       "    </tr>\n",
       "    <tr>\n",
       "      <th>'burbs, The (1989)</th>\n",
       "      <td>2.793478</td>\n",
       "      <td>2.962085</td>\n",
       "    </tr>\n",
       "    <tr>\n",
       "      <th>...And Justice for All (1979)</th>\n",
       "      <td>3.828571</td>\n",
       "      <td>3.689024</td>\n",
       "    </tr>\n",
       "    <tr>\n",
       "      <th>1-900 (1994)</th>\n",
       "      <td>2.000000</td>\n",
       "      <td>3.000000</td>\n",
       "    </tr>\n",
       "    <tr>\n",
       "      <th>10 Things I Hate About You (1999)</th>\n",
       "      <td>3.646552</td>\n",
       "      <td>3.311966</td>\n",
       "    </tr>\n",
       "    <tr>\n",
       "      <th>101 Dalmatians (1961)</th>\n",
       "      <td>3.791444</td>\n",
       "      <td>3.500000</td>\n",
       "    </tr>\n",
       "    <tr>\n",
       "      <th>101 Dalmatians (1996)</th>\n",
       "      <td>3.240000</td>\n",
       "      <td>2.911215</td>\n",
       "    </tr>\n",
       "    <tr>\n",
       "      <th>12 Angry Men (1957)</th>\n",
       "      <td>4.184397</td>\n",
       "      <td>4.328421</td>\n",
       "    </tr>\n",
       "  </tbody>\n",
       "</table>\n",
       "</div>"
      ],
      "text/plain": [
       "gender                                    F         M\n",
       "title                                                \n",
       "$1,000,000 Duck (1971)             3.375000  2.761905\n",
       "'Night Mother (1986)               3.388889  3.352941\n",
       "'Til There Was You (1997)          2.675676  2.733333\n",
       "'burbs, The (1989)                 2.793478  2.962085\n",
       "...And Justice for All (1979)      3.828571  3.689024\n",
       "1-900 (1994)                       2.000000  3.000000\n",
       "10 Things I Hate About You (1999)  3.646552  3.311966\n",
       "101 Dalmatians (1961)              3.791444  3.500000\n",
       "101 Dalmatians (1996)              3.240000  2.911215\n",
       "12 Angry Men (1957)                4.184397  4.328421"
      ]
     },
     "execution_count": 15,
     "metadata": {},
     "output_type": "execute_result"
    }
   ],
   "source": [
    "mean_ratings = data.pivot_table('rating', index='title',columns='gender', aggfunc='mean')\n",
    "mean_ratings[:10]"
   ]
  },
  {
   "cell_type": "markdown",
   "metadata": {
    "id": "TpQNQ7la7_Hj"
   },
   "source": [
    "Si volgéssim fer càlculs només sobre les pel·licules que han rebut **al menys** 250 puntuacions, primer hem de construir una taula amb el nombre d'avaluacions de cada títol. Per fer-ho, agruparem les dades per títol (amb el mètode ``groupby``) i usarem ``size()`` el nombre.\n",
    "\n",
    "El mètode ``groupby`` implenta un o més d'aquests processos:\n",
    "\n",
    "+ Dividir les dades segons algun criteri.\n",
    "+ Aplicar una funció a cada grup.\n",
    "+ Combinar els resultats en una estructura de dades."
   ]
  },
  {
   "cell_type": "code",
   "execution_count": 16,
   "metadata": {
    "colab": {
     "base_uri": "https://localhost:8080/"
    },
    "collapsed": false,
    "id": "tJ_W5m7L7_Hj",
    "jupyter": {
     "outputs_hidden": false
    },
    "outputId": "d0d950b6-ae50-4639-f012-6daab517d4dd"
   },
   "outputs": [
    {
     "name": "stdout",
     "output_type": "stream",
     "text": [
      "title\n",
      "$1,000,000 Duck (1971)                         37\n",
      "'Night Mother (1986)                           70\n",
      "'Til There Was You (1997)                      52\n",
      "'burbs, The (1989)                            303\n",
      "...And Justice for All (1979)                 199\n",
      "                                             ... \n",
      "Zed & Two Noughts, A (1985)                    29\n",
      "Zero Effect (1998)                            301\n",
      "Zero Kelvin (Kjærlighetens kjøtere) (1995)      2\n",
      "Zeus and Roxanne (1997)                        23\n",
      "eXistenZ (1999)                               410\n",
      "Length: 3706, dtype: int64\n"
     ]
    }
   ],
   "source": [
    "ratings_by_title = data.groupby('title').size()\n",
    "print(ratings_by_title)"
   ]
  },
  {
   "cell_type": "markdown",
   "metadata": {
    "id": "AQDqWCDu7_Hj"
   },
   "source": [
    "Llavors podem crear un índex amb els títols amb més de 250 avaluacions."
   ]
  },
  {
   "cell_type": "code",
   "execution_count": 17,
   "metadata": {
    "collapsed": false,
    "id": "tTqJNSSn7_Hk",
    "jupyter": {
     "outputs_hidden": false
    }
   },
   "outputs": [
    {
     "data": {
      "text/plain": [
       "Index([''burbs, The (1989)', '10 Things I Hate About You (1999)',\n",
       "       '101 Dalmatians (1961)', '101 Dalmatians (1996)', '12 Angry Men (1957)',\n",
       "       '13th Warrior, The (1999)', '2 Days in the Valley (1996)',\n",
       "       '20,000 Leagues Under the Sea (1954)', '2001: A Space Odyssey (1968)',\n",
       "       '2010 (1984)',\n",
       "       ...\n",
       "       'X-Men (2000)', 'Year of Living Dangerously (1982)',\n",
       "       'Yellow Submarine (1968)', 'You've Got Mail (1998)',\n",
       "       'Young Frankenstein (1974)', 'Young Guns (1988)',\n",
       "       'Young Guns II (1990)', 'Young Sherlock Holmes (1985)',\n",
       "       'Zero Effect (1998)', 'eXistenZ (1999)'],\n",
       "      dtype='object', name='title', length=1216)"
      ]
     },
     "execution_count": 17,
     "metadata": {},
     "output_type": "execute_result"
    }
   ],
   "source": [
    "active_titles = ratings_by_title.index[ratings_by_title >= 250]\n",
    "active_titles"
   ]
  },
  {
   "cell_type": "markdown",
   "metadata": {
    "id": "rWtgNCQ67_Hk"
   },
   "source": [
    "L'índex de títols que reben al menys 250 puntuacions es pot fer servir per seleccionar les files de ``mean_ratings``: "
   ]
  },
  {
   "cell_type": "code",
   "execution_count": 18,
   "metadata": {
    "colab": {
     "base_uri": "https://localhost:8080/",
     "height": 455
    },
    "collapsed": false,
    "id": "ik9QypUc7_Hk",
    "jupyter": {
     "outputs_hidden": false
    },
    "outputId": "bb8a1f11-5de1-44f4-8bcc-701751f764d8"
   },
   "outputs": [
    {
     "data": {
      "text/html": [
       "<div>\n",
       "<style scoped>\n",
       "    .dataframe tbody tr th:only-of-type {\n",
       "        vertical-align: middle;\n",
       "    }\n",
       "\n",
       "    .dataframe tbody tr th {\n",
       "        vertical-align: top;\n",
       "    }\n",
       "\n",
       "    .dataframe thead th {\n",
       "        text-align: right;\n",
       "    }\n",
       "</style>\n",
       "<table border=\"1\" class=\"dataframe\">\n",
       "  <thead>\n",
       "    <tr style=\"text-align: right;\">\n",
       "      <th>gender</th>\n",
       "      <th>F</th>\n",
       "      <th>M</th>\n",
       "    </tr>\n",
       "    <tr>\n",
       "      <th>title</th>\n",
       "      <th></th>\n",
       "      <th></th>\n",
       "    </tr>\n",
       "  </thead>\n",
       "  <tbody>\n",
       "    <tr>\n",
       "      <th>'burbs, The (1989)</th>\n",
       "      <td>2.793478</td>\n",
       "      <td>2.962085</td>\n",
       "    </tr>\n",
       "    <tr>\n",
       "      <th>10 Things I Hate About You (1999)</th>\n",
       "      <td>3.646552</td>\n",
       "      <td>3.311966</td>\n",
       "    </tr>\n",
       "    <tr>\n",
       "      <th>101 Dalmatians (1961)</th>\n",
       "      <td>3.791444</td>\n",
       "      <td>3.500000</td>\n",
       "    </tr>\n",
       "    <tr>\n",
       "      <th>101 Dalmatians (1996)</th>\n",
       "      <td>3.240000</td>\n",
       "      <td>2.911215</td>\n",
       "    </tr>\n",
       "    <tr>\n",
       "      <th>12 Angry Men (1957)</th>\n",
       "      <td>4.184397</td>\n",
       "      <td>4.328421</td>\n",
       "    </tr>\n",
       "    <tr>\n",
       "      <th>...</th>\n",
       "      <td>...</td>\n",
       "      <td>...</td>\n",
       "    </tr>\n",
       "    <tr>\n",
       "      <th>Young Guns (1988)</th>\n",
       "      <td>3.371795</td>\n",
       "      <td>3.425620</td>\n",
       "    </tr>\n",
       "    <tr>\n",
       "      <th>Young Guns II (1990)</th>\n",
       "      <td>2.934783</td>\n",
       "      <td>2.904025</td>\n",
       "    </tr>\n",
       "    <tr>\n",
       "      <th>Young Sherlock Holmes (1985)</th>\n",
       "      <td>3.514706</td>\n",
       "      <td>3.363344</td>\n",
       "    </tr>\n",
       "    <tr>\n",
       "      <th>Zero Effect (1998)</th>\n",
       "      <td>3.864407</td>\n",
       "      <td>3.723140</td>\n",
       "    </tr>\n",
       "    <tr>\n",
       "      <th>eXistenZ (1999)</th>\n",
       "      <td>3.098592</td>\n",
       "      <td>3.289086</td>\n",
       "    </tr>\n",
       "  </tbody>\n",
       "</table>\n",
       "<p>1216 rows × 2 columns</p>\n",
       "</div>"
      ],
      "text/plain": [
       "gender                                    F         M\n",
       "title                                                \n",
       "'burbs, The (1989)                 2.793478  2.962085\n",
       "10 Things I Hate About You (1999)  3.646552  3.311966\n",
       "101 Dalmatians (1961)              3.791444  3.500000\n",
       "101 Dalmatians (1996)              3.240000  2.911215\n",
       "12 Angry Men (1957)                4.184397  4.328421\n",
       "...                                     ...       ...\n",
       "Young Guns (1988)                  3.371795  3.425620\n",
       "Young Guns II (1990)               2.934783  2.904025\n",
       "Young Sherlock Holmes (1985)       3.514706  3.363344\n",
       "Zero Effect (1998)                 3.864407  3.723140\n",
       "eXistenZ (1999)                    3.098592  3.289086\n",
       "\n",
       "[1216 rows x 2 columns]"
      ]
     },
     "execution_count": 18,
     "metadata": {},
     "output_type": "execute_result"
    }
   ],
   "source": [
    "mean_ratings = mean_ratings.loc[active_titles]\n",
    "mean_ratings"
   ]
  },
  {
   "cell_type": "markdown",
   "metadata": {
    "id": "zpqV3wms7_Hk"
   },
   "source": [
    "Per veure els films més valorats per les dones, podem ordenar per la columna F de forma descendent:"
   ]
  },
  {
   "cell_type": "code",
   "execution_count": 19,
   "metadata": {
    "colab": {
     "base_uri": "https://localhost:8080/",
     "height": 394
    },
    "collapsed": false,
    "id": "Kj7FwATG7_Hk",
    "jupyter": {
     "outputs_hidden": false
    },
    "outputId": "ef3ad940-af96-4d50-8d98-cc59637ff426"
   },
   "outputs": [
    {
     "data": {
      "text/html": [
       "<div>\n",
       "<style scoped>\n",
       "    .dataframe tbody tr th:only-of-type {\n",
       "        vertical-align: middle;\n",
       "    }\n",
       "\n",
       "    .dataframe tbody tr th {\n",
       "        vertical-align: top;\n",
       "    }\n",
       "\n",
       "    .dataframe thead th {\n",
       "        text-align: right;\n",
       "    }\n",
       "</style>\n",
       "<table border=\"1\" class=\"dataframe\">\n",
       "  <thead>\n",
       "    <tr style=\"text-align: right;\">\n",
       "      <th>gender</th>\n",
       "      <th>F</th>\n",
       "      <th>M</th>\n",
       "    </tr>\n",
       "    <tr>\n",
       "      <th>title</th>\n",
       "      <th></th>\n",
       "      <th></th>\n",
       "    </tr>\n",
       "  </thead>\n",
       "  <tbody>\n",
       "    <tr>\n",
       "      <th>Close Shave, A (1995)</th>\n",
       "      <td>4.644444</td>\n",
       "      <td>4.473795</td>\n",
       "    </tr>\n",
       "    <tr>\n",
       "      <th>Wrong Trousers, The (1993)</th>\n",
       "      <td>4.588235</td>\n",
       "      <td>4.478261</td>\n",
       "    </tr>\n",
       "    <tr>\n",
       "      <th>Sunset Blvd. (a.k.a. Sunset Boulevard) (1950)</th>\n",
       "      <td>4.572650</td>\n",
       "      <td>4.464589</td>\n",
       "    </tr>\n",
       "    <tr>\n",
       "      <th>Wallace &amp; Gromit: The Best of Aardman Animation (1996)</th>\n",
       "      <td>4.563107</td>\n",
       "      <td>4.385075</td>\n",
       "    </tr>\n",
       "    <tr>\n",
       "      <th>Schindler's List (1993)</th>\n",
       "      <td>4.562602</td>\n",
       "      <td>4.491415</td>\n",
       "    </tr>\n",
       "    <tr>\n",
       "      <th>Shawshank Redemption, The (1994)</th>\n",
       "      <td>4.539075</td>\n",
       "      <td>4.560625</td>\n",
       "    </tr>\n",
       "    <tr>\n",
       "      <th>Grand Day Out, A (1992)</th>\n",
       "      <td>4.537879</td>\n",
       "      <td>4.293255</td>\n",
       "    </tr>\n",
       "    <tr>\n",
       "      <th>To Kill a Mockingbird (1962)</th>\n",
       "      <td>4.536667</td>\n",
       "      <td>4.372611</td>\n",
       "    </tr>\n",
       "    <tr>\n",
       "      <th>Creature Comforts (1990)</th>\n",
       "      <td>4.513889</td>\n",
       "      <td>4.272277</td>\n",
       "    </tr>\n",
       "    <tr>\n",
       "      <th>Usual Suspects, The (1995)</th>\n",
       "      <td>4.513317</td>\n",
       "      <td>4.518248</td>\n",
       "    </tr>\n",
       "  </tbody>\n",
       "</table>\n",
       "</div>"
      ],
      "text/plain": [
       "gender                                                     F         M\n",
       "title                                                                 \n",
       "Close Shave, A (1995)                               4.644444  4.473795\n",
       "Wrong Trousers, The (1993)                          4.588235  4.478261\n",
       "Sunset Blvd. (a.k.a. Sunset Boulevard) (1950)       4.572650  4.464589\n",
       "Wallace & Gromit: The Best of Aardman Animation...  4.563107  4.385075\n",
       "Schindler's List (1993)                             4.562602  4.491415\n",
       "Shawshank Redemption, The (1994)                    4.539075  4.560625\n",
       "Grand Day Out, A (1992)                             4.537879  4.293255\n",
       "To Kill a Mockingbird (1962)                        4.536667  4.372611\n",
       "Creature Comforts (1990)                            4.513889  4.272277\n",
       "Usual Suspects, The (1995)                          4.513317  4.518248"
      ]
     },
     "execution_count": 19,
     "metadata": {},
     "output_type": "execute_result"
    }
   ],
   "source": [
    "top_female_ratings = mean_ratings.sort_values(by='F', ascending=False)\n",
    "top_female_ratings[:10]"
   ]
  },
  {
   "cell_type": "markdown",
   "metadata": {
    "id": "chZZgTE_7_Hk"
   },
   "source": [
    "Suposem ara que volem les pel·licules que estan valorades de forma més diferent entre homes i dones. Una forma d'obtenir-ho és afegir una columna a ``mean_ratings`` que contingui la diferència en mitjana i llavors ordenar:"
   ]
  },
  {
   "cell_type": "code",
   "execution_count": 20,
   "metadata": {
    "collapsed": false,
    "id": "YNK0fGWA7_Hl",
    "jupyter": {
     "outputs_hidden": false
    }
   },
   "outputs": [],
   "source": [
    "mean_ratings['diff'] = mean_ratings['M'] - mean_ratings['F']"
   ]
  },
  {
   "cell_type": "markdown",
   "metadata": {
    "id": "TCJu7wsU7_Hl"
   },
   "source": [
    "Ordenant per ``diff`` ens dóna les pel·licules ben valorades per les dones que presenten més diferència entre homes i dones:"
   ]
  },
  {
   "cell_type": "code",
   "execution_count": 21,
   "metadata": {
    "colab": {
     "base_uri": "https://localhost:8080/",
     "height": 551
    },
    "collapsed": false,
    "id": "Hh7BOQCm7_Hl",
    "jupyter": {
     "outputs_hidden": false
    },
    "outputId": "a84a6e79-ee5b-448a-fcb8-c181e357a1f7"
   },
   "outputs": [
    {
     "data": {
      "text/html": [
       "<div>\n",
       "<style scoped>\n",
       "    .dataframe tbody tr th:only-of-type {\n",
       "        vertical-align: middle;\n",
       "    }\n",
       "\n",
       "    .dataframe tbody tr th {\n",
       "        vertical-align: top;\n",
       "    }\n",
       "\n",
       "    .dataframe thead th {\n",
       "        text-align: right;\n",
       "    }\n",
       "</style>\n",
       "<table border=\"1\" class=\"dataframe\">\n",
       "  <thead>\n",
       "    <tr style=\"text-align: right;\">\n",
       "      <th>gender</th>\n",
       "      <th>F</th>\n",
       "      <th>M</th>\n",
       "      <th>diff</th>\n",
       "    </tr>\n",
       "    <tr>\n",
       "      <th>title</th>\n",
       "      <th></th>\n",
       "      <th></th>\n",
       "      <th></th>\n",
       "    </tr>\n",
       "  </thead>\n",
       "  <tbody>\n",
       "    <tr>\n",
       "      <th>Dirty Dancing (1987)</th>\n",
       "      <td>3.790378</td>\n",
       "      <td>2.959596</td>\n",
       "      <td>-0.830782</td>\n",
       "    </tr>\n",
       "    <tr>\n",
       "      <th>Jumpin' Jack Flash (1986)</th>\n",
       "      <td>3.254717</td>\n",
       "      <td>2.578358</td>\n",
       "      <td>-0.676359</td>\n",
       "    </tr>\n",
       "    <tr>\n",
       "      <th>Grease (1978)</th>\n",
       "      <td>3.975265</td>\n",
       "      <td>3.367041</td>\n",
       "      <td>-0.608224</td>\n",
       "    </tr>\n",
       "    <tr>\n",
       "      <th>Little Women (1994)</th>\n",
       "      <td>3.870588</td>\n",
       "      <td>3.321739</td>\n",
       "      <td>-0.548849</td>\n",
       "    </tr>\n",
       "    <tr>\n",
       "      <th>Steel Magnolias (1989)</th>\n",
       "      <td>3.901734</td>\n",
       "      <td>3.365957</td>\n",
       "      <td>-0.535777</td>\n",
       "    </tr>\n",
       "    <tr>\n",
       "      <th>Anastasia (1997)</th>\n",
       "      <td>3.800000</td>\n",
       "      <td>3.281609</td>\n",
       "      <td>-0.518391</td>\n",
       "    </tr>\n",
       "    <tr>\n",
       "      <th>Rocky Horror Picture Show, The (1975)</th>\n",
       "      <td>3.673016</td>\n",
       "      <td>3.160131</td>\n",
       "      <td>-0.512885</td>\n",
       "    </tr>\n",
       "    <tr>\n",
       "      <th>Color Purple, The (1985)</th>\n",
       "      <td>4.158192</td>\n",
       "      <td>3.659341</td>\n",
       "      <td>-0.498851</td>\n",
       "    </tr>\n",
       "    <tr>\n",
       "      <th>Age of Innocence, The (1993)</th>\n",
       "      <td>3.827068</td>\n",
       "      <td>3.339506</td>\n",
       "      <td>-0.487561</td>\n",
       "    </tr>\n",
       "    <tr>\n",
       "      <th>Free Willy (1993)</th>\n",
       "      <td>2.921348</td>\n",
       "      <td>2.438776</td>\n",
       "      <td>-0.482573</td>\n",
       "    </tr>\n",
       "    <tr>\n",
       "      <th>French Kiss (1995)</th>\n",
       "      <td>3.535714</td>\n",
       "      <td>3.056962</td>\n",
       "      <td>-0.478752</td>\n",
       "    </tr>\n",
       "    <tr>\n",
       "      <th>Little Shop of Horrors, The (1960)</th>\n",
       "      <td>3.650000</td>\n",
       "      <td>3.179688</td>\n",
       "      <td>-0.470312</td>\n",
       "    </tr>\n",
       "    <tr>\n",
       "      <th>Guys and Dolls (1955)</th>\n",
       "      <td>4.051724</td>\n",
       "      <td>3.583333</td>\n",
       "      <td>-0.468391</td>\n",
       "    </tr>\n",
       "    <tr>\n",
       "      <th>Mary Poppins (1964)</th>\n",
       "      <td>4.197740</td>\n",
       "      <td>3.730594</td>\n",
       "      <td>-0.467147</td>\n",
       "    </tr>\n",
       "    <tr>\n",
       "      <th>Patch Adams (1998)</th>\n",
       "      <td>3.473282</td>\n",
       "      <td>3.008746</td>\n",
       "      <td>-0.464536</td>\n",
       "    </tr>\n",
       "  </tbody>\n",
       "</table>\n",
       "</div>"
      ],
      "text/plain": [
       "gender                                        F         M      diff\n",
       "title                                                              \n",
       "Dirty Dancing (1987)                   3.790378  2.959596 -0.830782\n",
       "Jumpin' Jack Flash (1986)              3.254717  2.578358 -0.676359\n",
       "Grease (1978)                          3.975265  3.367041 -0.608224\n",
       "Little Women (1994)                    3.870588  3.321739 -0.548849\n",
       "Steel Magnolias (1989)                 3.901734  3.365957 -0.535777\n",
       "Anastasia (1997)                       3.800000  3.281609 -0.518391\n",
       "Rocky Horror Picture Show, The (1975)  3.673016  3.160131 -0.512885\n",
       "Color Purple, The (1985)               4.158192  3.659341 -0.498851\n",
       "Age of Innocence, The (1993)           3.827068  3.339506 -0.487561\n",
       "Free Willy (1993)                      2.921348  2.438776 -0.482573\n",
       "French Kiss (1995)                     3.535714  3.056962 -0.478752\n",
       "Little Shop of Horrors, The (1960)     3.650000  3.179688 -0.470312\n",
       "Guys and Dolls (1955)                  4.051724  3.583333 -0.468391\n",
       "Mary Poppins (1964)                    4.197740  3.730594 -0.467147\n",
       "Patch Adams (1998)                     3.473282  3.008746 -0.464536"
      ]
     },
     "execution_count": 21,
     "metadata": {},
     "output_type": "execute_result"
    }
   ],
   "source": [
    "sorted_by_diff = mean_ratings.sort_values(by='diff')\n",
    "sorted_by_diff[:15]"
   ]
  },
  {
   "cell_type": "markdown",
   "metadata": {
    "id": "hS-I2mZs7_Hl"
   },
   "source": [
    "Invertint l'ordre de les files i fent un ``slicing`` de les 15 files superiors obtenim les pel·licules ben valorades pels homes que no han agradat a les dones: "
   ]
  },
  {
   "cell_type": "code",
   "execution_count": 22,
   "metadata": {
    "colab": {
     "base_uri": "https://localhost:8080/",
     "height": 551
    },
    "collapsed": false,
    "id": "I3Xuc3OA7_Hl",
    "jupyter": {
     "outputs_hidden": false
    },
    "outputId": "94f7f810-d160-4ee6-fe09-5c8ba68bc213"
   },
   "outputs": [
    {
     "data": {
      "text/html": [
       "<div>\n",
       "<style scoped>\n",
       "    .dataframe tbody tr th:only-of-type {\n",
       "        vertical-align: middle;\n",
       "    }\n",
       "\n",
       "    .dataframe tbody tr th {\n",
       "        vertical-align: top;\n",
       "    }\n",
       "\n",
       "    .dataframe thead th {\n",
       "        text-align: right;\n",
       "    }\n",
       "</style>\n",
       "<table border=\"1\" class=\"dataframe\">\n",
       "  <thead>\n",
       "    <tr style=\"text-align: right;\">\n",
       "      <th>gender</th>\n",
       "      <th>F</th>\n",
       "      <th>M</th>\n",
       "      <th>diff</th>\n",
       "    </tr>\n",
       "    <tr>\n",
       "      <th>title</th>\n",
       "      <th></th>\n",
       "      <th></th>\n",
       "      <th></th>\n",
       "    </tr>\n",
       "  </thead>\n",
       "  <tbody>\n",
       "    <tr>\n",
       "      <th>Good, The Bad and The Ugly, The (1966)</th>\n",
       "      <td>3.494949</td>\n",
       "      <td>4.221300</td>\n",
       "      <td>0.726351</td>\n",
       "    </tr>\n",
       "    <tr>\n",
       "      <th>Kentucky Fried Movie, The (1977)</th>\n",
       "      <td>2.878788</td>\n",
       "      <td>3.555147</td>\n",
       "      <td>0.676359</td>\n",
       "    </tr>\n",
       "    <tr>\n",
       "      <th>Dumb &amp; Dumber (1994)</th>\n",
       "      <td>2.697987</td>\n",
       "      <td>3.336595</td>\n",
       "      <td>0.638608</td>\n",
       "    </tr>\n",
       "    <tr>\n",
       "      <th>Longest Day, The (1962)</th>\n",
       "      <td>3.411765</td>\n",
       "      <td>4.031447</td>\n",
       "      <td>0.619682</td>\n",
       "    </tr>\n",
       "    <tr>\n",
       "      <th>Cable Guy, The (1996)</th>\n",
       "      <td>2.250000</td>\n",
       "      <td>2.863787</td>\n",
       "      <td>0.613787</td>\n",
       "    </tr>\n",
       "    <tr>\n",
       "      <th>Evil Dead II (Dead By Dawn) (1987)</th>\n",
       "      <td>3.297297</td>\n",
       "      <td>3.909283</td>\n",
       "      <td>0.611985</td>\n",
       "    </tr>\n",
       "    <tr>\n",
       "      <th>Hidden, The (1987)</th>\n",
       "      <td>3.137931</td>\n",
       "      <td>3.745098</td>\n",
       "      <td>0.607167</td>\n",
       "    </tr>\n",
       "    <tr>\n",
       "      <th>Rocky III (1982)</th>\n",
       "      <td>2.361702</td>\n",
       "      <td>2.943503</td>\n",
       "      <td>0.581801</td>\n",
       "    </tr>\n",
       "    <tr>\n",
       "      <th>Caddyshack (1980)</th>\n",
       "      <td>3.396135</td>\n",
       "      <td>3.969737</td>\n",
       "      <td>0.573602</td>\n",
       "    </tr>\n",
       "    <tr>\n",
       "      <th>For a Few Dollars More (1965)</th>\n",
       "      <td>3.409091</td>\n",
       "      <td>3.953795</td>\n",
       "      <td>0.544704</td>\n",
       "    </tr>\n",
       "    <tr>\n",
       "      <th>Porky's (1981)</th>\n",
       "      <td>2.296875</td>\n",
       "      <td>2.836364</td>\n",
       "      <td>0.539489</td>\n",
       "    </tr>\n",
       "    <tr>\n",
       "      <th>Animal House (1978)</th>\n",
       "      <td>3.628906</td>\n",
       "      <td>4.167192</td>\n",
       "      <td>0.538286</td>\n",
       "    </tr>\n",
       "    <tr>\n",
       "      <th>Exorcist, The (1973)</th>\n",
       "      <td>3.537634</td>\n",
       "      <td>4.067239</td>\n",
       "      <td>0.529605</td>\n",
       "    </tr>\n",
       "    <tr>\n",
       "      <th>Fright Night (1985)</th>\n",
       "      <td>2.973684</td>\n",
       "      <td>3.500000</td>\n",
       "      <td>0.526316</td>\n",
       "    </tr>\n",
       "    <tr>\n",
       "      <th>Barb Wire (1996)</th>\n",
       "      <td>1.585366</td>\n",
       "      <td>2.100386</td>\n",
       "      <td>0.515020</td>\n",
       "    </tr>\n",
       "  </tbody>\n",
       "</table>\n",
       "</div>"
      ],
      "text/plain": [
       "gender                                         F         M      diff\n",
       "title                                                               \n",
       "Good, The Bad and The Ugly, The (1966)  3.494949  4.221300  0.726351\n",
       "Kentucky Fried Movie, The (1977)        2.878788  3.555147  0.676359\n",
       "Dumb & Dumber (1994)                    2.697987  3.336595  0.638608\n",
       "Longest Day, The (1962)                 3.411765  4.031447  0.619682\n",
       "Cable Guy, The (1996)                   2.250000  2.863787  0.613787\n",
       "Evil Dead II (Dead By Dawn) (1987)      3.297297  3.909283  0.611985\n",
       "Hidden, The (1987)                      3.137931  3.745098  0.607167\n",
       "Rocky III (1982)                        2.361702  2.943503  0.581801\n",
       "Caddyshack (1980)                       3.396135  3.969737  0.573602\n",
       "For a Few Dollars More (1965)           3.409091  3.953795  0.544704\n",
       "Porky's (1981)                          2.296875  2.836364  0.539489\n",
       "Animal House (1978)                     3.628906  4.167192  0.538286\n",
       "Exorcist, The (1973)                    3.537634  4.067239  0.529605\n",
       "Fright Night (1985)                     2.973684  3.500000  0.526316\n",
       "Barb Wire (1996)                        1.585366  2.100386  0.515020"
      ]
     },
     "execution_count": 22,
     "metadata": {},
     "output_type": "execute_result"
    }
   ],
   "source": [
    "sorted_by_diff[::-1][:15]"
   ]
  },
  {
   "cell_type": "markdown",
   "metadata": {
    "id": "X8pwNADD7_Hm"
   },
   "source": [
    "Si volguéssim les pel·licules que han generat puntuacions més discordants, independentment del gènere, podem fer servir la variança o la desviació estàndard de les puntuacions: "
   ]
  },
  {
   "cell_type": "code",
   "execution_count": 23,
   "metadata": {
    "colab": {
     "base_uri": "https://localhost:8080/"
    },
    "collapsed": false,
    "id": "wvDrSy1u7_Hm",
    "jupyter": {
     "outputs_hidden": false
    },
    "outputId": "8f4d06d2-893a-4925-f19f-2ca36ca00298"
   },
   "outputs": [
    {
     "data": {
      "text/plain": [
       "title\n",
       "Dumb & Dumber (1994)                     1.321333\n",
       "Blair Witch Project, The (1999)          1.316368\n",
       "Natural Born Killers (1994)              1.307198\n",
       "Tank Girl (1995)                         1.277695\n",
       "Rocky Horror Picture Show, The (1975)    1.260177\n",
       "Eyes Wide Shut (1999)                    1.259624\n",
       "Evita (1996)                             1.253631\n",
       "Billy Madison (1995)                     1.249970\n",
       "Fear and Loathing in Las Vegas (1998)    1.246408\n",
       "Bicentennial Man (1999)                  1.245533\n",
       "Name: rating, dtype: float64"
      ]
     },
     "execution_count": 23,
     "metadata": {},
     "output_type": "execute_result"
    }
   ],
   "source": [
    "# Standard deviation of rating grouped by title\n",
    "rating_std_by_title = data.groupby('title')['rating'].std()\n",
    "# Filter down to active_titles\n",
    "rating_std_by_title = rating_std_by_title.loc[active_titles]\n",
    "rating_std_by_title.sort_values(ascending=False)[:10]"
   ]
  },
  {
   "cell_type": "markdown",
   "metadata": {
    "id": "2mXAQiQj7_Hm"
   },
   "source": [
    "### Important: Temes de rendiment"
   ]
  },
  {
   "cell_type": "code",
   "execution_count": 24,
   "metadata": {
    "colab": {
     "base_uri": "https://localhost:8080/"
    },
    "collapsed": false,
    "id": "R0erbTv97_Hm",
    "jupyter": {
     "outputs_hidden": false
    },
    "outputId": "fa7961dc-8a04-4f76-f826-7dc759078e65"
   },
   "outputs": [
    {
     "name": "stdout",
     "output_type": "stream",
     "text": [
      "907 ns ± 0.6 ns per loop (mean ± std. dev. of 7 runs, 1,000,000 loops each)\n",
      "2.01 µs ± 44.6 ns per loop (mean ± std. dev. of 7 runs, 1,000,000 loops each)\n",
      "9.62 ms ± 289 µs per loop (mean ± std. dev. of 7 runs, 100 loops each)\n"
     ]
    }
   ],
   "source": [
    "%timeit data['title'] \n",
    "%timeit data.title \n",
    "%timeit data[['title']] "
   ]
  },
  {
   "cell_type": "code",
   "execution_count": 25,
   "metadata": {
    "colab": {
     "base_uri": "https://localhost:8080/"
    },
    "collapsed": false,
    "id": "mYizuyUE7_Hm",
    "jupyter": {
     "outputs_hidden": false
    },
    "outputId": "b551e8a1-01c4-4ec3-f5a1-71919aa2eaf0"
   },
   "outputs": [
    {
     "data": {
      "text/plain": [
       "pandas.core.frame.DataFrame"
      ]
     },
     "execution_count": 25,
     "metadata": {},
     "output_type": "execute_result"
    }
   ],
   "source": [
    "type(data[['title']])"
   ]
  },
  {
   "cell_type": "code",
   "execution_count": 26,
   "metadata": {
    "colab": {
     "base_uri": "https://localhost:8080/"
    },
    "collapsed": false,
    "id": "RBdE3p9e7_Hm",
    "jupyter": {
     "outputs_hidden": false
    },
    "outputId": "8cd001fe-790b-421a-9387-e037b2fa6e43"
   },
   "outputs": [
    {
     "data": {
      "text/plain": [
       "pandas.core.series.Series"
      ]
     },
     "execution_count": 26,
     "metadata": {},
     "output_type": "execute_result"
    }
   ],
   "source": [
    "type(data.title)"
   ]
  },
  {
   "cell_type": "markdown",
   "metadata": {
    "id": "06D4EiZ8wgam"
   },
   "source": [
    "## 3. EXERCICIS"
   ]
  },
  {
   "cell_type": "markdown",
   "metadata": {
    "id": "ZH4QhLdU7_Hm"
   },
   "source": [
    "### 3.1. PRIMER EXERCICI \n",
    "\n",
    "Donada la taula ``data``, calcula la puntuació mitjana de cada usuari. "
   ]
  },
  {
   "cell_type": "code",
   "execution_count": 27,
   "metadata": {
    "colab": {
     "base_uri": "https://localhost:8080/"
    },
    "id": "Ny8l1qx8Sgfh",
    "outputId": "cc8d001d-8321-4bb6-dbc5-49454089e1bc"
   },
   "outputs": [
    {
     "name": "stdout",
     "output_type": "stream",
     "text": [
      "assigment_code.ipynb \u001b[1m\u001b[36mml-1m\u001b[m\u001b[m                ml-1m.zip\n"
     ]
    }
   ],
   "source": [
    "!ls"
   ]
  },
  {
   "cell_type": "code",
   "execution_count": 28,
   "metadata": {
    "id": "pojIMFQ-Sie1"
   },
   "outputs": [],
   "source": [
    "data_folder = 'ml-1m'"
   ]
  },
  {
   "cell_type": "code",
   "execution_count": 29,
   "metadata": {
    "collapsed": false,
    "id": "o8CCmNp97_Hm",
    "jupyter": {
     "outputs_hidden": false
    }
   },
   "outputs": [
    {
     "data": {
      "text/html": [
       "<div>\n",
       "<style scoped>\n",
       "    .dataframe tbody tr th:only-of-type {\n",
       "        vertical-align: middle;\n",
       "    }\n",
       "\n",
       "    .dataframe tbody tr th {\n",
       "        vertical-align: top;\n",
       "    }\n",
       "\n",
       "    .dataframe thead th {\n",
       "        text-align: right;\n",
       "    }\n",
       "</style>\n",
       "<table border=\"1\" class=\"dataframe\">\n",
       "  <thead>\n",
       "    <tr style=\"text-align: right;\">\n",
       "      <th></th>\n",
       "      <th>user_id</th>\n",
       "      <th>movie_id</th>\n",
       "      <th>rating</th>\n",
       "      <th>timestamp</th>\n",
       "      <th>gender</th>\n",
       "      <th>age</th>\n",
       "      <th>occupation</th>\n",
       "      <th>zip</th>\n",
       "      <th>title</th>\n",
       "      <th>genres</th>\n",
       "    </tr>\n",
       "  </thead>\n",
       "  <tbody>\n",
       "    <tr>\n",
       "      <th>0</th>\n",
       "      <td>1</td>\n",
       "      <td>1193</td>\n",
       "      <td>5</td>\n",
       "      <td>978300760</td>\n",
       "      <td>F</td>\n",
       "      <td>1</td>\n",
       "      <td>10</td>\n",
       "      <td>48067</td>\n",
       "      <td>One Flew Over the Cuckoo's Nest (1975)</td>\n",
       "      <td>Drama</td>\n",
       "    </tr>\n",
       "    <tr>\n",
       "      <th>1</th>\n",
       "      <td>2</td>\n",
       "      <td>1193</td>\n",
       "      <td>5</td>\n",
       "      <td>978298413</td>\n",
       "      <td>M</td>\n",
       "      <td>56</td>\n",
       "      <td>16</td>\n",
       "      <td>70072</td>\n",
       "      <td>One Flew Over the Cuckoo's Nest (1975)</td>\n",
       "      <td>Drama</td>\n",
       "    </tr>\n",
       "    <tr>\n",
       "      <th>2</th>\n",
       "      <td>12</td>\n",
       "      <td>1193</td>\n",
       "      <td>4</td>\n",
       "      <td>978220179</td>\n",
       "      <td>M</td>\n",
       "      <td>25</td>\n",
       "      <td>12</td>\n",
       "      <td>32793</td>\n",
       "      <td>One Flew Over the Cuckoo's Nest (1975)</td>\n",
       "      <td>Drama</td>\n",
       "    </tr>\n",
       "    <tr>\n",
       "      <th>3</th>\n",
       "      <td>15</td>\n",
       "      <td>1193</td>\n",
       "      <td>4</td>\n",
       "      <td>978199279</td>\n",
       "      <td>M</td>\n",
       "      <td>25</td>\n",
       "      <td>7</td>\n",
       "      <td>22903</td>\n",
       "      <td>One Flew Over the Cuckoo's Nest (1975)</td>\n",
       "      <td>Drama</td>\n",
       "    </tr>\n",
       "    <tr>\n",
       "      <th>4</th>\n",
       "      <td>17</td>\n",
       "      <td>1193</td>\n",
       "      <td>5</td>\n",
       "      <td>978158471</td>\n",
       "      <td>M</td>\n",
       "      <td>50</td>\n",
       "      <td>1</td>\n",
       "      <td>95350</td>\n",
       "      <td>One Flew Over the Cuckoo's Nest (1975)</td>\n",
       "      <td>Drama</td>\n",
       "    </tr>\n",
       "    <tr>\n",
       "      <th>...</th>\n",
       "      <td>...</td>\n",
       "      <td>...</td>\n",
       "      <td>...</td>\n",
       "      <td>...</td>\n",
       "      <td>...</td>\n",
       "      <td>...</td>\n",
       "      <td>...</td>\n",
       "      <td>...</td>\n",
       "      <td>...</td>\n",
       "      <td>...</td>\n",
       "    </tr>\n",
       "    <tr>\n",
       "      <th>1000204</th>\n",
       "      <td>5949</td>\n",
       "      <td>2198</td>\n",
       "      <td>5</td>\n",
       "      <td>958846401</td>\n",
       "      <td>M</td>\n",
       "      <td>18</td>\n",
       "      <td>17</td>\n",
       "      <td>47901</td>\n",
       "      <td>Modulations (1998)</td>\n",
       "      <td>Documentary</td>\n",
       "    </tr>\n",
       "    <tr>\n",
       "      <th>1000205</th>\n",
       "      <td>5675</td>\n",
       "      <td>2703</td>\n",
       "      <td>3</td>\n",
       "      <td>976029116</td>\n",
       "      <td>M</td>\n",
       "      <td>35</td>\n",
       "      <td>14</td>\n",
       "      <td>30030</td>\n",
       "      <td>Broken Vessels (1998)</td>\n",
       "      <td>Drama</td>\n",
       "    </tr>\n",
       "    <tr>\n",
       "      <th>1000206</th>\n",
       "      <td>5780</td>\n",
       "      <td>2845</td>\n",
       "      <td>1</td>\n",
       "      <td>958153068</td>\n",
       "      <td>M</td>\n",
       "      <td>18</td>\n",
       "      <td>17</td>\n",
       "      <td>92886</td>\n",
       "      <td>White Boys (1999)</td>\n",
       "      <td>Drama</td>\n",
       "    </tr>\n",
       "    <tr>\n",
       "      <th>1000207</th>\n",
       "      <td>5851</td>\n",
       "      <td>3607</td>\n",
       "      <td>5</td>\n",
       "      <td>957756608</td>\n",
       "      <td>F</td>\n",
       "      <td>18</td>\n",
       "      <td>20</td>\n",
       "      <td>55410</td>\n",
       "      <td>One Little Indian (1973)</td>\n",
       "      <td>Comedy|Drama|Western</td>\n",
       "    </tr>\n",
       "    <tr>\n",
       "      <th>1000208</th>\n",
       "      <td>5938</td>\n",
       "      <td>2909</td>\n",
       "      <td>4</td>\n",
       "      <td>957273353</td>\n",
       "      <td>M</td>\n",
       "      <td>25</td>\n",
       "      <td>1</td>\n",
       "      <td>35401</td>\n",
       "      <td>Five Wives, Three Secretaries and Me (1998)</td>\n",
       "      <td>Documentary</td>\n",
       "    </tr>\n",
       "  </tbody>\n",
       "</table>\n",
       "<p>1000209 rows × 10 columns</p>\n",
       "</div>"
      ],
      "text/plain": [
       "         user_id  movie_id  rating  timestamp gender  age  occupation    zip  \\\n",
       "0              1      1193       5  978300760      F    1          10  48067   \n",
       "1              2      1193       5  978298413      M   56          16  70072   \n",
       "2             12      1193       4  978220179      M   25          12  32793   \n",
       "3             15      1193       4  978199279      M   25           7  22903   \n",
       "4             17      1193       5  978158471      M   50           1  95350   \n",
       "...          ...       ...     ...        ...    ...  ...         ...    ...   \n",
       "1000204     5949      2198       5  958846401      M   18          17  47901   \n",
       "1000205     5675      2703       3  976029116      M   35          14  30030   \n",
       "1000206     5780      2845       1  958153068      M   18          17  92886   \n",
       "1000207     5851      3607       5  957756608      F   18          20  55410   \n",
       "1000208     5938      2909       4  957273353      M   25           1  35401   \n",
       "\n",
       "                                               title                genres  \n",
       "0             One Flew Over the Cuckoo's Nest (1975)                 Drama  \n",
       "1             One Flew Over the Cuckoo's Nest (1975)                 Drama  \n",
       "2             One Flew Over the Cuckoo's Nest (1975)                 Drama  \n",
       "3             One Flew Over the Cuckoo's Nest (1975)                 Drama  \n",
       "4             One Flew Over the Cuckoo's Nest (1975)                 Drama  \n",
       "...                                              ...                   ...  \n",
       "1000204                           Modulations (1998)           Documentary  \n",
       "1000205                        Broken Vessels (1998)                 Drama  \n",
       "1000206                            White Boys (1999)                 Drama  \n",
       "1000207                     One Little Indian (1973)  Comedy|Drama|Western  \n",
       "1000208  Five Wives, Three Secretaries and Me (1998)           Documentary  \n",
       "\n",
       "[1000209 rows x 10 columns]"
      ]
     },
     "execution_count": 29,
     "metadata": {},
     "output_type": "execute_result"
    }
   ],
   "source": [
    "import pandas as pd\n",
    "unames = ['user_id', 'gender', 'age', 'occupation', 'zip']\n",
    "users = pd.read_table(f'{data_folder}/users.dat', sep='::', header=None, names=unames, engine='python')\n",
    "rnames = ['user_id', 'movie_id', 'rating', 'timestamp']\n",
    "ratings = pd.read_table(f'{data_folder}/ratings.dat', sep='::', header=None, names=rnames, engine='python')\n",
    "mnames = ['movie_id', 'title', 'genres']\n",
    "movies = pd.read_table(f'{data_folder}/movies.dat', sep='::', header=None, names=mnames, engine='python',encoding='latin-1')\n",
    "\n",
    "data = pd.merge(pd.merge(ratings, users), movies)\n",
    "data\n"
   ]
  },
  {
   "cell_type": "markdown",
   "metadata": {
    "id": "bz8OgaPz7_Hn"
   },
   "source": [
    "+ Quina és la pel·lícula més ben puntuada (en mitja) pels usuaris? (Guarda aquest valor en una variable ``string``). "
   ]
  },
  {
   "cell_type": "code",
   "execution_count": 144,
   "metadata": {
    "collapsed": false,
    "id": "9rYx6aBz7_Hn",
    "jupyter": {
     "outputs_hidden": false
    }
   },
   "outputs": [
    {
     "data": {
      "text/plain": [
       "'744'"
      ]
     },
     "execution_count": 144,
     "metadata": {},
     "output_type": "execute_result"
    }
   ],
   "source": [
    "# PELI AMB MITJA MES ALTA I MES NUMERO DE PUNTUACIONS\n",
    "# seleccionem 5 pelicules i ordenem segons la mitjana de ratings per cada movie\n",
    "top_movies = data[[\"movie_id\", \"rating\"]].groupby([\"movie_id\"]).mean().nlargest(columns=[\"rating\"], n=5)\n",
    "# mirem quantes vegades apareix cada pelicula (és a dir quantes valoracions te)\n",
    "number = pd.Series(data[\"movie_id\"].value_counts(), name=\"Qty\")\n",
    "# unim aquesta informació en una taula que ordenem de forma descendent i només ens quedem l'id de la peli amb mitja i numero de visualitzacions més alta\n",
    "taula = pd.merge(top_movies, number, left_on=\"movie_id\", right_index=True)\n",
    "taula = taula.sort_values([\"rating\", \"Qty\"], ascending=[False, False])\n",
    "top_mean_movie = str(taula.index[0])\n",
    "top_mean_movie\n"
   ]
  },
  {
   "cell_type": "markdown",
   "metadata": {
    "id": "CUtdHgwk7_Hn"
   },
   "source": [
    "### 3.2. SEGON EXERCICI\n",
    "\n",
    "Defineix una funció anomenada ``top_movie`` que donat un usuari ens retorni quina és la pel·lícula millor puntuada.<br> \n"
   ]
  },
  {
   "cell_type": "code",
   "execution_count": 145,
   "metadata": {
    "colab": {
     "base_uri": "https://localhost:8080/"
    },
    "collapsed": false,
    "id": "V_wE7gmB7_Hn",
    "jupyter": {
     "outputs_hidden": false
    },
    "outputId": "86cc55f8-a57e-49ed-ad8f-46049ea1a3d6"
   },
   "outputs": [
    {
     "name": "stdout",
     "output_type": "stream",
     "text": [
      "1    One Flew Over the Cuckoo's Nest (1975)\n",
      "Name: title, dtype: object\n"
     ]
    }
   ],
   "source": [
    "\n",
    "def top_movie(dataFrame,usr):\n",
    "    # Seleccionem l'usuari que ens indiquen i agafem el valor més gran de la columna rating\n",
    "    best_movie = dataFrame[dataFrame[\"user_id\"]==usr].nlargest(columns=[\"rating\"], n=1)\n",
    "    return best_movie[\"title\"]\n",
    "\n",
    "print(top_movie(data,1))"
   ]
  },
  {
   "cell_type": "markdown",
   "metadata": {},
   "source": [
    "### 3.3. TERCER EXERCICI"
   ]
  },
  {
   "cell_type": "markdown",
   "metadata": {},
   "source": [
    "Construeix una funció que donat un dataframe et retorni el valor que cada usuari li ha donat a una peli. Això ho farem creant un dataframe on les columnes són els `movie_id`, les files `user_id` i els valors siguin el rating donat."
   ]
  },
  {
   "cell_type": "code",
   "execution_count": 146,
   "metadata": {},
   "outputs": [],
   "source": [
    "def build_counts_table(df):\n",
    "    \"\"\"\n",
    "    Retorna un dataframe on les columnes són els `movie_id`, les files `user_id` i els valors\n",
    "    el nombre de vegades que un usuari ha vist una peli d'un `movie_id`\n",
    "    \n",
    "    :param df: DataFrame original \n",
    "    :return: DataFrame descrit adalt\n",
    "    \"\"\"\n",
    "    # ens interessa posar com a atributs els usuaris i les keys de les pelicules i com a valors els ratings que han fet\n",
    "    # en el cas que no hi hagues valoració apareix NaN\n",
    "    counts_table = df.pivot_table(\"rating\", index=\"user_id\", columns=\"movie_id\")\n",
    "    return counts_table\n",
    "    "
   ]
  },
  {
   "cell_type": "code",
   "execution_count": 135,
   "metadata": {},
   "outputs": [
    {
     "data": {
      "text/html": [
       "<div>\n",
       "<style scoped>\n",
       "    .dataframe tbody tr th:only-of-type {\n",
       "        vertical-align: middle;\n",
       "    }\n",
       "\n",
       "    .dataframe tbody tr th {\n",
       "        vertical-align: top;\n",
       "    }\n",
       "\n",
       "    .dataframe thead th {\n",
       "        text-align: right;\n",
       "    }\n",
       "</style>\n",
       "<table border=\"1\" class=\"dataframe\">\n",
       "  <thead>\n",
       "    <tr style=\"text-align: right;\">\n",
       "      <th>movie_id</th>\n",
       "      <th>0</th>\n",
       "      <th>1</th>\n",
       "      <th>2</th>\n",
       "      <th>3</th>\n",
       "      <th>4</th>\n",
       "      <th>5</th>\n",
       "      <th>6</th>\n",
       "      <th>7</th>\n",
       "      <th>8</th>\n",
       "      <th>9</th>\n",
       "      <th>...</th>\n",
       "      <th>3696</th>\n",
       "      <th>3697</th>\n",
       "      <th>3698</th>\n",
       "      <th>3699</th>\n",
       "      <th>3700</th>\n",
       "      <th>3701</th>\n",
       "      <th>3702</th>\n",
       "      <th>3703</th>\n",
       "      <th>3704</th>\n",
       "      <th>3705</th>\n",
       "    </tr>\n",
       "    <tr>\n",
       "      <th>user_id</th>\n",
       "      <th></th>\n",
       "      <th></th>\n",
       "      <th></th>\n",
       "      <th></th>\n",
       "      <th></th>\n",
       "      <th></th>\n",
       "      <th></th>\n",
       "      <th></th>\n",
       "      <th></th>\n",
       "      <th></th>\n",
       "      <th></th>\n",
       "      <th></th>\n",
       "      <th></th>\n",
       "      <th></th>\n",
       "      <th></th>\n",
       "      <th></th>\n",
       "      <th></th>\n",
       "      <th></th>\n",
       "      <th></th>\n",
       "      <th></th>\n",
       "      <th></th>\n",
       "    </tr>\n",
       "  </thead>\n",
       "  <tbody>\n",
       "    <tr>\n",
       "      <th>0</th>\n",
       "      <td>5.0</td>\n",
       "      <td>NaN</td>\n",
       "      <td>NaN</td>\n",
       "      <td>NaN</td>\n",
       "      <td>NaN</td>\n",
       "      <td>NaN</td>\n",
       "      <td>NaN</td>\n",
       "      <td>NaN</td>\n",
       "      <td>NaN</td>\n",
       "      <td>NaN</td>\n",
       "      <td>...</td>\n",
       "      <td>NaN</td>\n",
       "      <td>NaN</td>\n",
       "      <td>NaN</td>\n",
       "      <td>NaN</td>\n",
       "      <td>NaN</td>\n",
       "      <td>NaN</td>\n",
       "      <td>NaN</td>\n",
       "      <td>NaN</td>\n",
       "      <td>NaN</td>\n",
       "      <td>NaN</td>\n",
       "    </tr>\n",
       "    <tr>\n",
       "      <th>1</th>\n",
       "      <td>NaN</td>\n",
       "      <td>NaN</td>\n",
       "      <td>NaN</td>\n",
       "      <td>NaN</td>\n",
       "      <td>NaN</td>\n",
       "      <td>NaN</td>\n",
       "      <td>NaN</td>\n",
       "      <td>NaN</td>\n",
       "      <td>NaN</td>\n",
       "      <td>NaN</td>\n",
       "      <td>...</td>\n",
       "      <td>NaN</td>\n",
       "      <td>NaN</td>\n",
       "      <td>NaN</td>\n",
       "      <td>NaN</td>\n",
       "      <td>NaN</td>\n",
       "      <td>NaN</td>\n",
       "      <td>NaN</td>\n",
       "      <td>NaN</td>\n",
       "      <td>NaN</td>\n",
       "      <td>NaN</td>\n",
       "    </tr>\n",
       "    <tr>\n",
       "      <th>2</th>\n",
       "      <td>NaN</td>\n",
       "      <td>NaN</td>\n",
       "      <td>NaN</td>\n",
       "      <td>NaN</td>\n",
       "      <td>NaN</td>\n",
       "      <td>NaN</td>\n",
       "      <td>NaN</td>\n",
       "      <td>NaN</td>\n",
       "      <td>NaN</td>\n",
       "      <td>NaN</td>\n",
       "      <td>...</td>\n",
       "      <td>NaN</td>\n",
       "      <td>NaN</td>\n",
       "      <td>NaN</td>\n",
       "      <td>NaN</td>\n",
       "      <td>NaN</td>\n",
       "      <td>NaN</td>\n",
       "      <td>NaN</td>\n",
       "      <td>NaN</td>\n",
       "      <td>NaN</td>\n",
       "      <td>NaN</td>\n",
       "    </tr>\n",
       "    <tr>\n",
       "      <th>3</th>\n",
       "      <td>NaN</td>\n",
       "      <td>NaN</td>\n",
       "      <td>NaN</td>\n",
       "      <td>NaN</td>\n",
       "      <td>NaN</td>\n",
       "      <td>NaN</td>\n",
       "      <td>NaN</td>\n",
       "      <td>NaN</td>\n",
       "      <td>NaN</td>\n",
       "      <td>NaN</td>\n",
       "      <td>...</td>\n",
       "      <td>NaN</td>\n",
       "      <td>NaN</td>\n",
       "      <td>NaN</td>\n",
       "      <td>NaN</td>\n",
       "      <td>NaN</td>\n",
       "      <td>NaN</td>\n",
       "      <td>NaN</td>\n",
       "      <td>NaN</td>\n",
       "      <td>NaN</td>\n",
       "      <td>NaN</td>\n",
       "    </tr>\n",
       "    <tr>\n",
       "      <th>4</th>\n",
       "      <td>NaN</td>\n",
       "      <td>NaN</td>\n",
       "      <td>NaN</td>\n",
       "      <td>NaN</td>\n",
       "      <td>NaN</td>\n",
       "      <td>2.0</td>\n",
       "      <td>NaN</td>\n",
       "      <td>NaN</td>\n",
       "      <td>NaN</td>\n",
       "      <td>NaN</td>\n",
       "      <td>...</td>\n",
       "      <td>NaN</td>\n",
       "      <td>NaN</td>\n",
       "      <td>NaN</td>\n",
       "      <td>NaN</td>\n",
       "      <td>NaN</td>\n",
       "      <td>NaN</td>\n",
       "      <td>NaN</td>\n",
       "      <td>NaN</td>\n",
       "      <td>NaN</td>\n",
       "      <td>NaN</td>\n",
       "    </tr>\n",
       "    <tr>\n",
       "      <th>...</th>\n",
       "      <td>...</td>\n",
       "      <td>...</td>\n",
       "      <td>...</td>\n",
       "      <td>...</td>\n",
       "      <td>...</td>\n",
       "      <td>...</td>\n",
       "      <td>...</td>\n",
       "      <td>...</td>\n",
       "      <td>...</td>\n",
       "      <td>...</td>\n",
       "      <td>...</td>\n",
       "      <td>...</td>\n",
       "      <td>...</td>\n",
       "      <td>...</td>\n",
       "      <td>...</td>\n",
       "      <td>...</td>\n",
       "      <td>...</td>\n",
       "      <td>...</td>\n",
       "      <td>...</td>\n",
       "      <td>...</td>\n",
       "      <td>...</td>\n",
       "    </tr>\n",
       "    <tr>\n",
       "      <th>6035</th>\n",
       "      <td>NaN</td>\n",
       "      <td>NaN</td>\n",
       "      <td>NaN</td>\n",
       "      <td>2.0</td>\n",
       "      <td>NaN</td>\n",
       "      <td>3.0</td>\n",
       "      <td>NaN</td>\n",
       "      <td>NaN</td>\n",
       "      <td>NaN</td>\n",
       "      <td>NaN</td>\n",
       "      <td>...</td>\n",
       "      <td>NaN</td>\n",
       "      <td>NaN</td>\n",
       "      <td>NaN</td>\n",
       "      <td>NaN</td>\n",
       "      <td>NaN</td>\n",
       "      <td>NaN</td>\n",
       "      <td>NaN</td>\n",
       "      <td>NaN</td>\n",
       "      <td>NaN</td>\n",
       "      <td>NaN</td>\n",
       "    </tr>\n",
       "    <tr>\n",
       "      <th>6036</th>\n",
       "      <td>NaN</td>\n",
       "      <td>NaN</td>\n",
       "      <td>NaN</td>\n",
       "      <td>NaN</td>\n",
       "      <td>NaN</td>\n",
       "      <td>NaN</td>\n",
       "      <td>NaN</td>\n",
       "      <td>NaN</td>\n",
       "      <td>NaN</td>\n",
       "      <td>NaN</td>\n",
       "      <td>...</td>\n",
       "      <td>NaN</td>\n",
       "      <td>NaN</td>\n",
       "      <td>NaN</td>\n",
       "      <td>NaN</td>\n",
       "      <td>NaN</td>\n",
       "      <td>NaN</td>\n",
       "      <td>NaN</td>\n",
       "      <td>NaN</td>\n",
       "      <td>NaN</td>\n",
       "      <td>NaN</td>\n",
       "    </tr>\n",
       "    <tr>\n",
       "      <th>6037</th>\n",
       "      <td>NaN</td>\n",
       "      <td>NaN</td>\n",
       "      <td>NaN</td>\n",
       "      <td>NaN</td>\n",
       "      <td>NaN</td>\n",
       "      <td>NaN</td>\n",
       "      <td>NaN</td>\n",
       "      <td>NaN</td>\n",
       "      <td>NaN</td>\n",
       "      <td>NaN</td>\n",
       "      <td>...</td>\n",
       "      <td>NaN</td>\n",
       "      <td>NaN</td>\n",
       "      <td>NaN</td>\n",
       "      <td>NaN</td>\n",
       "      <td>NaN</td>\n",
       "      <td>NaN</td>\n",
       "      <td>NaN</td>\n",
       "      <td>NaN</td>\n",
       "      <td>NaN</td>\n",
       "      <td>NaN</td>\n",
       "    </tr>\n",
       "    <tr>\n",
       "      <th>6038</th>\n",
       "      <td>NaN</td>\n",
       "      <td>NaN</td>\n",
       "      <td>NaN</td>\n",
       "      <td>NaN</td>\n",
       "      <td>NaN</td>\n",
       "      <td>NaN</td>\n",
       "      <td>NaN</td>\n",
       "      <td>NaN</td>\n",
       "      <td>NaN</td>\n",
       "      <td>NaN</td>\n",
       "      <td>...</td>\n",
       "      <td>NaN</td>\n",
       "      <td>NaN</td>\n",
       "      <td>NaN</td>\n",
       "      <td>NaN</td>\n",
       "      <td>NaN</td>\n",
       "      <td>NaN</td>\n",
       "      <td>NaN</td>\n",
       "      <td>NaN</td>\n",
       "      <td>NaN</td>\n",
       "      <td>NaN</td>\n",
       "    </tr>\n",
       "    <tr>\n",
       "      <th>6039</th>\n",
       "      <td>3.0</td>\n",
       "      <td>NaN</td>\n",
       "      <td>NaN</td>\n",
       "      <td>NaN</td>\n",
       "      <td>NaN</td>\n",
       "      <td>NaN</td>\n",
       "      <td>NaN</td>\n",
       "      <td>NaN</td>\n",
       "      <td>NaN</td>\n",
       "      <td>NaN</td>\n",
       "      <td>...</td>\n",
       "      <td>NaN</td>\n",
       "      <td>NaN</td>\n",
       "      <td>NaN</td>\n",
       "      <td>NaN</td>\n",
       "      <td>NaN</td>\n",
       "      <td>NaN</td>\n",
       "      <td>NaN</td>\n",
       "      <td>NaN</td>\n",
       "      <td>NaN</td>\n",
       "      <td>NaN</td>\n",
       "    </tr>\n",
       "  </tbody>\n",
       "</table>\n",
       "<p>6040 rows × 3706 columns</p>\n",
       "</div>"
      ],
      "text/plain": [
       "movie_id  0     1     2     3     4     5     6     7     8     9     ...  \\\n",
       "user_id                                                               ...   \n",
       "0          5.0   NaN   NaN   NaN   NaN   NaN   NaN   NaN   NaN   NaN  ...   \n",
       "1          NaN   NaN   NaN   NaN   NaN   NaN   NaN   NaN   NaN   NaN  ...   \n",
       "2          NaN   NaN   NaN   NaN   NaN   NaN   NaN   NaN   NaN   NaN  ...   \n",
       "3          NaN   NaN   NaN   NaN   NaN   NaN   NaN   NaN   NaN   NaN  ...   \n",
       "4          NaN   NaN   NaN   NaN   NaN   2.0   NaN   NaN   NaN   NaN  ...   \n",
       "...        ...   ...   ...   ...   ...   ...   ...   ...   ...   ...  ...   \n",
       "6035       NaN   NaN   NaN   2.0   NaN   3.0   NaN   NaN   NaN   NaN  ...   \n",
       "6036       NaN   NaN   NaN   NaN   NaN   NaN   NaN   NaN   NaN   NaN  ...   \n",
       "6037       NaN   NaN   NaN   NaN   NaN   NaN   NaN   NaN   NaN   NaN  ...   \n",
       "6038       NaN   NaN   NaN   NaN   NaN   NaN   NaN   NaN   NaN   NaN  ...   \n",
       "6039       3.0   NaN   NaN   NaN   NaN   NaN   NaN   NaN   NaN   NaN  ...   \n",
       "\n",
       "movie_id  3696  3697  3698  3699  3700  3701  3702  3703  3704  3705  \n",
       "user_id                                                               \n",
       "0          NaN   NaN   NaN   NaN   NaN   NaN   NaN   NaN   NaN   NaN  \n",
       "1          NaN   NaN   NaN   NaN   NaN   NaN   NaN   NaN   NaN   NaN  \n",
       "2          NaN   NaN   NaN   NaN   NaN   NaN   NaN   NaN   NaN   NaN  \n",
       "3          NaN   NaN   NaN   NaN   NaN   NaN   NaN   NaN   NaN   NaN  \n",
       "4          NaN   NaN   NaN   NaN   NaN   NaN   NaN   NaN   NaN   NaN  \n",
       "...        ...   ...   ...   ...   ...   ...   ...   ...   ...   ...  \n",
       "6035       NaN   NaN   NaN   NaN   NaN   NaN   NaN   NaN   NaN   NaN  \n",
       "6036       NaN   NaN   NaN   NaN   NaN   NaN   NaN   NaN   NaN   NaN  \n",
       "6037       NaN   NaN   NaN   NaN   NaN   NaN   NaN   NaN   NaN   NaN  \n",
       "6038       NaN   NaN   NaN   NaN   NaN   NaN   NaN   NaN   NaN   NaN  \n",
       "6039       NaN   NaN   NaN   NaN   NaN   NaN   NaN   NaN   NaN   NaN  \n",
       "\n",
       "[6040 rows x 3706 columns]"
      ]
     },
     "execution_count": 135,
     "metadata": {},
     "output_type": "execute_result"
    }
   ],
   "source": [
    "df_counts = build_counts_table(data)\n",
    "df_counts"
   ]
  },
  {
   "cell_type": "markdown",
   "metadata": {},
   "source": [
    "També programarem una funció que donada la taula anterior i dos id's (usuari i peli), extregui el valor donat:"
   ]
  },
  {
   "cell_type": "code",
   "execution_count": 34,
   "metadata": {},
   "outputs": [
    {
     "data": {
      "text/plain": [
       "5.0"
      ]
     },
     "execution_count": 34,
     "metadata": {},
     "output_type": "execute_result"
    }
   ],
   "source": [
    "def get_count(df, user_id, movie_id):\n",
    "    \"\"\"\n",
    "    Retorna el nombre de vegades que un usuari ha comprat en un `movie_id`\n",
    "    \n",
    "    :param df: DataFrame retornat per `build_counts_table`\n",
    "    :param user_id: ID de l'usuari\n",
    "    :param movie_id: ID de la peli\n",
    "    :return: Enter amb el nombre de vegades que ha comprat\n",
    "    \"\"\"\n",
    "    # extraiem la posició [user_id][movie_id] de la pivot table df_counts que ens dona el rating del usuari a la pelicula \n",
    "    rating = df.loc[user_id, movie_id]\n",
    "    return rating\n",
    "\n",
    "get_count(df_counts, 1, 1)###hem canviat aixo per (1,1)"
   ]
  },
  {
   "cell_type": "markdown",
   "metadata": {},
   "source": [
    "### 3.4. QUART EXERCICI"
   ]
  },
  {
   "cell_type": "code",
   "execution_count": 35,
   "metadata": {},
   "outputs": [
    {
     "data": {
      "text/plain": [
       "user_id         6040\n",
       "movie_id        3706\n",
       "rating             5\n",
       "timestamp     458455\n",
       "gender             2\n",
       "age                7\n",
       "occupation        21\n",
       "zip             3439\n",
       "title           3706\n",
       "genres           301\n",
       "dtype: int64"
      ]
     },
     "execution_count": 35,
     "metadata": {},
     "output_type": "execute_result"
    }
   ],
   "source": [
    "data.nunique()"
   ]
  },
  {
   "cell_type": "markdown",
   "metadata": {},
   "source": [
    "Si observem el nombre total d'usuaris unics i de pelicules úniques, podem observar que els id's dels usuaris van de 1 a 6040. Normalment hauriem d'intentar que comencessin al nombre 0, anant de 0 a 6039. \n",
    "\n",
    "**Què passa amb els indexos de les pelis??**"
   ]
  },
  {
   "cell_type": "markdown",
   "metadata": {},
   "source": [
    "> ANSWER: Van de 1 fins a 3952, tot i que només hi ha 3706 pel·lícules."
   ]
  },
  {
   "cell_type": "markdown",
   "metadata": {},
   "source": [
    "Usant la funció **pd.Categorical(*).codes**, re-indexa els id's dels usuaris i de les pelis perquè vagin de 0 a 6039 i de 0 a 3705 respectivament:"
   ]
  },
  {
   "cell_type": "code",
   "execution_count": 36,
   "metadata": {},
   "outputs": [],
   "source": [
    "# la vostra solució aquí\n",
    "data['user_id']=pd.Categorical(data['user_id']).codes\n",
    "data['movie_id']=pd.Categorical(data['movie_id']).codes"
   ]
  },
  {
   "cell_type": "markdown",
   "metadata": {},
   "source": [
    "Per comprovar que tot sigui correcte i guardar correctament la taula **df_counts**, torna a calcular-la:"
   ]
  },
  {
   "cell_type": "code",
   "execution_count": 37,
   "metadata": {},
   "outputs": [
    {
     "data": {
      "text/html": [
       "<div>\n",
       "<style scoped>\n",
       "    .dataframe tbody tr th:only-of-type {\n",
       "        vertical-align: middle;\n",
       "    }\n",
       "\n",
       "    .dataframe tbody tr th {\n",
       "        vertical-align: top;\n",
       "    }\n",
       "\n",
       "    .dataframe thead th {\n",
       "        text-align: right;\n",
       "    }\n",
       "</style>\n",
       "<table border=\"1\" class=\"dataframe\">\n",
       "  <thead>\n",
       "    <tr style=\"text-align: right;\">\n",
       "      <th>movie_id</th>\n",
       "      <th>0</th>\n",
       "      <th>1</th>\n",
       "      <th>2</th>\n",
       "      <th>3</th>\n",
       "      <th>4</th>\n",
       "      <th>5</th>\n",
       "      <th>6</th>\n",
       "      <th>7</th>\n",
       "      <th>8</th>\n",
       "      <th>9</th>\n",
       "      <th>...</th>\n",
       "      <th>3696</th>\n",
       "      <th>3697</th>\n",
       "      <th>3698</th>\n",
       "      <th>3699</th>\n",
       "      <th>3700</th>\n",
       "      <th>3701</th>\n",
       "      <th>3702</th>\n",
       "      <th>3703</th>\n",
       "      <th>3704</th>\n",
       "      <th>3705</th>\n",
       "    </tr>\n",
       "    <tr>\n",
       "      <th>user_id</th>\n",
       "      <th></th>\n",
       "      <th></th>\n",
       "      <th></th>\n",
       "      <th></th>\n",
       "      <th></th>\n",
       "      <th></th>\n",
       "      <th></th>\n",
       "      <th></th>\n",
       "      <th></th>\n",
       "      <th></th>\n",
       "      <th></th>\n",
       "      <th></th>\n",
       "      <th></th>\n",
       "      <th></th>\n",
       "      <th></th>\n",
       "      <th></th>\n",
       "      <th></th>\n",
       "      <th></th>\n",
       "      <th></th>\n",
       "      <th></th>\n",
       "      <th></th>\n",
       "    </tr>\n",
       "  </thead>\n",
       "  <tbody>\n",
       "    <tr>\n",
       "      <th>0</th>\n",
       "      <td>5.0</td>\n",
       "      <td>NaN</td>\n",
       "      <td>NaN</td>\n",
       "      <td>NaN</td>\n",
       "      <td>NaN</td>\n",
       "      <td>NaN</td>\n",
       "      <td>NaN</td>\n",
       "      <td>NaN</td>\n",
       "      <td>NaN</td>\n",
       "      <td>NaN</td>\n",
       "      <td>...</td>\n",
       "      <td>NaN</td>\n",
       "      <td>NaN</td>\n",
       "      <td>NaN</td>\n",
       "      <td>NaN</td>\n",
       "      <td>NaN</td>\n",
       "      <td>NaN</td>\n",
       "      <td>NaN</td>\n",
       "      <td>NaN</td>\n",
       "      <td>NaN</td>\n",
       "      <td>NaN</td>\n",
       "    </tr>\n",
       "    <tr>\n",
       "      <th>1</th>\n",
       "      <td>NaN</td>\n",
       "      <td>NaN</td>\n",
       "      <td>NaN</td>\n",
       "      <td>NaN</td>\n",
       "      <td>NaN</td>\n",
       "      <td>NaN</td>\n",
       "      <td>NaN</td>\n",
       "      <td>NaN</td>\n",
       "      <td>NaN</td>\n",
       "      <td>NaN</td>\n",
       "      <td>...</td>\n",
       "      <td>NaN</td>\n",
       "      <td>NaN</td>\n",
       "      <td>NaN</td>\n",
       "      <td>NaN</td>\n",
       "      <td>NaN</td>\n",
       "      <td>NaN</td>\n",
       "      <td>NaN</td>\n",
       "      <td>NaN</td>\n",
       "      <td>NaN</td>\n",
       "      <td>NaN</td>\n",
       "    </tr>\n",
       "    <tr>\n",
       "      <th>2</th>\n",
       "      <td>NaN</td>\n",
       "      <td>NaN</td>\n",
       "      <td>NaN</td>\n",
       "      <td>NaN</td>\n",
       "      <td>NaN</td>\n",
       "      <td>NaN</td>\n",
       "      <td>NaN</td>\n",
       "      <td>NaN</td>\n",
       "      <td>NaN</td>\n",
       "      <td>NaN</td>\n",
       "      <td>...</td>\n",
       "      <td>NaN</td>\n",
       "      <td>NaN</td>\n",
       "      <td>NaN</td>\n",
       "      <td>NaN</td>\n",
       "      <td>NaN</td>\n",
       "      <td>NaN</td>\n",
       "      <td>NaN</td>\n",
       "      <td>NaN</td>\n",
       "      <td>NaN</td>\n",
       "      <td>NaN</td>\n",
       "    </tr>\n",
       "    <tr>\n",
       "      <th>3</th>\n",
       "      <td>NaN</td>\n",
       "      <td>NaN</td>\n",
       "      <td>NaN</td>\n",
       "      <td>NaN</td>\n",
       "      <td>NaN</td>\n",
       "      <td>NaN</td>\n",
       "      <td>NaN</td>\n",
       "      <td>NaN</td>\n",
       "      <td>NaN</td>\n",
       "      <td>NaN</td>\n",
       "      <td>...</td>\n",
       "      <td>NaN</td>\n",
       "      <td>NaN</td>\n",
       "      <td>NaN</td>\n",
       "      <td>NaN</td>\n",
       "      <td>NaN</td>\n",
       "      <td>NaN</td>\n",
       "      <td>NaN</td>\n",
       "      <td>NaN</td>\n",
       "      <td>NaN</td>\n",
       "      <td>NaN</td>\n",
       "    </tr>\n",
       "    <tr>\n",
       "      <th>4</th>\n",
       "      <td>NaN</td>\n",
       "      <td>NaN</td>\n",
       "      <td>NaN</td>\n",
       "      <td>NaN</td>\n",
       "      <td>NaN</td>\n",
       "      <td>2.0</td>\n",
       "      <td>NaN</td>\n",
       "      <td>NaN</td>\n",
       "      <td>NaN</td>\n",
       "      <td>NaN</td>\n",
       "      <td>...</td>\n",
       "      <td>NaN</td>\n",
       "      <td>NaN</td>\n",
       "      <td>NaN</td>\n",
       "      <td>NaN</td>\n",
       "      <td>NaN</td>\n",
       "      <td>NaN</td>\n",
       "      <td>NaN</td>\n",
       "      <td>NaN</td>\n",
       "      <td>NaN</td>\n",
       "      <td>NaN</td>\n",
       "    </tr>\n",
       "    <tr>\n",
       "      <th>...</th>\n",
       "      <td>...</td>\n",
       "      <td>...</td>\n",
       "      <td>...</td>\n",
       "      <td>...</td>\n",
       "      <td>...</td>\n",
       "      <td>...</td>\n",
       "      <td>...</td>\n",
       "      <td>...</td>\n",
       "      <td>...</td>\n",
       "      <td>...</td>\n",
       "      <td>...</td>\n",
       "      <td>...</td>\n",
       "      <td>...</td>\n",
       "      <td>...</td>\n",
       "      <td>...</td>\n",
       "      <td>...</td>\n",
       "      <td>...</td>\n",
       "      <td>...</td>\n",
       "      <td>...</td>\n",
       "      <td>...</td>\n",
       "      <td>...</td>\n",
       "    </tr>\n",
       "    <tr>\n",
       "      <th>6035</th>\n",
       "      <td>NaN</td>\n",
       "      <td>NaN</td>\n",
       "      <td>NaN</td>\n",
       "      <td>2.0</td>\n",
       "      <td>NaN</td>\n",
       "      <td>3.0</td>\n",
       "      <td>NaN</td>\n",
       "      <td>NaN</td>\n",
       "      <td>NaN</td>\n",
       "      <td>NaN</td>\n",
       "      <td>...</td>\n",
       "      <td>NaN</td>\n",
       "      <td>NaN</td>\n",
       "      <td>NaN</td>\n",
       "      <td>NaN</td>\n",
       "      <td>NaN</td>\n",
       "      <td>NaN</td>\n",
       "      <td>NaN</td>\n",
       "      <td>NaN</td>\n",
       "      <td>NaN</td>\n",
       "      <td>NaN</td>\n",
       "    </tr>\n",
       "    <tr>\n",
       "      <th>6036</th>\n",
       "      <td>NaN</td>\n",
       "      <td>NaN</td>\n",
       "      <td>NaN</td>\n",
       "      <td>NaN</td>\n",
       "      <td>NaN</td>\n",
       "      <td>NaN</td>\n",
       "      <td>NaN</td>\n",
       "      <td>NaN</td>\n",
       "      <td>NaN</td>\n",
       "      <td>NaN</td>\n",
       "      <td>...</td>\n",
       "      <td>NaN</td>\n",
       "      <td>NaN</td>\n",
       "      <td>NaN</td>\n",
       "      <td>NaN</td>\n",
       "      <td>NaN</td>\n",
       "      <td>NaN</td>\n",
       "      <td>NaN</td>\n",
       "      <td>NaN</td>\n",
       "      <td>NaN</td>\n",
       "      <td>NaN</td>\n",
       "    </tr>\n",
       "    <tr>\n",
       "      <th>6037</th>\n",
       "      <td>NaN</td>\n",
       "      <td>NaN</td>\n",
       "      <td>NaN</td>\n",
       "      <td>NaN</td>\n",
       "      <td>NaN</td>\n",
       "      <td>NaN</td>\n",
       "      <td>NaN</td>\n",
       "      <td>NaN</td>\n",
       "      <td>NaN</td>\n",
       "      <td>NaN</td>\n",
       "      <td>...</td>\n",
       "      <td>NaN</td>\n",
       "      <td>NaN</td>\n",
       "      <td>NaN</td>\n",
       "      <td>NaN</td>\n",
       "      <td>NaN</td>\n",
       "      <td>NaN</td>\n",
       "      <td>NaN</td>\n",
       "      <td>NaN</td>\n",
       "      <td>NaN</td>\n",
       "      <td>NaN</td>\n",
       "    </tr>\n",
       "    <tr>\n",
       "      <th>6038</th>\n",
       "      <td>NaN</td>\n",
       "      <td>NaN</td>\n",
       "      <td>NaN</td>\n",
       "      <td>NaN</td>\n",
       "      <td>NaN</td>\n",
       "      <td>NaN</td>\n",
       "      <td>NaN</td>\n",
       "      <td>NaN</td>\n",
       "      <td>NaN</td>\n",
       "      <td>NaN</td>\n",
       "      <td>...</td>\n",
       "      <td>NaN</td>\n",
       "      <td>NaN</td>\n",
       "      <td>NaN</td>\n",
       "      <td>NaN</td>\n",
       "      <td>NaN</td>\n",
       "      <td>NaN</td>\n",
       "      <td>NaN</td>\n",
       "      <td>NaN</td>\n",
       "      <td>NaN</td>\n",
       "      <td>NaN</td>\n",
       "    </tr>\n",
       "    <tr>\n",
       "      <th>6039</th>\n",
       "      <td>3.0</td>\n",
       "      <td>NaN</td>\n",
       "      <td>NaN</td>\n",
       "      <td>NaN</td>\n",
       "      <td>NaN</td>\n",
       "      <td>NaN</td>\n",
       "      <td>NaN</td>\n",
       "      <td>NaN</td>\n",
       "      <td>NaN</td>\n",
       "      <td>NaN</td>\n",
       "      <td>...</td>\n",
       "      <td>NaN</td>\n",
       "      <td>NaN</td>\n",
       "      <td>NaN</td>\n",
       "      <td>NaN</td>\n",
       "      <td>NaN</td>\n",
       "      <td>NaN</td>\n",
       "      <td>NaN</td>\n",
       "      <td>NaN</td>\n",
       "      <td>NaN</td>\n",
       "      <td>NaN</td>\n",
       "    </tr>\n",
       "  </tbody>\n",
       "</table>\n",
       "<p>6040 rows × 3706 columns</p>\n",
       "</div>"
      ],
      "text/plain": [
       "movie_id  0     1     2     3     4     5     6     7     8     9     ...  \\\n",
       "user_id                                                               ...   \n",
       "0          5.0   NaN   NaN   NaN   NaN   NaN   NaN   NaN   NaN   NaN  ...   \n",
       "1          NaN   NaN   NaN   NaN   NaN   NaN   NaN   NaN   NaN   NaN  ...   \n",
       "2          NaN   NaN   NaN   NaN   NaN   NaN   NaN   NaN   NaN   NaN  ...   \n",
       "3          NaN   NaN   NaN   NaN   NaN   NaN   NaN   NaN   NaN   NaN  ...   \n",
       "4          NaN   NaN   NaN   NaN   NaN   2.0   NaN   NaN   NaN   NaN  ...   \n",
       "...        ...   ...   ...   ...   ...   ...   ...   ...   ...   ...  ...   \n",
       "6035       NaN   NaN   NaN   2.0   NaN   3.0   NaN   NaN   NaN   NaN  ...   \n",
       "6036       NaN   NaN   NaN   NaN   NaN   NaN   NaN   NaN   NaN   NaN  ...   \n",
       "6037       NaN   NaN   NaN   NaN   NaN   NaN   NaN   NaN   NaN   NaN  ...   \n",
       "6038       NaN   NaN   NaN   NaN   NaN   NaN   NaN   NaN   NaN   NaN  ...   \n",
       "6039       3.0   NaN   NaN   NaN   NaN   NaN   NaN   NaN   NaN   NaN  ...   \n",
       "\n",
       "movie_id  3696  3697  3698  3699  3700  3701  3702  3703  3704  3705  \n",
       "user_id                                                               \n",
       "0          NaN   NaN   NaN   NaN   NaN   NaN   NaN   NaN   NaN   NaN  \n",
       "1          NaN   NaN   NaN   NaN   NaN   NaN   NaN   NaN   NaN   NaN  \n",
       "2          NaN   NaN   NaN   NaN   NaN   NaN   NaN   NaN   NaN   NaN  \n",
       "3          NaN   NaN   NaN   NaN   NaN   NaN   NaN   NaN   NaN   NaN  \n",
       "4          NaN   NaN   NaN   NaN   NaN   NaN   NaN   NaN   NaN   NaN  \n",
       "...        ...   ...   ...   ...   ...   ...   ...   ...   ...   ...  \n",
       "6035       NaN   NaN   NaN   NaN   NaN   NaN   NaN   NaN   NaN   NaN  \n",
       "6036       NaN   NaN   NaN   NaN   NaN   NaN   NaN   NaN   NaN   NaN  \n",
       "6037       NaN   NaN   NaN   NaN   NaN   NaN   NaN   NaN   NaN   NaN  \n",
       "6038       NaN   NaN   NaN   NaN   NaN   NaN   NaN   NaN   NaN   NaN  \n",
       "6039       NaN   NaN   NaN   NaN   NaN   NaN   NaN   NaN   NaN   NaN  \n",
       "\n",
       "[6040 rows x 3706 columns]"
      ]
     },
     "execution_count": 37,
     "metadata": {},
     "output_type": "execute_result"
    }
   ],
   "source": [
    "df_counts = build_counts_table(data)\n",
    "df_counts"
   ]
  },
  {
   "cell_type": "markdown",
   "metadata": {
    "id": "kl4ZuaQF7_Ho"
   },
   "source": [
    "### 3.5. CINQUÉ EXERCICI\n",
    "\n"
   ]
  },
  {
   "cell_type": "markdown",
   "metadata": {},
   "source": [
    "Construeix una funció <b>distEuclid(x,y)</b> que implementi la distància Euclidiana entre dos vectors usant funcions de pandas. Escriu la funció que calculin la semblança entre dos usuaris segons aquesta estructura:\n",
    "\n",
    "``def SimEuclid (DataFrame, User1, User2)``\n",
    "    Calcular els **embeddings** de cada usuari, C1 i C2, amb les puntuacions dels ítems comuns que han puntuat el dos usuaris.\n",
    "    Si no hi ha puntuacions en comú, retornar 0. Retornar ``1/(1+distEuclid(C1, C2))``\n",
    "\n",
    "\\\n",
    "Avalueu amb la funció ``%timeit`` quant triguen aquests càlculs per un parell d'usuaris.   \n",
    "\n",
    "> *Nota: Alguns d'aquests exercicis tenen temps de càlcul de l'ordre de minuts sobre tota la base de dades. Per desenvolupar els algorismes és recomanable treballar amb una versió reduïda de la base de dades.* \n",
    "\n",
    "> *Nota: **embedding** fa referencia a un vector de N dimensions que té com a funció representar (en aquest cas) els gustos dels usuaris. També es pot fer un embedding d'items i aleshores representarien el contingut d'aquest o caracteristiques semblants.*"
   ]
  },
  {
   "cell_type": "markdown",
   "metadata": {},
   "source": [
    "---\n",
    "#### Mesurament de similituds (petita teoria)\n",
    "\n",
    "El primer pas per poder recomanar és definir una funció de similitud entre vectors. Siguin $x, y$ vectors, implementa la seva distància euclidiana:\n",
    "\n",
    "* Distància euclidea (inversa): https://en.wikipedia.org/wiki/Euclidean_distance\n",
    "\n",
    "$$sim(x, y) = \\frac{1}{1 + \\sqrt{\\sum_i(x_i-y_i)^2}}\\in [0, 1]$$\n",
    "\n",
    "---\n",
    "\n",
    "Per implementar qualsevol d'aquestes únicament es permet l'ús de:\n",
    "\n",
    "* `np.sum`\n",
    "* `np.sqrt`\n",
    "* `np.power`\n",
    "* `np.dot`\n",
    "* `np.linalg.norm`\n",
    "* `np.mean`\n",
    "\n",
    "I s'ha de fer **sense bucles**.\n"
   ]
  },
  {
   "cell_type": "code",
   "execution_count": 38,
   "metadata": {
    "collapsed": false,
    "id": "Kn42z3Of7_Ho",
    "jupyter": {
     "outputs_hidden": false
    }
   },
   "outputs": [],
   "source": [
    "import math\n",
    "import numpy as np\n",
    "import pandas as pd\n",
    "\n",
    "def distEuclid(x, y):\n",
    "    \"\"\"\n",
    "    Retorna la distancia euclidiana de dos vectors n-dimensionals.\n",
    "    \n",
    "    :param x: Primer vector\n",
    "    :param y: Segon vector\n",
    "    :return : Escalar (float) corresponent a la distancia euclidiana\n",
    "    \"\"\"\n",
    "    return np.linalg.norm(x-y)\n",
    "\n",
    "\n",
    "def SimEuclid(DataFrame, User1, User2):\n",
    "    \"\"\"\n",
    "    Retorna un score que representa la similitud entre user1 i user2 basada en la distancia euclidiana\n",
    "    \n",
    "    :param DataFrame: dataframe que conté totes les dades\n",
    "    :param User1: id user1\n",
    "    :param User2: id user2\n",
    "    :return : Escalar (float) corresponent al score\n",
    "    \"\"\"\n",
    "    # utilitzem nomes la df_counts reduida als dos usuaris indicats amb les pelicules en comu puntuades, es a dir aquelles on no hi hagi Nan\n",
    "    aux = df_counts.loc[[User1,User2]].dropna(axis=1)\n",
    "    x = aux.loc[User1]\n",
    "    y = aux.loc[User2]\n",
    "\n",
    "    return 1/(1+distEuclid(x,y))\n"
   ]
  },
  {
   "cell_type": "code",
   "execution_count": 39,
   "metadata": {
    "colab": {
     "base_uri": "https://localhost:8080/"
    },
    "collapsed": false,
    "id": "JSAH4saX7_Ho",
    "jupyter": {
     "outputs_hidden": false
    },
    "outputId": "3bf5ea3f-4ee5-4298-d429-378543828c71"
   },
   "outputs": [
    {
     "name": "stdout",
     "output_type": "stream",
     "text": [
      "0.179128784747792\n"
     ]
    }
   ],
   "source": [
    "# Execute functions\n",
    "print(SimEuclid(data, 1, 5))"
   ]
  },
  {
   "cell_type": "markdown",
   "metadata": {
    "id": "fmX_9c0t7_Hp"
   },
   "source": [
    "### 3.6. SISÉ EXERCICI\n",
    "\n",
    "Desenvolupa un sistema de recomanació col·laboratiu **basat en usuaris**. \n",
    "\n",
    "La funció principal, ``getRecommendationsUser``, ha de tenir com a entrada una taula de puntuacions, un ``user_id``, el tipus de mesura de semblança (Euclidiana) que volem usar, el nombre `m` d'usuaris semblants que volem per fer la recomanació i el nombre ``n`` de recomanacions que volem. Com a sortida ha de donar la llista de les ``n`` millors pel·lícules que li podriem recomanar segons la seva semblança amb altres usuaris.\n",
    "\n",
    "> *Nota 1: S'ha d'evitar comparar ``user_id`` a ell mateix.*\n",
    "\n",
    "> *Nota 2: Recordeu que en Python podem passar funcions com a paràmetres d'una funció.*"
   ]
  },
  {
   "cell_type": "markdown",
   "metadata": {},
   "source": [
    "#### - SECCIÓ 1: \n",
    "\n",
    "Computa la score de similitud del usuari desitjat (userID) respecte tots els altres i retorna una llista dels **m** usuaris més propers, que seran els que usarem per fer la recomanació. Normalitzeu els scores de sortida."
   ]
  },
  {
   "cell_type": "code",
   "execution_count": 40,
   "metadata": {},
   "outputs": [],
   "source": [
    "def find_similar_users(DataFrame, userID, m, simfunction):\n",
    "    \"\"\"\n",
    "    Retorna un diccionari de usuaris similars amb les scores corresponents.\n",
    "    \n",
    "    :param DataFrame: dataframe que conté totes les dades\n",
    "    :param userID: usuari respecte al qual fem la recomanació\n",
    "    :param m: nombre d'usuaris que volem per fer la recomanació\n",
    "    :param similarity: mesura de similitud\n",
    "    :return : diccionary\n",
    "    \"\"\"\n",
    "    # ens guardem en una llista els id dels usuaris, utilitzem un set perque elimini duplicats i els ordeni\n",
    "    # a part eliminem de la llista l'usuari amb el que estem comparant per evitar comparar-lo amb ell mateix\n",
    "    # ja que tindran similitud 1\n",
    "    users = list(set(DataFrame[\"user_id\"]))\n",
    "    users.remove(userID)\n",
    "    # es igual quin dataframe entrem a la funcio ja que alla utilizarem df_counts\n",
    "    similar = {x: simfunction(DataFrame, userID, x) for x in users}\n",
    "    # ordenem per ordre descendent segons el segon element\n",
    "    sorted_similar = dict(sorted(similar.items(), key= lambda kv: kv[1], reverse=True)[:m])\n",
    "    return sorted_similar"
   ]
  },
  {
   "cell_type": "code",
   "execution_count": 41,
   "metadata": {},
   "outputs": [
    {
     "name": "stdout",
     "output_type": "stream",
     "text": [
      "0:00:02.408025\n"
     ]
    }
   ],
   "source": [
    "import datetime\n",
    "t = datetime.datetime.now()\n",
    "sim_dict = find_similar_users(data, 2, 10, SimEuclid)\n",
    "t = datetime.datetime.now()-t\n",
    "print(str(t))"
   ]
  },
  {
   "cell_type": "code",
   "execution_count": 147,
   "metadata": {},
   "outputs": [
    {
     "data": {
      "text/plain": [
       "{15: 1.0,\n",
       " 60: 1.0,\n",
       " 115: 1.0,\n",
       " 152: 1.0,\n",
       " 157: 1.0,\n",
       " 163: 1.0,\n",
       " 170: 1.0,\n",
       " 278: 1.0,\n",
       " 303: 1.0,\n",
       " 314: 1.0}"
      ]
     },
     "execution_count": 147,
     "metadata": {},
     "output_type": "execute_result"
    }
   ],
   "source": [
    "sim_dict"
   ]
  },
  {
   "cell_type": "markdown",
   "metadata": {},
   "source": [
    "**CREIEU QUE ES OPTIM EL TEMPS QUE HA TARDAT PER UN USUARI?** RAONA LA RESPOSTA."
   ]
  },
  {
   "cell_type": "markdown",
   "metadata": {},
   "source": [
    "> ANSWER\n",
    "Primer vam utilitzar la taula de data per fer el procediment i en un principi a la funcio SimEuclid també feiem servir aquesta taula, però arroseguem molta més informació de la necessària i creem una taula nova cada cop que volem calcular una similitud, és a dir, hem de crear un a nova taula més de 3.000 vegades per la qual cosa el programa trigava aprox 1 min. \n",
    "Vam veure que una bona solució a aquest problema era utilitzar la pivot table ja creada i arreglada df_counts que contenia només la informació necessària: user_id, movie_id i rating. Aleshores era més ràpid i senzill en general ja que arroseguem moltes menys dades i fem directament la operació restant dues files que ja son de la taula df_counts"
   ]
  },
  {
   "cell_type": "markdown",
   "metadata": {},
   "source": [
    "Per millorar el problema anteorior, construeix una matriu de mida UXU on cada posició *i,j* indica la distància entre l'element *i* i el *j*. Així doncs, si estàs fent un recomanador basat en usuaris, `matriu[2, 3]` contindrà la similitud entre l'usuari 2 i el 3."
   ]
  },
  {
   "cell_type": "code",
   "execution_count": 50,
   "metadata": {},
   "outputs": [],
   "source": [
    "from scipy.spatial import distance_matrix\n",
    "\n",
    "def similarity_matrix(similarity_function, df_counts):\n",
    "    \"\"\"\n",
    "    Retorna una matriu de mida M x M on cada posició \n",
    "    indica la similitud entre usuaris (resp. ítems).\n",
    "    \n",
    "    :param similarity_function: Funció que calcularà la similitud \n",
    "        entre usuaris (resp. ítems)\n",
    "    :param df_counts: Dataframe que conté el nombre de vegades que \n",
    "        un usuari ha comprat en un `aisle_id` ??? <- que cony?\n",
    "    :return : Matriu numpy de mida M x M amb les similituds.\n",
    "    \"\"\"\n",
    "    \n",
    "    users_list = df_counts.index\n",
    "    sim_matrix = []\n",
    "    for i in users_list:\n",
    "        # Take current user to compare\n",
    "        # data = [df_counts.iloc[i][np.logical_not(np.isnan(df_counts.iloc[i]))]]\n",
    "        # Take sub data frame with all users under i only where are not nan values in row i\n",
    "        data = [df_counts.iloc[j][np.logical_not(np.isnan(df_counts.iloc[i]))] for j in range(i, users_list[-1]+1)]\n",
    "        \n",
    "        # for j in range(i+1, users_list[-1]+1):\n",
    "        #     data.append(df_counts.iloc[j][np.logical_not(np.isnan(df_counts.iloc[i]))])\n",
    "        df = pd.DataFrame(data)\n",
    "        dd = df.fillna(value=df.iloc[0])\n",
    "        f = pd.DataFrame(dd.iloc[0]).transpose()\n",
    "\n",
    "        distance = [0 for x in range(0,i)]\n",
    "        distance = np.append(distance, (1 / (1 + distance_matrix(f,dd)))).tolist()\n",
    "\n",
    "        sim_matrix.append(distance)\n",
    "    \n",
    "    \n",
    "    sim_matrix = pd.DataFrame(sim_matrix)\n",
    "    sim_matrix = sim_matrix+sim_matrix.transpose()\n",
    "    np.fill_diagonal(sim_matrix.values, 1)\n",
    "    return sim_matrix"
   ]
  },
  {
   "cell_type": "markdown",
   "metadata": {},
   "source": [
    "Per cridar aquesta funció, el primer paràmetre pot ser:\n",
    "\n",
    "* Amb la funció de la distancia euclidiana que heu programat abans pot trigar ~@1h 30min treballant directament amb valors de numpy, ~@20h a partir de pandas pur.\n",
    "* Opcionalment (no és obligatori fer-ho) podeu programar una funció que treballi específicament amb matrius (i no vectors). Si ho feu, cal gestionar-ho quan es rep `None`.  (@5s)"
   ]
  },
  {
   "cell_type": "code",
   "execution_count": 52,
   "metadata": {},
   "outputs": [],
   "source": [
    "sim = similarity_matrix(SimEuclid, df_counts)"
   ]
  },
  {
   "cell_type": "code",
   "execution_count": 53,
   "metadata": {},
   "outputs": [
    {
     "data": {
      "text/plain": [
       "(6040, 6040)"
      ]
     },
     "execution_count": 53,
     "metadata": {},
     "output_type": "execute_result"
    }
   ],
   "source": [
    "sim.shape"
   ]
  },
  {
   "cell_type": "code",
   "execution_count": 148,
   "metadata": {},
   "outputs": [
    {
     "data": {
      "text/html": [
       "<div>\n",
       "<style scoped>\n",
       "    .dataframe tbody tr th:only-of-type {\n",
       "        vertical-align: middle;\n",
       "    }\n",
       "\n",
       "    .dataframe tbody tr th {\n",
       "        vertical-align: top;\n",
       "    }\n",
       "\n",
       "    .dataframe thead th {\n",
       "        text-align: right;\n",
       "    }\n",
       "</style>\n",
       "<table border=\"1\" class=\"dataframe\">\n",
       "  <thead>\n",
       "    <tr style=\"text-align: right;\">\n",
       "      <th></th>\n",
       "      <th>0</th>\n",
       "      <th>1</th>\n",
       "      <th>2</th>\n",
       "      <th>3</th>\n",
       "      <th>4</th>\n",
       "      <th>5</th>\n",
       "      <th>6</th>\n",
       "      <th>7</th>\n",
       "      <th>8</th>\n",
       "      <th>9</th>\n",
       "      <th>...</th>\n",
       "      <th>6030</th>\n",
       "      <th>6031</th>\n",
       "      <th>6032</th>\n",
       "      <th>6033</th>\n",
       "      <th>6034</th>\n",
       "      <th>6035</th>\n",
       "      <th>6036</th>\n",
       "      <th>6037</th>\n",
       "      <th>6038</th>\n",
       "      <th>6039</th>\n",
       "    </tr>\n",
       "  </thead>\n",
       "  <tbody>\n",
       "    <tr>\n",
       "      <th>0</th>\n",
       "      <td>1.000000</td>\n",
       "      <td>0.333333</td>\n",
       "      <td>0.231662</td>\n",
       "      <td>0.414214</td>\n",
       "      <td>0.139579</td>\n",
       "      <td>0.261204</td>\n",
       "      <td>0.500000</td>\n",
       "      <td>0.261204</td>\n",
       "      <td>0.261204</td>\n",
       "      <td>0.144591</td>\n",
       "      <td>...</td>\n",
       "      <td>0.250000</td>\n",
       "      <td>0.366025</td>\n",
       "      <td>1.000000</td>\n",
       "      <td>0.500000</td>\n",
       "      <td>0.240253</td>\n",
       "      <td>0.132320</td>\n",
       "      <td>0.231662</td>\n",
       "      <td>1.000000</td>\n",
       "      <td>0.205213</td>\n",
       "      <td>0.190744</td>\n",
       "    </tr>\n",
       "    <tr>\n",
       "      <th>1</th>\n",
       "      <td>0.333333</td>\n",
       "      <td>1.000000</td>\n",
       "      <td>0.205213</td>\n",
       "      <td>0.217129</td>\n",
       "      <td>0.100560</td>\n",
       "      <td>0.179129</td>\n",
       "      <td>0.161390</td>\n",
       "      <td>0.116961</td>\n",
       "      <td>0.179129</td>\n",
       "      <td>0.102302</td>\n",
       "      <td>...</td>\n",
       "      <td>0.231662</td>\n",
       "      <td>0.179129</td>\n",
       "      <td>0.205213</td>\n",
       "      <td>0.500000</td>\n",
       "      <td>0.104141</td>\n",
       "      <td>0.090094</td>\n",
       "      <td>0.152259</td>\n",
       "      <td>0.309017</td>\n",
       "      <td>0.309017</td>\n",
       "      <td>0.097337</td>\n",
       "    </tr>\n",
       "    <tr>\n",
       "      <th>2</th>\n",
       "      <td>0.231662</td>\n",
       "      <td>0.205213</td>\n",
       "      <td>1.000000</td>\n",
       "      <td>0.309017</td>\n",
       "      <td>0.175734</td>\n",
       "      <td>0.224009</td>\n",
       "      <td>0.333333</td>\n",
       "      <td>0.195194</td>\n",
       "      <td>0.224009</td>\n",
       "      <td>0.132320</td>\n",
       "      <td>...</td>\n",
       "      <td>0.231662</td>\n",
       "      <td>0.274292</td>\n",
       "      <td>0.224009</td>\n",
       "      <td>1.000000</td>\n",
       "      <td>0.179129</td>\n",
       "      <td>0.121786</td>\n",
       "      <td>0.200000</td>\n",
       "      <td>0.500000</td>\n",
       "      <td>0.217129</td>\n",
       "      <td>0.123899</td>\n",
       "    </tr>\n",
       "    <tr>\n",
       "      <th>3</th>\n",
       "      <td>0.414214</td>\n",
       "      <td>0.217129</td>\n",
       "      <td>0.309017</td>\n",
       "      <td>1.000000</td>\n",
       "      <td>0.231662</td>\n",
       "      <td>1.000000</td>\n",
       "      <td>0.240253</td>\n",
       "      <td>0.366025</td>\n",
       "      <td>0.414214</td>\n",
       "      <td>0.156613</td>\n",
       "      <td>...</td>\n",
       "      <td>0.274292</td>\n",
       "      <td>0.240253</td>\n",
       "      <td>0.190744</td>\n",
       "      <td>1.000000</td>\n",
       "      <td>0.175734</td>\n",
       "      <td>0.186605</td>\n",
       "      <td>0.289898</td>\n",
       "      <td>0.240253</td>\n",
       "      <td>0.333333</td>\n",
       "      <td>0.186605</td>\n",
       "    </tr>\n",
       "    <tr>\n",
       "      <th>4</th>\n",
       "      <td>0.139579</td>\n",
       "      <td>0.100560</td>\n",
       "      <td>0.175734</td>\n",
       "      <td>0.231662</td>\n",
       "      <td>1.000000</td>\n",
       "      <td>0.172538</td>\n",
       "      <td>0.116961</td>\n",
       "      <td>0.090909</td>\n",
       "      <td>0.101131</td>\n",
       "      <td>0.084959</td>\n",
       "      <td>...</td>\n",
       "      <td>0.169521</td>\n",
       "      <td>0.414214</td>\n",
       "      <td>0.139579</td>\n",
       "      <td>0.414214</td>\n",
       "      <td>0.112689</td>\n",
       "      <td>0.064125</td>\n",
       "      <td>0.114338</td>\n",
       "      <td>0.190744</td>\n",
       "      <td>1.000000</td>\n",
       "      <td>0.096830</td>\n",
       "    </tr>\n",
       "    <tr>\n",
       "      <th>...</th>\n",
       "      <td>...</td>\n",
       "      <td>...</td>\n",
       "      <td>...</td>\n",
       "      <td>...</td>\n",
       "      <td>...</td>\n",
       "      <td>...</td>\n",
       "      <td>...</td>\n",
       "      <td>...</td>\n",
       "      <td>...</td>\n",
       "      <td>...</td>\n",
       "      <td>...</td>\n",
       "      <td>...</td>\n",
       "      <td>...</td>\n",
       "      <td>...</td>\n",
       "      <td>...</td>\n",
       "      <td>...</td>\n",
       "      <td>...</td>\n",
       "      <td>...</td>\n",
       "      <td>...</td>\n",
       "      <td>...</td>\n",
       "      <td>...</td>\n",
       "    </tr>\n",
       "    <tr>\n",
       "      <th>6035</th>\n",
       "      <td>0.132320</td>\n",
       "      <td>0.090094</td>\n",
       "      <td>0.121786</td>\n",
       "      <td>0.186605</td>\n",
       "      <td>0.064125</td>\n",
       "      <td>0.123899</td>\n",
       "      <td>0.129732</td>\n",
       "      <td>0.076194</td>\n",
       "      <td>0.092610</td>\n",
       "      <td>0.047619</td>\n",
       "      <td>...</td>\n",
       "      <td>0.099449</td>\n",
       "      <td>0.111111</td>\n",
       "      <td>0.096331</td>\n",
       "      <td>0.261204</td>\n",
       "      <td>0.054243</td>\n",
       "      <td>1.000000</td>\n",
       "      <td>0.070468</td>\n",
       "      <td>0.138026</td>\n",
       "      <td>0.107450</td>\n",
       "      <td>0.060755</td>\n",
       "    </tr>\n",
       "    <tr>\n",
       "      <th>6036</th>\n",
       "      <td>0.231662</td>\n",
       "      <td>0.152259</td>\n",
       "      <td>0.200000</td>\n",
       "      <td>0.289898</td>\n",
       "      <td>0.114338</td>\n",
       "      <td>0.182744</td>\n",
       "      <td>0.163961</td>\n",
       "      <td>0.141188</td>\n",
       "      <td>0.138026</td>\n",
       "      <td>0.095358</td>\n",
       "      <td>...</td>\n",
       "      <td>0.142857</td>\n",
       "      <td>0.119782</td>\n",
       "      <td>0.224009</td>\n",
       "      <td>0.231662</td>\n",
       "      <td>0.115192</td>\n",
       "      <td>0.070468</td>\n",
       "      <td>1.000000</td>\n",
       "      <td>0.333333</td>\n",
       "      <td>0.138026</td>\n",
       "      <td>0.080350</td>\n",
       "    </tr>\n",
       "    <tr>\n",
       "      <th>6037</th>\n",
       "      <td>1.000000</td>\n",
       "      <td>0.309017</td>\n",
       "      <td>0.500000</td>\n",
       "      <td>0.240253</td>\n",
       "      <td>0.190744</td>\n",
       "      <td>0.289898</td>\n",
       "      <td>1.000000</td>\n",
       "      <td>1.000000</td>\n",
       "      <td>0.414214</td>\n",
       "      <td>0.274292</td>\n",
       "      <td>...</td>\n",
       "      <td>0.224009</td>\n",
       "      <td>0.205213</td>\n",
       "      <td>0.500000</td>\n",
       "      <td>1.000000</td>\n",
       "      <td>0.414214</td>\n",
       "      <td>0.138026</td>\n",
       "      <td>0.333333</td>\n",
       "      <td>1.000000</td>\n",
       "      <td>0.309017</td>\n",
       "      <td>0.138026</td>\n",
       "    </tr>\n",
       "    <tr>\n",
       "      <th>6038</th>\n",
       "      <td>0.205213</td>\n",
       "      <td>0.309017</td>\n",
       "      <td>0.217129</td>\n",
       "      <td>0.333333</td>\n",
       "      <td>1.000000</td>\n",
       "      <td>0.200000</td>\n",
       "      <td>1.000000</td>\n",
       "      <td>0.274292</td>\n",
       "      <td>0.414214</td>\n",
       "      <td>0.104778</td>\n",
       "      <td>...</td>\n",
       "      <td>0.144591</td>\n",
       "      <td>0.128496</td>\n",
       "      <td>0.414214</td>\n",
       "      <td>0.500000</td>\n",
       "      <td>0.179129</td>\n",
       "      <td>0.107450</td>\n",
       "      <td>0.138026</td>\n",
       "      <td>0.309017</td>\n",
       "      <td>1.000000</td>\n",
       "      <td>0.131006</td>\n",
       "    </tr>\n",
       "    <tr>\n",
       "      <th>6039</th>\n",
       "      <td>0.190744</td>\n",
       "      <td>0.097337</td>\n",
       "      <td>0.123899</td>\n",
       "      <td>0.186605</td>\n",
       "      <td>0.096830</td>\n",
       "      <td>0.152259</td>\n",
       "      <td>0.261204</td>\n",
       "      <td>0.150221</td>\n",
       "      <td>0.141188</td>\n",
       "      <td>0.061986</td>\n",
       "      <td>...</td>\n",
       "      <td>0.108152</td>\n",
       "      <td>0.102904</td>\n",
       "      <td>0.161390</td>\n",
       "      <td>0.217129</td>\n",
       "      <td>0.090909</td>\n",
       "      <td>0.060755</td>\n",
       "      <td>0.080350</td>\n",
       "      <td>0.138026</td>\n",
       "      <td>0.131006</td>\n",
       "      <td>1.000000</td>\n",
       "    </tr>\n",
       "  </tbody>\n",
       "</table>\n",
       "<p>6040 rows × 6040 columns</p>\n",
       "</div>"
      ],
      "text/plain": [
       "          0         1         2         3         4         5         6     \\\n",
       "0     1.000000  0.333333  0.231662  0.414214  0.139579  0.261204  0.500000   \n",
       "1     0.333333  1.000000  0.205213  0.217129  0.100560  0.179129  0.161390   \n",
       "2     0.231662  0.205213  1.000000  0.309017  0.175734  0.224009  0.333333   \n",
       "3     0.414214  0.217129  0.309017  1.000000  0.231662  1.000000  0.240253   \n",
       "4     0.139579  0.100560  0.175734  0.231662  1.000000  0.172538  0.116961   \n",
       "...        ...       ...       ...       ...       ...       ...       ...   \n",
       "6035  0.132320  0.090094  0.121786  0.186605  0.064125  0.123899  0.129732   \n",
       "6036  0.231662  0.152259  0.200000  0.289898  0.114338  0.182744  0.163961   \n",
       "6037  1.000000  0.309017  0.500000  0.240253  0.190744  0.289898  1.000000   \n",
       "6038  0.205213  0.309017  0.217129  0.333333  1.000000  0.200000  1.000000   \n",
       "6039  0.190744  0.097337  0.123899  0.186605  0.096830  0.152259  0.261204   \n",
       "\n",
       "          7         8         9     ...      6030      6031      6032  \\\n",
       "0     0.261204  0.261204  0.144591  ...  0.250000  0.366025  1.000000   \n",
       "1     0.116961  0.179129  0.102302  ...  0.231662  0.179129  0.205213   \n",
       "2     0.195194  0.224009  0.132320  ...  0.231662  0.274292  0.224009   \n",
       "3     0.366025  0.414214  0.156613  ...  0.274292  0.240253  0.190744   \n",
       "4     0.090909  0.101131  0.084959  ...  0.169521  0.414214  0.139579   \n",
       "...        ...       ...       ...  ...       ...       ...       ...   \n",
       "6035  0.076194  0.092610  0.047619  ...  0.099449  0.111111  0.096331   \n",
       "6036  0.141188  0.138026  0.095358  ...  0.142857  0.119782  0.224009   \n",
       "6037  1.000000  0.414214  0.274292  ...  0.224009  0.205213  0.500000   \n",
       "6038  0.274292  0.414214  0.104778  ...  0.144591  0.128496  0.414214   \n",
       "6039  0.150221  0.141188  0.061986  ...  0.108152  0.102904  0.161390   \n",
       "\n",
       "          6033      6034      6035      6036      6037      6038      6039  \n",
       "0     0.500000  0.240253  0.132320  0.231662  1.000000  0.205213  0.190744  \n",
       "1     0.500000  0.104141  0.090094  0.152259  0.309017  0.309017  0.097337  \n",
       "2     1.000000  0.179129  0.121786  0.200000  0.500000  0.217129  0.123899  \n",
       "3     1.000000  0.175734  0.186605  0.289898  0.240253  0.333333  0.186605  \n",
       "4     0.414214  0.112689  0.064125  0.114338  0.190744  1.000000  0.096830  \n",
       "...        ...       ...       ...       ...       ...       ...       ...  \n",
       "6035  0.261204  0.054243  1.000000  0.070468  0.138026  0.107450  0.060755  \n",
       "6036  0.231662  0.115192  0.070468  1.000000  0.333333  0.138026  0.080350  \n",
       "6037  1.000000  0.414214  0.138026  0.333333  1.000000  0.309017  0.138026  \n",
       "6038  0.500000  0.179129  0.107450  0.138026  0.309017  1.000000  0.131006  \n",
       "6039  0.217129  0.090909  0.060755  0.080350  0.138026  0.131006  1.000000  \n",
       "\n",
       "[6040 rows x 6040 columns]"
      ]
     },
     "execution_count": 148,
     "metadata": {},
     "output_type": "execute_result"
    }
   ],
   "source": [
    "sim"
   ]
  },
  {
   "cell_type": "markdown",
   "metadata": {},
   "source": [
    "Ara torna a re-fer la funció **find_similar_users** i mira quant triga... \n",
    "\n",
    "> Recorda que les scores han d'estar normalitzades!"
   ]
  },
  {
   "cell_type": "code",
   "execution_count": 149,
   "metadata": {},
   "outputs": [],
   "source": [
    "def find_similar_users(DataFrame, sim_mx, userID, m):\n",
    "    \n",
    "    # guardem els usuaris sense el usuari que volem comparar i les similituds d'aquest que correspon a la seva columna de la similar matrix\n",
    "    users = list(set(DataFrame[\"user_id\"]))\n",
    "    users.remove(userID)\n",
    "    w_scores = list(sim_mx[userID])\n",
    "    w_scores.pop(userID)\n",
    "    \n",
    "    # unim aquesta informació en un diccionari amb clau usuari i valor puntuació de forma descendent\n",
    "    similar = dict(zip(users, w_scores))\n",
    "    sorted_similar = dict(sorted(similar.items(), key= lambda kv: kv[1], reverse=True)[:m])\n",
    "    \n",
    "    return sorted_similar\n",
    "    "
   ]
  },
  {
   "cell_type": "code",
   "execution_count": 150,
   "metadata": {},
   "outputs": [
    {
     "name": "stdout",
     "output_type": "stream",
     "text": [
      "0:00:00.050076\n"
     ]
    }
   ],
   "source": [
    "t = datetime.datetime.now()\n",
    "sim_dict = find_similar_users(data, sim, 2, 10)\n",
    "t = datetime.datetime.now()-t\n",
    "print(str(t))"
   ]
  },
  {
   "cell_type": "code",
   "execution_count": 151,
   "metadata": {},
   "outputs": [
    {
     "data": {
      "text/plain": [
       "{15: 1.0,\n",
       " 60: 1.0,\n",
       " 115: 1.0,\n",
       " 152: 1.0,\n",
       " 157: 1.0,\n",
       " 163: 1.0,\n",
       " 170: 1.0,\n",
       " 278: 1.0,\n",
       " 303: 1.0,\n",
       " 314: 1.0}"
      ]
     },
     "execution_count": 151,
     "metadata": {},
     "output_type": "execute_result"
    }
   ],
   "source": [
    "sim_dict"
   ]
  },
  {
   "cell_type": "markdown",
   "metadata": {},
   "source": [
    "**Hauria d'haver baixat més de 30 cops el temps anterior!!**"
   ]
  },
  {
   "cell_type": "markdown",
   "metadata": {},
   "source": [
    "#### - SECCIÓ 2: \n",
    "Computa les recomanacions per un usuari amb cadascun dels m usuaris més propers i fes una funció que retorni la **weighted average list** d'aquests per tal d'obtenir la recomanació final. Feu servir la funció anterior que usava la matriu de similituds per anar més ràpid!!\n",
    "\n",
    "\n",
    "> *Nota: la **weighted average list** es calcularà agregant els n items més puntuats de cadascun dels m users més semblants al usuari donat."
   ]
  },
  {
   "cell_type": "code",
   "execution_count": 152,
   "metadata": {},
   "outputs": [],
   "source": [
    "from cmath import isnan\n",
    "def getRecommendationsUser(DataFrame, user, sim_mx, n, m):\n",
    "    \"\"\"\n",
    "    Retorna un dataframe de pel·licules amb els scores.\n",
    "    \n",
    "    :param DataFrame: dataframe que conté totes les dades\n",
    "    :param user: usuari al qual fem la recomanació\n",
    "    :param sim_mx: similarity_function\n",
    "    :param n: nombre de pelis a recomanar\n",
    "    :param m: nombre d'usuaris semblants a tenir en compte per les recomanacions\n",
    "    :return : pandas de pelis amb els seus scores predits\n",
    "    \"\"\"\n",
    "    # obtenim el diccionari dels m usuaris amb més similitud al usuari i omplim una matriu diagonal amb els seus valors\n",
    "    similar_users_list = find_similar_users(DataFrame, sim_mx, user, m)\n",
    "    sim_diag_mx = np.zeros((m,m))\n",
    "    np.fill_diagonal(sim_diag_mx, list(similar_users_list.values()))\n",
    "    \n",
    "    rating_mx = df_counts.iloc[list(similar_users_list.keys())]\n",
    "    sim_rating_mx = np.matmul(sim_diag_mx, rating_mx.fillna(0))\n",
    "    sim_rating_mx_1 = np.copy(sim_rating_mx)\n",
    "    sim_rating_mx_1[sim_rating_mx_1 != 0] = 1\n",
    "    sim_rating_mx_involved = np.matmul(sim_diag_mx,sim_rating_mx_1)\n",
    "\n",
    "    ratings_sum = np.sum(sim_rating_mx, axis=0)\n",
    "    involved_sim_sum = np.sum(sim_rating_mx_involved, axis=0)\n",
    "    movie_sim_vector = ratings_sum / involved_sim_sum\n",
    "\n",
    "    movie_sim_dict = {k: movie_sim_vector[k] for k in range(0,len(movie_sim_vector))}\n",
    "    \n",
    "    movie_sim_dict = sorted(movie_sim_dict.items() ,key = lambda kv:[kv[1]])\n",
    "    movie_sim_dict = pd.DataFrame(movie_sim_dict, columns=['movie_id', 'NOSEQUEREPRESENTAAQUESTVALOR'] )\n",
    "    return movie_sim_dict[:n]"
   ]
  },
  {
   "cell_type": "code",
   "execution_count": 153,
   "metadata": {},
   "outputs": [
    {
     "name": "stdout",
     "output_type": "stream",
     "text": [
      "[[1. 0. 0. ... 0. 0. 0.]\n",
      " [0. 0. 0. ... 0. 0. 0.]\n",
      " [0. 0. 0. ... 0. 0. 0.]\n",
      " ...\n",
      " [0. 0. 0. ... 0. 0. 0.]\n",
      " [0. 0. 0. ... 0. 0. 0.]\n",
      " [1. 1. 0. ... 0. 0. 0.]]\n",
      "movie_id\n",
      "0       65.0\n",
      "1        7.0\n",
      "2        7.0\n",
      "3        0.0\n",
      "4        0.0\n",
      "        ... \n",
      "3701    40.0\n",
      "3702     4.0\n",
      "3703     0.0\n",
      "3704     0.0\n",
      "3705     2.0\n",
      "Length: 3706, dtype: float64\n",
      "[15.  2.  2. ...  0.  0.  1.]\n",
      "0:00:00.074985\n"
     ]
    }
   ],
   "source": [
    "t = datetime.datetime.now()\n",
    "user_prediction = getRecommendationsUser(data, 3, sim, 10, 50)\n",
    "t = datetime.datetime.now()-t\n",
    "print(str(t))"
   ]
  },
  {
   "cell_type": "code",
   "execution_count": 154,
   "metadata": {},
   "outputs": [
    {
     "data": {
      "text/html": [
       "<div>\n",
       "<style scoped>\n",
       "    .dataframe tbody tr th:only-of-type {\n",
       "        vertical-align: middle;\n",
       "    }\n",
       "\n",
       "    .dataframe tbody tr th {\n",
       "        vertical-align: top;\n",
       "    }\n",
       "\n",
       "    .dataframe thead th {\n",
       "        text-align: right;\n",
       "    }\n",
       "</style>\n",
       "<table border=\"1\" class=\"dataframe\">\n",
       "  <thead>\n",
       "    <tr style=\"text-align: right;\">\n",
       "      <th></th>\n",
       "      <th>movie_id</th>\n",
       "      <th>NOSEQUEREPRESENTAAQUESTVALOR</th>\n",
       "    </tr>\n",
       "  </thead>\n",
       "  <tbody>\n",
       "    <tr>\n",
       "      <th>0</th>\n",
       "      <td>14</td>\n",
       "      <td>1.0</td>\n",
       "    </tr>\n",
       "    <tr>\n",
       "      <th>1</th>\n",
       "      <td>19</td>\n",
       "      <td>1.0</td>\n",
       "    </tr>\n",
       "    <tr>\n",
       "      <th>2</th>\n",
       "      <td>34</td>\n",
       "      <td>2.0</td>\n",
       "    </tr>\n",
       "    <tr>\n",
       "      <th>3</th>\n",
       "      <td>5</td>\n",
       "      <td>3.0</td>\n",
       "    </tr>\n",
       "    <tr>\n",
       "      <th>4</th>\n",
       "      <td>6</td>\n",
       "      <td>3.0</td>\n",
       "    </tr>\n",
       "    <tr>\n",
       "      <th>5</th>\n",
       "      <td>7</td>\n",
       "      <td>3.0</td>\n",
       "    </tr>\n",
       "    <tr>\n",
       "      <th>6</th>\n",
       "      <td>8</td>\n",
       "      <td>3.0</td>\n",
       "    </tr>\n",
       "    <tr>\n",
       "      <th>7</th>\n",
       "      <td>12</td>\n",
       "      <td>3.0</td>\n",
       "    </tr>\n",
       "    <tr>\n",
       "      <th>8</th>\n",
       "      <td>1</td>\n",
       "      <td>3.5</td>\n",
       "    </tr>\n",
       "    <tr>\n",
       "      <th>9</th>\n",
       "      <td>2</td>\n",
       "      <td>3.5</td>\n",
       "    </tr>\n",
       "  </tbody>\n",
       "</table>\n",
       "</div>"
      ],
      "text/plain": [
       "   movie_id  NOSEQUEREPRESENTAAQUESTVALOR\n",
       "0        14                           1.0\n",
       "1        19                           1.0\n",
       "2        34                           2.0\n",
       "3         5                           3.0\n",
       "4         6                           3.0\n",
       "5         7                           3.0\n",
       "6         8                           3.0\n",
       "7        12                           3.0\n",
       "8         1                           3.5\n",
       "9         2                           3.5"
      ]
     },
     "execution_count": 154,
     "metadata": {},
     "output_type": "execute_result"
    }
   ],
   "source": [
    "user_prediction"
   ]
  },
  {
   "cell_type": "markdown",
   "metadata": {},
   "source": [
    "#### - SECCIÓ 3"
   ]
  },
  {
   "cell_type": "markdown",
   "metadata": {},
   "source": [
    "Comprovem que realment l'usuari 3 no tenia recomanació per les pelis a les que estem recomanant:"
   ]
  },
  {
   "cell_type": "code",
   "execution_count": 119,
   "metadata": {},
   "outputs": [
    {
     "data": {
      "text/html": [
       "<div>\n",
       "<style scoped>\n",
       "    .dataframe tbody tr th:only-of-type {\n",
       "        vertical-align: middle;\n",
       "    }\n",
       "\n",
       "    .dataframe tbody tr th {\n",
       "        vertical-align: top;\n",
       "    }\n",
       "\n",
       "    .dataframe thead th {\n",
       "        text-align: right;\n",
       "    }\n",
       "</style>\n",
       "<table border=\"1\" class=\"dataframe\">\n",
       "  <thead>\n",
       "    <tr style=\"text-align: right;\">\n",
       "      <th></th>\n",
       "      <th>user_id</th>\n",
       "      <th>movie_id</th>\n",
       "      <th>rating</th>\n",
       "      <th>timestamp</th>\n",
       "      <th>gender</th>\n",
       "      <th>age</th>\n",
       "      <th>occupation</th>\n",
       "      <th>zip</th>\n",
       "      <th>title</th>\n",
       "      <th>genres</th>\n",
       "    </tr>\n",
       "  </thead>\n",
       "  <tbody>\n",
       "    <tr>\n",
       "      <th>28884</th>\n",
       "      <td>3</td>\n",
       "      <td>1025</td>\n",
       "      <td>4</td>\n",
       "      <td>978293964</td>\n",
       "      <td>M</td>\n",
       "      <td>45</td>\n",
       "      <td>7</td>\n",
       "      <td>02460</td>\n",
       "      <td>E.T. the Extra-Terrestrial (1982)</td>\n",
       "      <td>Children's|Drama|Fantasy|Sci-Fi</td>\n",
       "    </tr>\n",
       "    <tr>\n",
       "      <th>45686</th>\n",
       "      <td>3</td>\n",
       "      <td>2488</td>\n",
       "      <td>5</td>\n",
       "      <td>978294230</td>\n",
       "      <td>M</td>\n",
       "      <td>45</td>\n",
       "      <td>7</td>\n",
       "      <td>02460</td>\n",
       "      <td>Run Lola Run (Lola rennt) (1998)</td>\n",
       "      <td>Action|Crime|Romance</td>\n",
       "    </tr>\n",
       "    <tr>\n",
       "      <th>46759</th>\n",
       "      <td>3</td>\n",
       "      <td>253</td>\n",
       "      <td>5</td>\n",
       "      <td>978294199</td>\n",
       "      <td>M</td>\n",
       "      <td>45</td>\n",
       "      <td>7</td>\n",
       "      <td>02460</td>\n",
       "      <td>Star Wars: Episode IV - A New Hope (1977)</td>\n",
       "      <td>Action|Adventure|Fantasy|Sci-Fi</td>\n",
       "    </tr>\n",
       "    <tr>\n",
       "      <th>52257</th>\n",
       "      <td>3</td>\n",
       "      <td>1848</td>\n",
       "      <td>5</td>\n",
       "      <td>978294230</td>\n",
       "      <td>M</td>\n",
       "      <td>45</td>\n",
       "      <td>7</td>\n",
       "      <td>02460</td>\n",
       "      <td>Saving Private Ryan (1998)</td>\n",
       "      <td>Action|Drama|War</td>\n",
       "    </tr>\n",
       "    <tr>\n",
       "      <th>70281</th>\n",
       "      <td>3</td>\n",
       "      <td>3235</td>\n",
       "      <td>5</td>\n",
       "      <td>978294008</td>\n",
       "      <td>M</td>\n",
       "      <td>45</td>\n",
       "      <td>7</td>\n",
       "      <td>02460</td>\n",
       "      <td>Hustler, The (1961)</td>\n",
       "      <td>Drama</td>\n",
       "    </tr>\n",
       "  </tbody>\n",
       "</table>\n",
       "</div>"
      ],
      "text/plain": [
       "       user_id  movie_id  rating  timestamp gender  age  occupation    zip  \\\n",
       "28884        3      1025       4  978293964      M   45           7  02460   \n",
       "45686        3      2488       5  978294230      M   45           7  02460   \n",
       "46759        3       253       5  978294199      M   45           7  02460   \n",
       "52257        3      1848       5  978294230      M   45           7  02460   \n",
       "70281        3      3235       5  978294008      M   45           7  02460   \n",
       "\n",
       "                                           title  \\\n",
       "28884          E.T. the Extra-Terrestrial (1982)   \n",
       "45686           Run Lola Run (Lola rennt) (1998)   \n",
       "46759  Star Wars: Episode IV - A New Hope (1977)   \n",
       "52257                 Saving Private Ryan (1998)   \n",
       "70281                        Hustler, The (1961)   \n",
       "\n",
       "                                genres  \n",
       "28884  Children's|Drama|Fantasy|Sci-Fi  \n",
       "45686             Action|Crime|Romance  \n",
       "46759  Action|Adventure|Fantasy|Sci-Fi  \n",
       "52257                 Action|Drama|War  \n",
       "70281                            Drama  "
      ]
     },
     "execution_count": 119,
     "metadata": {},
     "output_type": "execute_result"
    }
   ],
   "source": [
    "data_user3 = data[data['user_id']==3]\n",
    "data_user3.head()"
   ]
  },
  {
   "cell_type": "code",
   "execution_count": 120,
   "metadata": {},
   "outputs": [],
   "source": [
    "desired_movie_id_to_check = 0\n",
    "best_film_to_predict = user_prediction['movie_id'].iloc[desired_movie_id_to_check] "
   ]
  },
  {
   "cell_type": "code",
   "execution_count": 121,
   "metadata": {},
   "outputs": [
    {
     "data": {
      "text/html": [
       "<div>\n",
       "<style scoped>\n",
       "    .dataframe tbody tr th:only-of-type {\n",
       "        vertical-align: middle;\n",
       "    }\n",
       "\n",
       "    .dataframe tbody tr th {\n",
       "        vertical-align: top;\n",
       "    }\n",
       "\n",
       "    .dataframe thead th {\n",
       "        text-align: right;\n",
       "    }\n",
       "</style>\n",
       "<table border=\"1\" class=\"dataframe\">\n",
       "  <thead>\n",
       "    <tr style=\"text-align: right;\">\n",
       "      <th></th>\n",
       "      <th>user_id</th>\n",
       "      <th>movie_id</th>\n",
       "      <th>rating</th>\n",
       "      <th>timestamp</th>\n",
       "      <th>gender</th>\n",
       "      <th>age</th>\n",
       "      <th>occupation</th>\n",
       "      <th>zip</th>\n",
       "      <th>title</th>\n",
       "      <th>genres</th>\n",
       "    </tr>\n",
       "  </thead>\n",
       "  <tbody>\n",
       "  </tbody>\n",
       "</table>\n",
       "</div>"
      ],
      "text/plain": [
       "Empty DataFrame\n",
       "Columns: [user_id, movie_id, rating, timestamp, gender, age, occupation, zip, title, genres]\n",
       "Index: []"
      ]
     },
     "execution_count": 121,
     "metadata": {},
     "output_type": "execute_result"
    }
   ],
   "source": [
    "data_user3[data_user3['movie_id']==best_film_to_predict]"
   ]
  },
  {
   "cell_type": "markdown",
   "metadata": {},
   "source": [
    "**Com es que ara estem predint un rating per la pelicula \"best_film_to_predict\"?** Digues quin nombre és la predicció"
   ]
  },
  {
   "cell_type": "code",
   "execution_count": null,
   "metadata": {},
   "outputs": [],
   "source": [
    "# la vostra solució aquí"
   ]
  },
  {
   "cell_type": "markdown",
   "metadata": {},
   "source": [
    "### 3.7. SETÉ EXERCICI\n"
   ]
  },
  {
   "cell_type": "markdown",
   "metadata": {},
   "source": [
    "A continuació usarem la metrica Mean Absolute Error (MAE) per evaluar el nostre sistema. Aquesta mètrica ens permetrà mesurar la diferencia entre dues llistes donat un usuari: \n",
    "\n",
    "**1.** La llista amb els ratings originals d'un usuari donat\n",
    "\n",
    "**2.** La llista de les prediccions generades per aquest usuari"
   ]
  },
  {
   "cell_type": "markdown",
   "metadata": {},
   "source": [
    "#### - SECCIÓ 1: \n",
    "\n",
    "Treu el 10% dels usuaris i reserva aquests en una variable anomenada **test_set** i la resta en una variable anomenada **train_set**."
   ]
  },
  {
   "cell_type": "code",
   "execution_count": 94,
   "metadata": {},
   "outputs": [],
   "source": [
    "import random\n",
    "unique_users = data['user_id'].unique()\n",
    "n_test_users = int(len(unique_users)*0.1)\n",
    "n_train_users = len(unique_users) - n_test_users\n",
    "\n",
    "test_usrs = random.sample(list(unique_users), n_test_users)"
   ]
  },
  {
   "cell_type": "code",
   "execution_count": 95,
   "metadata": {},
   "outputs": [
    {
     "data": {
      "text/plain": [
       "(604, 5436)"
      ]
     },
     "execution_count": 95,
     "metadata": {},
     "output_type": "execute_result"
    }
   ],
   "source": [
    "n_test_users,n_train_users"
   ]
  },
  {
   "cell_type": "code",
   "execution_count": 101,
   "metadata": {},
   "outputs": [
    {
     "data": {
      "text/html": [
       "<div>\n",
       "<style scoped>\n",
       "    .dataframe tbody tr th:only-of-type {\n",
       "        vertical-align: middle;\n",
       "    }\n",
       "\n",
       "    .dataframe tbody tr th {\n",
       "        vertical-align: top;\n",
       "    }\n",
       "\n",
       "    .dataframe thead th {\n",
       "        text-align: right;\n",
       "    }\n",
       "</style>\n",
       "<table border=\"1\" class=\"dataframe\">\n",
       "  <thead>\n",
       "    <tr style=\"text-align: right;\">\n",
       "      <th></th>\n",
       "      <th>user_id</th>\n",
       "      <th>movie_id</th>\n",
       "      <th>rating</th>\n",
       "      <th>timestamp</th>\n",
       "      <th>gender</th>\n",
       "      <th>age</th>\n",
       "      <th>occupation</th>\n",
       "      <th>zip</th>\n",
       "      <th>title</th>\n",
       "      <th>genres</th>\n",
       "    </tr>\n",
       "  </thead>\n",
       "  <tbody>\n",
       "    <tr>\n",
       "      <th>0</th>\n",
       "      <td>0</td>\n",
       "      <td>1104</td>\n",
       "      <td>5</td>\n",
       "      <td>978300760</td>\n",
       "      <td>F</td>\n",
       "      <td>1</td>\n",
       "      <td>10</td>\n",
       "      <td>48067</td>\n",
       "      <td>One Flew Over the Cuckoo's Nest (1975)</td>\n",
       "      <td>Drama</td>\n",
       "    </tr>\n",
       "    <tr>\n",
       "      <th>1</th>\n",
       "      <td>1</td>\n",
       "      <td>1104</td>\n",
       "      <td>5</td>\n",
       "      <td>978298413</td>\n",
       "      <td>M</td>\n",
       "      <td>56</td>\n",
       "      <td>16</td>\n",
       "      <td>70072</td>\n",
       "      <td>One Flew Over the Cuckoo's Nest (1975)</td>\n",
       "      <td>Drama</td>\n",
       "    </tr>\n",
       "    <tr>\n",
       "      <th>2</th>\n",
       "      <td>11</td>\n",
       "      <td>1104</td>\n",
       "      <td>4</td>\n",
       "      <td>978220179</td>\n",
       "      <td>M</td>\n",
       "      <td>25</td>\n",
       "      <td>12</td>\n",
       "      <td>32793</td>\n",
       "      <td>One Flew Over the Cuckoo's Nest (1975)</td>\n",
       "      <td>Drama</td>\n",
       "    </tr>\n",
       "    <tr>\n",
       "      <th>3</th>\n",
       "      <td>14</td>\n",
       "      <td>1104</td>\n",
       "      <td>4</td>\n",
       "      <td>978199279</td>\n",
       "      <td>M</td>\n",
       "      <td>25</td>\n",
       "      <td>7</td>\n",
       "      <td>22903</td>\n",
       "      <td>One Flew Over the Cuckoo's Nest (1975)</td>\n",
       "      <td>Drama</td>\n",
       "    </tr>\n",
       "    <tr>\n",
       "      <th>4</th>\n",
       "      <td>16</td>\n",
       "      <td>1104</td>\n",
       "      <td>5</td>\n",
       "      <td>978158471</td>\n",
       "      <td>M</td>\n",
       "      <td>50</td>\n",
       "      <td>1</td>\n",
       "      <td>95350</td>\n",
       "      <td>One Flew Over the Cuckoo's Nest (1975)</td>\n",
       "      <td>Drama</td>\n",
       "    </tr>\n",
       "    <tr>\n",
       "      <th>...</th>\n",
       "      <td>...</td>\n",
       "      <td>...</td>\n",
       "      <td>...</td>\n",
       "      <td>...</td>\n",
       "      <td>...</td>\n",
       "      <td>...</td>\n",
       "      <td>...</td>\n",
       "      <td>...</td>\n",
       "      <td>...</td>\n",
       "      <td>...</td>\n",
       "    </tr>\n",
       "    <tr>\n",
       "      <th>1000204</th>\n",
       "      <td>5948</td>\n",
       "      <td>2017</td>\n",
       "      <td>5</td>\n",
       "      <td>958846401</td>\n",
       "      <td>M</td>\n",
       "      <td>18</td>\n",
       "      <td>17</td>\n",
       "      <td>47901</td>\n",
       "      <td>Modulations (1998)</td>\n",
       "      <td>Documentary</td>\n",
       "    </tr>\n",
       "    <tr>\n",
       "      <th>1000205</th>\n",
       "      <td>5674</td>\n",
       "      <td>2498</td>\n",
       "      <td>3</td>\n",
       "      <td>976029116</td>\n",
       "      <td>M</td>\n",
       "      <td>35</td>\n",
       "      <td>14</td>\n",
       "      <td>30030</td>\n",
       "      <td>Broken Vessels (1998)</td>\n",
       "      <td>Drama</td>\n",
       "    </tr>\n",
       "    <tr>\n",
       "      <th>1000206</th>\n",
       "      <td>5779</td>\n",
       "      <td>2638</td>\n",
       "      <td>1</td>\n",
       "      <td>958153068</td>\n",
       "      <td>M</td>\n",
       "      <td>18</td>\n",
       "      <td>17</td>\n",
       "      <td>92886</td>\n",
       "      <td>White Boys (1999)</td>\n",
       "      <td>Drama</td>\n",
       "    </tr>\n",
       "    <tr>\n",
       "      <th>1000207</th>\n",
       "      <td>5850</td>\n",
       "      <td>3367</td>\n",
       "      <td>5</td>\n",
       "      <td>957756608</td>\n",
       "      <td>F</td>\n",
       "      <td>18</td>\n",
       "      <td>20</td>\n",
       "      <td>55410</td>\n",
       "      <td>One Little Indian (1973)</td>\n",
       "      <td>Comedy|Drama|Western</td>\n",
       "    </tr>\n",
       "    <tr>\n",
       "      <th>1000208</th>\n",
       "      <td>5937</td>\n",
       "      <td>2702</td>\n",
       "      <td>4</td>\n",
       "      <td>957273353</td>\n",
       "      <td>M</td>\n",
       "      <td>25</td>\n",
       "      <td>1</td>\n",
       "      <td>35401</td>\n",
       "      <td>Five Wives, Three Secretaries and Me (1998)</td>\n",
       "      <td>Documentary</td>\n",
       "    </tr>\n",
       "  </tbody>\n",
       "</table>\n",
       "<p>1000209 rows × 10 columns</p>\n",
       "</div>"
      ],
      "text/plain": [
       "         user_id  movie_id  rating  timestamp gender  age  occupation    zip  \\\n",
       "0              0      1104       5  978300760      F    1          10  48067   \n",
       "1              1      1104       5  978298413      M   56          16  70072   \n",
       "2             11      1104       4  978220179      M   25          12  32793   \n",
       "3             14      1104       4  978199279      M   25           7  22903   \n",
       "4             16      1104       5  978158471      M   50           1  95350   \n",
       "...          ...       ...     ...        ...    ...  ...         ...    ...   \n",
       "1000204     5948      2017       5  958846401      M   18          17  47901   \n",
       "1000205     5674      2498       3  976029116      M   35          14  30030   \n",
       "1000206     5779      2638       1  958153068      M   18          17  92886   \n",
       "1000207     5850      3367       5  957756608      F   18          20  55410   \n",
       "1000208     5937      2702       4  957273353      M   25           1  35401   \n",
       "\n",
       "                                               title                genres  \n",
       "0             One Flew Over the Cuckoo's Nest (1975)                 Drama  \n",
       "1             One Flew Over the Cuckoo's Nest (1975)                 Drama  \n",
       "2             One Flew Over the Cuckoo's Nest (1975)                 Drama  \n",
       "3             One Flew Over the Cuckoo's Nest (1975)                 Drama  \n",
       "4             One Flew Over the Cuckoo's Nest (1975)                 Drama  \n",
       "...                                              ...                   ...  \n",
       "1000204                           Modulations (1998)           Documentary  \n",
       "1000205                        Broken Vessels (1998)                 Drama  \n",
       "1000206                            White Boys (1999)                 Drama  \n",
       "1000207                     One Little Indian (1973)  Comedy|Drama|Western  \n",
       "1000208  Five Wives, Three Secretaries and Me (1998)           Documentary  \n",
       "\n",
       "[1000209 rows x 10 columns]"
      ]
     },
     "execution_count": 101,
     "metadata": {},
     "output_type": "execute_result"
    }
   ],
   "source": [
    "data"
   ]
  },
  {
   "cell_type": "code",
   "execution_count": 159,
   "metadata": {},
   "outputs": [
    {
     "ename": "AttributeError",
     "evalue": "'DataFrame' object has no attribute 'unique'",
     "output_type": "error",
     "traceback": [
      "\u001b[0;31m---------------------------------------------------------------------------\u001b[0m",
      "\u001b[0;31mAttributeError\u001b[0m                            Traceback (most recent call last)",
      "Cell \u001b[0;32mIn [159], line 1\u001b[0m\n\u001b[0;32m----> 1\u001b[0m test_set \u001b[39m=\u001b[39m data\u001b[39m.\u001b[39;49munique()\u001b[39m.\u001b[39msample(n_test_users)\n\u001b[1;32m      2\u001b[0m train_set \u001b[39m=\u001b[39m data\u001b[39m.\u001b[39msample(n_train_users)\n\u001b[1;32m      3\u001b[0m \u001b[39mlen\u001b[39m(test_set)\u001b[39m+\u001b[39m\u001b[39mlen\u001b[39m(train_set)\n",
      "File \u001b[0;32m/opt/homebrew/lib/python3.10/site-packages/pandas/core/generic.py:5902\u001b[0m, in \u001b[0;36mNDFrame.__getattr__\u001b[0;34m(self, name)\u001b[0m\n\u001b[1;32m   5895\u001b[0m \u001b[39mif\u001b[39;00m (\n\u001b[1;32m   5896\u001b[0m     name \u001b[39mnot\u001b[39;00m \u001b[39min\u001b[39;00m \u001b[39mself\u001b[39m\u001b[39m.\u001b[39m_internal_names_set\n\u001b[1;32m   5897\u001b[0m     \u001b[39mand\u001b[39;00m name \u001b[39mnot\u001b[39;00m \u001b[39min\u001b[39;00m \u001b[39mself\u001b[39m\u001b[39m.\u001b[39m_metadata\n\u001b[1;32m   5898\u001b[0m     \u001b[39mand\u001b[39;00m name \u001b[39mnot\u001b[39;00m \u001b[39min\u001b[39;00m \u001b[39mself\u001b[39m\u001b[39m.\u001b[39m_accessors\n\u001b[1;32m   5899\u001b[0m     \u001b[39mand\u001b[39;00m \u001b[39mself\u001b[39m\u001b[39m.\u001b[39m_info_axis\u001b[39m.\u001b[39m_can_hold_identifiers_and_holds_name(name)\n\u001b[1;32m   5900\u001b[0m ):\n\u001b[1;32m   5901\u001b[0m     \u001b[39mreturn\u001b[39;00m \u001b[39mself\u001b[39m[name]\n\u001b[0;32m-> 5902\u001b[0m \u001b[39mreturn\u001b[39;00m \u001b[39mobject\u001b[39;49m\u001b[39m.\u001b[39;49m\u001b[39m__getattribute__\u001b[39;49m(\u001b[39mself\u001b[39;49m, name)\n",
      "\u001b[0;31mAttributeError\u001b[0m: 'DataFrame' object has no attribute 'unique'"
     ]
    }
   ],
   "source": [
    "test_set = data.sample(n_test_users)\n",
    "train_set = data.sample(n_train_users)\n",
    "len(test_set)+len(train_set)\n",
    "# assert len(test_set) + len(train_set) == len(data)"
   ]
  },
  {
   "cell_type": "markdown",
   "metadata": {},
   "source": [
    "Què passarà si calculo la matriu de similitud amb **train_set** i després intento predir pels usuaris de **test_set**??"
   ]
  },
  {
   "cell_type": "markdown",
   "metadata": {},
   "source": [
    "#### - SECCIÓ 2:"
   ]
  },
  {
   "cell_type": "markdown",
   "metadata": {},
   "source": [
    "Selecciona aproximadament el 80% de les interaccions de cada usuari de test i junta-les al **train_set**. Ara podem evaluar el sistema?\n",
    "\n",
    "\n",
    "> Com la pràctica és molt llarga hem programat el codi per un usuari donat i vosaltres només heu de crear la funció que, per cada usuari, afagi el 80% de les intraccions i les unifiqui al dataframe de train."
   ]
  },
  {
   "cell_type": "code",
   "execution_count": 104,
   "metadata": {},
   "outputs": [
    {
     "data": {
      "text/html": [
       "<div>\n",
       "<style scoped>\n",
       "    .dataframe tbody tr th:only-of-type {\n",
       "        vertical-align: middle;\n",
       "    }\n",
       "\n",
       "    .dataframe tbody tr th {\n",
       "        vertical-align: top;\n",
       "    }\n",
       "\n",
       "    .dataframe thead th {\n",
       "        text-align: right;\n",
       "    }\n",
       "</style>\n",
       "<table border=\"1\" class=\"dataframe\">\n",
       "  <thead>\n",
       "    <tr style=\"text-align: right;\">\n",
       "      <th></th>\n",
       "      <th>user_id</th>\n",
       "      <th>movie_id</th>\n",
       "      <th>rating</th>\n",
       "      <th>timestamp</th>\n",
       "      <th>gender</th>\n",
       "      <th>age</th>\n",
       "      <th>occupation</th>\n",
       "      <th>zip</th>\n",
       "      <th>title</th>\n",
       "      <th>genres</th>\n",
       "    </tr>\n",
       "  </thead>\n",
       "  <tbody>\n",
       "    <tr>\n",
       "      <th>332277</th>\n",
       "      <td>4027</td>\n",
       "      <td>3291</td>\n",
       "      <td>2</td>\n",
       "      <td>966107444</td>\n",
       "      <td>M</td>\n",
       "      <td>25</td>\n",
       "      <td>4</td>\n",
       "      <td>02140</td>\n",
       "      <td>Arthur (1981)</td>\n",
       "      <td>Comedy|Romance</td>\n",
       "    </tr>\n",
       "    <tr>\n",
       "      <th>987401</th>\n",
       "      <td>5076</td>\n",
       "      <td>2954</td>\n",
       "      <td>4</td>\n",
       "      <td>963203479</td>\n",
       "      <td>M</td>\n",
       "      <td>25</td>\n",
       "      <td>2</td>\n",
       "      <td>20037</td>\n",
       "      <td>Room at the Top (1959)</td>\n",
       "      <td>Drama</td>\n",
       "    </tr>\n",
       "    <tr>\n",
       "      <th>595879</th>\n",
       "      <td>1879</td>\n",
       "      <td>154</td>\n",
       "      <td>2</td>\n",
       "      <td>974696637</td>\n",
       "      <td>M</td>\n",
       "      <td>35</td>\n",
       "      <td>0</td>\n",
       "      <td>91006</td>\n",
       "      <td>Congo (1995)</td>\n",
       "      <td>Action|Adventure|Mystery|Sci-Fi</td>\n",
       "    </tr>\n",
       "    <tr>\n",
       "      <th>101376</th>\n",
       "      <td>3480</td>\n",
       "      <td>3238</td>\n",
       "      <td>3</td>\n",
       "      <td>968735187</td>\n",
       "      <td>M</td>\n",
       "      <td>18</td>\n",
       "      <td>4</td>\n",
       "      <td>94122</td>\n",
       "      <td>Close Encounters of the Third Kind (1977)</td>\n",
       "      <td>Drama|Sci-Fi</td>\n",
       "    </tr>\n",
       "    <tr>\n",
       "      <th>424887</th>\n",
       "      <td>3682</td>\n",
       "      <td>1160</td>\n",
       "      <td>3</td>\n",
       "      <td>966350718</td>\n",
       "      <td>M</td>\n",
       "      <td>25</td>\n",
       "      <td>2</td>\n",
       "      <td>30606</td>\n",
       "      <td>Chinatown (1974)</td>\n",
       "      <td>Film-Noir|Mystery|Thriller</td>\n",
       "    </tr>\n",
       "  </tbody>\n",
       "</table>\n",
       "</div>"
      ],
      "text/plain": [
       "        user_id  movie_id  rating  timestamp gender  age  occupation    zip  \\\n",
       "332277     4027      3291       2  966107444      M   25           4  02140   \n",
       "987401     5076      2954       4  963203479      M   25           2  20037   \n",
       "595879     1879       154       2  974696637      M   35           0  91006   \n",
       "101376     3480      3238       3  968735187      M   18           4  94122   \n",
       "424887     3682      1160       3  966350718      M   25           2  30606   \n",
       "\n",
       "                                            title  \\\n",
       "332277                              Arthur (1981)   \n",
       "987401                     Room at the Top (1959)   \n",
       "595879                               Congo (1995)   \n",
       "101376  Close Encounters of the Third Kind (1977)   \n",
       "424887                           Chinatown (1974)   \n",
       "\n",
       "                                 genres  \n",
       "332277                   Comedy|Romance  \n",
       "987401                            Drama  \n",
       "595879  Action|Adventure|Mystery|Sci-Fi  \n",
       "101376                     Drama|Sci-Fi  \n",
       "424887       Film-Noir|Mystery|Thriller  "
      ]
     },
     "execution_count": 104,
     "metadata": {},
     "output_type": "execute_result"
    }
   ],
   "source": [
    "test_set.head()"
   ]
  },
  {
   "cell_type": "code",
   "execution_count": 105,
   "metadata": {},
   "outputs": [
    {
     "data": {
      "text/plain": [
       "user_id\n",
       "14      0.2\n",
       "21      0.2\n",
       "30      0.2\n",
       "32      0.2\n",
       "46      0.2\n",
       "       ... \n",
       "6015    0.2\n",
       "6024    0.2\n",
       "6027    0.2\n",
       "6034    0.2\n",
       "6035    0.2\n",
       "Name: movie_id, Length: 552, dtype: float64"
      ]
     },
     "execution_count": 105,
     "metadata": {},
     "output_type": "execute_result"
    }
   ],
   "source": [
    "# Agafem el 20% de les pelis que ha consumit cada usuari de test \n",
    "groupby_count = test_set.groupby('user_id')['movie_id'].count()*0.2\n",
    "groupby_count"
   ]
  },
  {
   "cell_type": "markdown",
   "metadata": {},
   "source": [
    "Seleccionem la posició 1 i aquest use_id serà el que usarem pel codi d'exemple (que després haureu de replicar)."
   ]
  },
  {
   "cell_type": "code",
   "execution_count": 106,
   "metadata": {},
   "outputs": [
    {
     "data": {
      "text/plain": [
       "user_id     21.0\n",
       "movie_id     0.2\n",
       "Name: 1, dtype: float64"
      ]
     },
     "execution_count": 106,
     "metadata": {},
     "output_type": "execute_result"
    }
   ],
   "source": [
    "groupby_count.reset_index().iloc[1]"
   ]
  },
  {
   "cell_type": "code",
   "execution_count": 107,
   "metadata": {},
   "outputs": [],
   "source": [
    "n_test_samples = int(groupby_count.reset_index().iloc[1]['movie_id'])\n",
    "u = groupby_count.reset_index().iloc[1]['user_id']"
   ]
  },
  {
   "cell_type": "code",
   "execution_count": 108,
   "metadata": {},
   "outputs": [
    {
     "name": "stdout",
     "output_type": "stream",
     "text": [
      "TOTAL SAMPLES OF THE USER: 1\n",
      "TOTAL SAMPLES OF THE USER IN TEST SET: 0\n"
     ]
    }
   ],
   "source": [
    "test_set_user = test_set[test_set['user_id'] == u]\n",
    "frame_test = test_set_user.sample(n_test_samples)\n",
    "print(\"TOTAL SAMPLES OF THE USER: \" + str(len(test_set_user)))\n",
    "print(\"TOTAL SAMPLES OF THE USER IN TEST SET: \" + str(len(frame_test)))"
   ]
  },
  {
   "cell_type": "code",
   "execution_count": 109,
   "metadata": {},
   "outputs": [
    {
     "data": {
      "text/plain": [
       "1"
      ]
     },
     "execution_count": 109,
     "metadata": {},
     "output_type": "execute_result"
    }
   ],
   "source": [
    "len(test_set_user.index)"
   ]
  },
  {
   "cell_type": "code",
   "execution_count": 110,
   "metadata": {},
   "outputs": [
    {
     "name": "stdout",
     "output_type": "stream",
     "text": [
      "TOTAL SAMPLES OF THE USER IN TRAIN SET: 1\n"
     ]
    }
   ],
   "source": [
    "frame_train = test_set_user[~test_set_user.index.isin(frame_test.index)]\n",
    "print(\"TOTAL SAMPLES OF THE USER IN TRAIN SET: \" + str(len(frame_train)))"
   ]
  },
  {
   "cell_type": "code",
   "execution_count": 111,
   "metadata": {},
   "outputs": [],
   "source": [
    "assert len(frame_train) + len(frame_test) == len(test_set_user)"
   ]
  },
  {
   "cell_type": "code",
   "execution_count": 112,
   "metadata": {},
   "outputs": [],
   "source": [
    "def add_testdata(traindf, test_set):\n",
    "    \"\"\"\n",
    "    Retorna els N usuaris més similars basat en la correlació de Pearson\n",
    "    \n",
    "    :param traindf: dataframe que conté les dades de train\n",
    "    :param test_set: dataframe que conté les dades de test\n",
    "\n",
    "    :return : \n",
    "        - :param 1st: dataframe que conté les dades de train juntament amb el 80% de test seleccionat\n",
    "        - :param 2nd: dataframe que conté les dades de test que queden (20% restant)\n",
    "    \"\"\"\n",
    "    \n",
    "    test_appended = pd.DataFrame()\n",
    "    train_appended = pd.DataFrame()\n",
    "    groupby_count = test_set.groupby('user_id')['movie_id'].count()*0.2\n",
    "\n",
    "    for i in range(len(groupby_count)):\n",
    "        n_test_samples = int(groupby_count.reset_index().iloc[i]['movie_id'])\n",
    "        user = groupby_count.reset_index().iloc[i]['user_id']\n",
    "        test_set_user = test_set[test_set['user_id']==user]\n",
    "        test = test_set_user.sample(n_test_samples)\n",
    "        train = test_set_user[~test_set_user.index.isin(test.index)]\n",
    "        test_appended = pd.concat((test_appended, test))\n",
    "        train_appended = pd.concat((train_appended, train))\n",
    "    return pd.concat((traindf, train_appended)), test_appended"
   ]
  },
  {
   "cell_type": "code",
   "execution_count": 113,
   "metadata": {},
   "outputs": [],
   "source": [
    "train, test = add_testdata(train_set, test_set)"
   ]
  },
  {
   "cell_type": "code",
   "execution_count": 114,
   "metadata": {},
   "outputs": [
    {
     "data": {
      "text/plain": [
       "(6040, 10)"
      ]
     },
     "execution_count": 114,
     "metadata": {},
     "output_type": "execute_result"
    }
   ],
   "source": [
    "train.shape"
   ]
  },
  {
   "cell_type": "code",
   "execution_count": 115,
   "metadata": {},
   "outputs": [
    {
     "data": {
      "text/plain": [
       "(0, 10)"
      ]
     },
     "execution_count": 115,
     "metadata": {},
     "output_type": "execute_result"
    }
   ],
   "source": [
    "test.shape"
   ]
  },
  {
   "cell_type": "markdown",
   "metadata": {},
   "source": [
    "#### -SECCIÓ 3:"
   ]
  },
  {
   "cell_type": "markdown",
   "metadata": {},
   "source": [
    "Fes una funció usant **np.abs** que serveixi per evaluar el nostre sistema. **(PISTA:)** La funció ha de mesurar la diferencia en mitjana de la llista de ratings originals amb la llista de ratings predida."
   ]
  },
  {
   "cell_type": "code",
   "execution_count": null,
   "metadata": {},
   "outputs": [],
   "source": [
    "def evaluateRecommendations(train, test, m, n, sim):\n",
    "    \"\"\"\n",
    "    Retorna l'error generat pel model\n",
    "    \n",
    "    :param DataFrame: dataframe que conté totes les dades\n",
    "    :param userID: usuari respecte al qual fem la recomanació\n",
    "    :param m: nombre d'usuaris que volem per fer la recomanació\n",
    "    :param n: nombre de pelis a retornar\n",
    "    :param sim: matriu de similitud\n",
    "    :return : Escalar (float) corresponent al MAE\n",
    "    \"\"\"\n",
    "    \n",
    "    # la vostra solució \n",
    "        \n",
    "    return 0"
   ]
  },
  {
   "cell_type": "code",
   "execution_count": null,
   "metadata": {},
   "outputs": [],
   "source": [
    "t = datetime.datetime.now()\n",
    "mae = evaluateRecommendations(train, test, 50, 10, sim)\n",
    "t = datetime.datetime.now()-t\n",
    "print(str(t))"
   ]
  },
  {
   "cell_type": "code",
   "execution_count": null,
   "metadata": {},
   "outputs": [],
   "source": [
    "mae"
   ]
  },
  {
   "cell_type": "markdown",
   "metadata": {},
   "source": [
    "### 3.8. VUITÉ (I ÚTLIM) EXERCICI\n",
    "\n",
    "\n",
    "**Que surt més a compte, fer un recomanador unic pels dos sexes o un per cada sexe?** Justifica la resposta per escrit i amb el codi necessari."
   ]
  },
  {
   "cell_type": "markdown",
   "metadata": {},
   "source": [
    "> RESPOSTA"
   ]
  },
  {
   "cell_type": "code",
   "execution_count": null,
   "metadata": {},
   "outputs": [],
   "source": [
    "# la vostra solució aquí"
   ]
  }
 ],
 "metadata": {
  "colab": {
   "collapsed_sections": [
    "jA23uCs6wksC",
    "9rsNZQEvueYW",
    "AnjjZz6Sr_de"
   ],
   "provenance": []
  },
  "kernelspec": {
   "display_name": "Python 3.8.14 64-bit",
   "language": "python",
   "name": "python3"
  },
  "language_info": {
   "codemirror_mode": {
    "name": "ipython",
    "version": 3
   },
   "file_extension": ".py",
   "mimetype": "text/x-python",
   "name": "python",
   "nbconvert_exporter": "python",
   "pygments_lexer": "ipython3",
   "version": "3.8.14"
  },
  "vscode": {
   "interpreter": {
    "hash": "0adcc2737ebf6a4a119f135174df96668767fca1ef1112612db5ecadf2b6d608"
   }
  }
 },
 "nbformat": 4,
 "nbformat_minor": 4
}
